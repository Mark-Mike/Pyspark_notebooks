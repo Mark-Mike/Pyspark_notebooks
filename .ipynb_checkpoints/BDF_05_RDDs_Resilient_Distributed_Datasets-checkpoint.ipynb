{
 "cells": [
  {
   "cell_type": "markdown",
   "metadata": {
    "colab_type": "text",
    "id": "view-in-github"
   },
   "source": [
    "<a href=\"https://colab.research.google.com/github/jalorenzo/SparkNotebookColab/blob/master/BDF_05_RDDs_Resilient_Distributed_Datasets.ipynb\" target=\"_parent\"><img src=\"https://colab.research.google.com/assets/colab-badge.svg\" alt=\"Open In Colab\"/></a>"
   ]
  },
  {
   "cell_type": "markdown",
   "metadata": {
    "id": "qvy135v4KPHL"
   },
   "source": [
    "#00 - Configuration of Apache Spark on Collaboratory\n",
    "\n",
    "\n",
    "\n"
   ]
  },
  {
   "cell_type": "markdown",
   "metadata": {
    "id": "Iuen2fmUKSCQ"
   },
   "source": [
    "###Installing Java, Spark, and Findspark\n",
    "\n",
    "\n",
    "---\n",
    "\n",
    "\n",
    "This code installs Apache Spark 2.2.1, Java 8, and [Findspark](https://github.com/minrk/findspark), a library that makes it easy for Python to find Spark."
   ]
  },
  {
   "cell_type": "code",
   "execution_count": null,
   "metadata": {
    "id": "KsAfQ0CrgnWf"
   },
   "outputs": [],
   "source": [
    "!apt-get update\n",
    "!apt-get install openjdk-8-jdk-headless -qq > /dev/null\n",
    "!wget  http://apache.osuosl.org/spark/spark-3.3.1/spark-3.3.1-bin-hadoop3.tgz  \n",
    "!tar xf spark-3.3.1-bin-hadoop3.tgz  \n",
    "!rm spark-3.3.1-bin-hadoop3.tgz    \n",
    "!pip install -q findspark"
   ]
  },
  {
   "cell_type": "markdown",
   "metadata": {
    "id": "OFKUhFm4KZgM"
   },
   "source": [
    "### Set Environment Variables\n",
    "Set the locations where Spark and Java are installed.\n"
   ]
  },
  {
   "cell_type": "code",
   "execution_count": null,
   "metadata": {
    "id": "hiOoj3rUgnVx"
   },
   "outputs": [],
   "source": [
    "import os\n",
    "os.environ[\"JAVA_HOME\"] = \"/usr/lib/jvm/java-8-openjdk-amd64\"\n",
    "os.environ[\"SPARK_HOME\"] = \"/content/spark/\"\n",
    "os.environ[\"DRIVE_DATA\"] = \"/content/gdrive/My Drive/Enseignement/2022-2023/ING3/HPDA/BigDataFrameworks/data/\"\n",
    "\n",
    "!rm /content/spark\n",
    "!ln -s /content/spark-3.3.1-bin-hadoop3 /content/spark\n",
    "!export SPARK_HOME=/content/spark\n",
    "!export PATH=$PATH:$SPARK_HOME/bin:$SPARK_HOME/sbin\n",
    "!echo $SPARK_HOME\n",
    "!env |grep  \"DRIVE_DATA\""
   ]
  },
  {
   "cell_type": "markdown",
   "metadata": {
    "id": "Q5zSFkyOKewE"
   },
   "source": [
    "### Start a SparkSession\n",
    "This will start a local Spark session."
   ]
  },
  {
   "cell_type": "code",
   "execution_count": 71,
   "metadata": {},
   "outputs": [
    {
     "name": "stdout",
     "output_type": "stream",
     "text": [
      "Reading package lists... Done\n",
      "E: List directory /var/lib/apt/lists/partial is missing. - Acquire (13: Permission denied)\n"
     ]
    }
   ],
   "source": [
    "!apt-get update\n",
    "#!apt-get install -y openjdk-8-jre \n",
    "#!apt-get install openjdk-8-jdk-headless -qq > /dev/null"
   ]
  },
  {
   "cell_type": "code",
   "execution_count": null,
   "metadata": {
    "id": "VoTPRSa-KK5C"
   },
   "outputs": [],
   "source": [
    "!python -V\n",
    "\n",
    "import findspark\n",
    "findspark.init()\n",
    "\n",
    "from pyspark import SparkContext\n",
    "sc = SparkContext.getOrCreate()\n",
    "\n",
    "# Example: shows the PySpark version\n",
    "print(\"PySpark version {0}\".format(sc.version))\n",
    "\n",
    "# Example: parallelise an array and show the 2 first elements\n",
    "sc.parallelize([2, 3, 4, 5, 6]).cache().take(2)"
   ]
  },
  {
   "cell_type": "code",
   "execution_count": 5,
   "metadata": {
    "id": "AhW9r4HgKK3q"
   },
   "outputs": [
    {
     "name": "stderr",
     "output_type": "stream",
     "text": [
      "/usr/local/lib/python3.9/dist-packages/pyspark/bin/load-spark-env.sh: line 68: ps: command not found\n",
      "Setting default log level to \"WARN\".\n",
      "To adjust logging level use sc.setLogLevel(newLevel). For SparkR, use setLogLevel(newLevel).\n"
     ]
    },
    {
     "name": "stdout",
     "output_type": "stream",
     "text": [
      "22/12/23 22:17:54 WARN NativeCodeLoader: Unable to load native-hadoop library for your platform... using builtin-java classes where applicable\n",
      "22/12/23 22:17:58 WARN Utils: Service 'SparkUI' could not bind on port 4040. Attempting port 4041.\n"
     ]
    }
   ],
   "source": [
    "from pyspark.sql import SparkSession\n",
    "# We create a SparkSession object (or we retrieve it if it is already created)\n",
    "spark = SparkSession \\\n",
    ".builder \\\n",
    ".appName(\"My application\") \\\n",
    ".config(\"spark.some.config.option\", \"some-value\") \\\n",
    ".master(\"local[4]\") \\\n",
    ".getOrCreate()\n",
    "# We get the SparkContext\n",
    "sc = spark.sparkContext"
   ]
  },
  {
   "cell_type": "code",
   "execution_count": null,
   "metadata": {
    "id": "0mLhZ2iMKK1W"
   },
   "outputs": [],
   "source": [
    "# Mount Google Drive\n",
    "from google.colab import drive\n",
    "drive.mount('/content/gdrive')"
   ]
  },
  {
   "cell_type": "markdown",
   "metadata": {
    "id": "ZqCEbDANgCWJ"
   },
   "source": [
    "\n",
    "---\n",
    "\n",
    "\n",
    "# 05 - RDDs: Resilient Distributed Datasets"
   ]
  },
  {
   "cell_type": "markdown",
   "metadata": {
    "id": "mY_P1QWJgPoU"
   },
   "source": [
    "\n",
    "-   Immutable distributed collection of objects that can be manipulated in parallel. \n",
    "    - Most basic data type in Spark\n",
    "\n",
    "-   A Spark program operates on RDDs:\n",
    "\n",
    "    -   RDDs creation\n",
    "\n",
    "    -   RDDs **transformation** (map, filter, etc.)\n",
    "\n",
    "    -   **Actions** on RDDs to obtain results\n",
    "    \n",
    "    Similar to DataFrames, but they provide a more precise control on the partitioning and data distribution\n",
    "\n",
    "-   Spark automatically distributes the data and parallelises the operations"
   ]
  },
  {
   "cell_type": "markdown",
   "metadata": {
    "id": "ybw4YkQ7g_NF"
   },
   "source": [
    "## RDDs creation\n",
    "\n",
    "Two ways:\n",
    "\n",
    "1 -   By distributing a collection of objects (e.g., a list or set) in their driver program"
   ]
  },
  {
   "cell_type": "code",
   "execution_count": 6,
   "metadata": {
    "id": "cmNv36fXho6I"
   },
   "outputs": [
    {
     "name": "stderr",
     "output_type": "stream",
     "text": [
      "                                                                                \r"
     ]
    },
    {
     "name": "stdout",
     "output_type": "stream",
     "text": [
      "[1, 2, 3, 4, 5, 6, 7, 8]\n",
      "[0, 1, 2, 3, 4, 5, 6, 7, 8, 9, 10, 11, 12, 13, 14, 15, 16, 17, 18, 19, 20, 21, 22, 23, 24, 25, 26, 27, 28, 29, 30, 31, 32, 33, 34, 35, 36, 37, 38, 39, 40, 41, 42, 43, 44, 45, 46, 47, 48, 49, 50, 51, 52, 53, 54, 55, 56, 57, 58, 59, 60, 61, 62, 63, 64, 65, 66, 67, 68, 69, 70, 71, 72, 73, 74, 75, 76, 77, 78, 79, 80, 81, 82, 83, 84, 85, 86, 87, 88, 89, 90, 91, 92, 93, 94, 95, 96, 97, 98, 99]\n",
      "[1, 2, 'three', 4]\n"
     ]
    }
   ],
   "source": [
    "rdd1 = sc.parallelize([1,2,3,4,5,6,7,8])\n",
    "print(rdd1.collect())\n",
    "\n",
    "import numpy as np\n",
    "rdd2=sc.parallelize(np.array(range(100)))\n",
    "print(rdd2.collect())\n",
    "\n",
    "# RDDs accept lists of different types\n",
    "rdd5 = sc.parallelize([1,2,\"three\",4])\n",
    "print(rdd5.collect())"
   ]
  },
  {
   "cell_type": "markdown",
   "metadata": {
    "id": "G6Ue7W8XiwBq"
   },
   "source": [
    "2 -   By loading an external dataset from an input such as a file"
   ]
  },
  {
   "cell_type": "code",
   "execution_count": 7,
   "metadata": {
    "id": "A8vObfpHiu1r"
   },
   "outputs": [
    {
     "name": "stderr",
     "output_type": "stream",
     "text": [
      "[Stage 3:>                                                          (0 + 1) / 1]\r"
     ]
    },
    {
     "name": "stdout",
     "output_type": "stream",
     "text": [
      "['The Project Gutenberg EBook of Don Quijote, by Miguel de Cervantes Saavedra', '', 'This eBook is for the use of anyone anywhere at no cost and with', 'almost no restrictions whatsoever.  You may copy it, give it away or', 're-use it under the terms of the Project Gutenberg License included', 'with this eBook or online at www.gutenberg.net', '', '', 'Title: Don Quijote', '', 'Author: Miguel de Cervantes Saavedra', '', 'Posting Date: April 27, 2010 [EBook #2000]', 'Release Date: December, 1999', '', 'Language: Spanish', '', '', '*** START OF THIS PROJECT GUTENBERG EBOOK DON QUIJOTE ***', '', '', '', '', 'Produced by an anonymous Project Gutenberg volunteer. Text', 'file corrections and new HTML file by Joaquin Cuenca Abela.', '', '', '', '', '', '', '', '', '', '', '', 'El ingenioso hidalgo don Quijote de la Mancha', '', '', 'TASA', '', 'Yo, Juan Gallo de Andrada, escribano de Cámara del Rey nuestro señor, de', 'los que residen en su Consejo, certifico y doy fe que, habiendo visto por', 'los señores dél un libro intitulado El ingenioso hidalgo de la Mancha,', 'compuesto por Miguel de Cervantes Saavedra, tasaron cada pliego del dicho', 'libro a tres maravedís y medio; el cual tiene ochenta y tres pliegos, que', 'al dicho precio monta el dicho libro docientos y noventa maravedís y medio,', 'en que se ha de vender en papel; y dieron licencia para que a este precio', 'se pueda vender, y mandaron que esta tasa se ponga al principio del dicho', 'libro, y no se pueda vender sin ella. Y, para que dello conste, di la', 'presente en Valladolid, a veinte días del mes de deciembre de mil y', 'seiscientos y cuatro años.', '', 'Juan Gallo de Andrada.', '', 'TESTIMONIO DE LAS ERRATAS', '', 'Este libro no tiene cosa digna que no corresponda a su original; en', 'testimonio de lo haber correcto, di esta fee. En el Colegio de la Madre de', 'Dios de los Teólogos de la Universidad de Alcalá, en primero de diciembre', 'de 1604 años.', '', 'El licenciado Francisco Murcia de la Llana.', '', 'EL REY', '', 'Por cuanto por parte de vos, Miguel de Cervantes, nos fue fecha relación', 'que habíades compuesto un libro intitulado El ingenioso hidalgo de la', 'Mancha, el cual os había costado mucho trabajo y era muy útil y provechoso,', 'nos pedistes y suplicastes os mandásemos dar licencia y facultad para le', 'poder imprimir, y previlegio por el tiempo que fuésemos servidos, o como la', 'nuestra merced fuese; lo cual visto por los del nuestro Consejo, por cuanto', 'en el dicho libro se hicieron las diligencias que la premática últimamente', 'por nos fecha sobre la impresión de los libros dispone, fue acordado que', 'debíamos mandar dar esta nuestra cédula para vos, en la dicha razón; y nos', 'tuvímoslo por bien. Por la cual, por os hacer bien y merced, os damos', 'licencia y facultad para que vos, o la persona que vuestro poder hubiere, y', 'no otra alguna, podáis imprimir el dicho libro, intitulado El ingenioso', 'hidalgo de la Mancha, que desuso se hace mención, en todos estos nuestros', 'reinos de Castilla, por tiempo y espacio de diez años, que corran y se', 'cuenten desde el dicho día de la data desta nuestra cédula; so pena que la', 'persona o personas que, sin tener vuestro poder, lo imprimiere o vendiere,', 'o hiciere imprimir o vender, por el mesmo caso pierda la impresión que', 'hiciere, con los moldes y aparejos della; y más, incurra en pena de', 'cincuenta mil maravedís cada vez que lo contrario hiciere. La cual dicha', 'pena sea la tercia parte para la persona que lo acusare, y la otra tercia', 'parte para nuestra Cámara, y la otra tercia parte para el juez que lo', 'sentenciare. Con tanto que todas las veces que hubiéredes de hacer imprimir', 'el dicho libro, durante el tiempo de los dichos diez años, le traigáis al', 'nuestro Consejo, juntamente con el original que en él fue visto, que va', 'rubricado cada plana y firmado al fin dél de Juan Gallo de Andrada, nuestro', 'Escribano de Cámara, de los que en él residen, para saber si la dicha', 'impresión está conforme el original; o traigáis fe en pública forma de cómo', 'por corretor nombrado por nuestro mandado, se vio y corrigió la dicha', 'impresión por el original, y se imprimió conforme a él, y quedan impresas', 'las erratas por él apuntadas, para cada un libro de los que así fueren', 'impresos, para que se tase el precio que por cada volume hubiéredes de', 'haber. Y mandamos al impresor que así imprimiere el dicho libro, no imprima', 'el principio ni el primer pliego dél, ni entregue más de un solo libro con', 'el original al autor, o persona a cuya costa lo imprimiere, ni otro alguno,', 'para efeto de la dicha correción y tasa, hasta que antes y primero el dicho', 'libro esté corregido y tasado por los del nuestro Consejo; y, estando', 'hecho, y no de otra manera, pueda imprimir el dicho principio y primer', 'pliego, y sucesivamente ponga esta nuestra cédula y la aprobación, tasa y', 'erratas, so pena de caer e incurrir en las penas contenidas en las leyes y', 'premáticas destos nuestros reinos. Y mandamos a los del nuestro Consejo, y', 'a otras cualesquier justicias dellos, guarden y cumplan esta nuestra cédula', 'y lo en ella contenido. Fecha en Valladolid, a veinte y seis días del mes', 'de setiembre de mil y seiscientos y cuatro años.', '', 'YO, EL REY.', '', 'Por mandado del Rey nuestro señor:', '', 'Juan de Amezqueta.', '', 'AL DUQUE DE BÉJAR,', '', 'marqués de Gibraleón, conde de Benalcázar y Bañares, vizconde de La Puebla de', 'Alcocer, señor de las villas de Capilla, Curiel y Burguillos', '', 'En fe del buen acogimiento y honra que hace Vuestra Excelencia a toda', 'suerte de libros, como príncipe tan inclinado a favorecer las buenas artes,', 'mayormente las que por su nobleza no se abaten al servicio y granjerías del', 'vulgo, he determinado de sacar a luz al Ingenioso hidalgo don Quijote de la', 'Mancha, al abrigo del clarísimo nombre de Vuestra Excelencia, a quien, con', 'el acatamiento que debo a tanta grandeza, suplico le reciba agradablemente', 'en su protección, para que a su sombra, aunque desnudo de aquel precioso', 'ornamento de elegancia y erudición de que suelen andar vestidas las obras', 'que se componen en las casas de los hombres que saben, ose parecer', 'seguramente en el juicio de algunos que, continiéndose en los límites de su', 'ignorancia, suelen condenar con más rigor y menos justicia los trabajos', 'ajenos; que, poniendo los ojos la prudencia de Vuestra Excelencia en mi', 'buen deseo, fío que no desdeñará la cortedad de tan humilde servicio.', '', 'Miguel de Cervantes Saavedra.', '', 'PRÓLOGO', '', 'Desocupado lector: sin juramento me podrás creer que quisiera que este', 'libro, como hijo del entendimiento, fuera el más hermoso, el más gallardo y', 'más discreto que pudiera imaginarse. Pero no he podido yo contravenir al', 'orden de naturaleza; que en ella cada cosa engendra su semejante. Y así,', '¿qué podrá engendrar el estéril y mal cultivado ingenio mío, sino la', 'historia de un hijo seco, avellanado, antojadizo y lleno de pensamientos', 'varios y nunca imaginados de otro alguno, bien como quien se engendró en', 'una cárcel, donde toda incomodidad tiene su asiento y donde todo triste', 'ruido hace su habitación? El sosiego, el lugar apacible, la amenidad de los', 'campos, la serenidad de los cielos, el murmurar de las fuentes, la quietud', 'del espíritu son grande parte para que las musas más estériles se muestren', 'fecundas y ofrezcan partos al mundo que le colmen de maravilla y de', 'contento. Acontece tener un padre un hijo feo y sin gracia alguna, y el', 'amor que le tiene le pone una venda en los ojos para que no vea sus faltas,', 'antes las juzga por discreciones y lindezas y las cuenta a sus amigos por', 'agudezas y donaires. Pero yo, que, aunque parezco padre, soy padrastro de', 'Don Quijote, no quiero irme con la corriente del uso, ni suplicarte, casi', 'con las lágrimas en los ojos, como otros hacen, lector carísimo, que', 'perdones o disimules las faltas que en este mi hijo vieres; y ni eres su', 'pariente ni su amigo, y tienes tu alma en tu cuerpo y tu libre albedrío', 'como el más pintado, y estás en tu casa, donde eres señor della, como el', 'rey de sus alcabalas, y sabes lo que comúnmente se dice: que debajo de mi', 'manto, al rey mato. Todo lo cual te esenta y hace libre de todo respecto y', 'obligación; y así, puedes decir de la historia todo aquello que te', 'pareciere, sin temor que te calunien por el mal ni te premien por el bien', 'que dijeres della.', '', 'Sólo quisiera dártela monda y desnuda, sin el ornato de prólogo, ni de la', 'inumerabilidad y catálogo de los acostumbrados sonetos, epigramas y elogios', 'que al principio de los libros suelen ponerse. Porque te sé decir que,', 'aunque me costó algún trabajo componerla, ninguno tuve por mayor que hacer', 'esta prefación que vas leyendo. Muchas veces tomé la pluma para escribille,', 'y muchas la dejé, por no saber lo que escribiría; y, estando una suspenso,', 'con el papel delante, la pluma en la oreja, el codo en el bufete y la mano', 'en la mejilla, pensando lo que diría, entró a deshora un amigo mío,', 'gracioso y bien entendido, el cual, viéndome tan imaginativo, me preguntó', 'la causa; y, no encubriéndosela yo, le dije que pensaba en el prólogo que', 'había de hacer a la historia de don Quijote, y que me tenía de suerte que', 'ni quería hacerle, ni menos sacar a luz las hazañas de tan noble caballero.', '', '-Porque, ¿cómo queréis vos que no me tenga confuso el qué dirá el antiguo', 'legislador que llaman vulgo cuando vea que, al cabo de tantos años como ha', 'que duermo en el silencio del olvido, salgo ahora, con todos mis años a', 'cuestas, con una leyenda seca como un esparto, ajena de invención, menguada', 'de estilo, pobre de concetos y falta de toda erudición y doctrina; sin', 'acotaciones en las márgenes y sin anotaciones en el fin del libro, como veo', 'que están otros libros, aunque sean fabulosos y profanos, tan llenos de', 'sentencias de Aristóteles, de Platón y de toda la caterva de filósofos, que', 'admiran a los leyentes y tienen a sus autores por hombres leídos, eruditos', 'y elocuentes? ¡Pues qué, cuando citan la Divina Escritura! No dirán sino', 'que son unos santos Tomases y otros doctores de la Iglesia; guardando en', 'esto un decoro tan ingenioso, que en un renglón han pintado un enamorado', 'destraído y en otro hacen un sermoncico cristiano, que es un contento y un', 'regalo oílle o leelle. De todo esto ha de carecer mi libro, porque ni tengo', 'qué acotar en el margen, ni qué anotar en el fin, ni menos sé qué autores', 'sigo en él, para ponerlos al principio, como hacen todos, por las letras', 'del A.B.C., comenzando en Aristóteles y acabando en Xenofonte y en Zoílo o', 'Zeuxis, aunque fue maldiciente el uno y pintor el otro. También ha de', 'carecer mi libro de sonetos al principio, a lo menos de sonetos cuyos', 'autores sean duques, marqueses, condes, obispos, damas o poetas', 'celebérrimos; aunque, si yo los pidiese a dos o tres oficiales amigos, yo', 'sé que me los darían, y tales, que no les igualasen los de aquellos que', 'tienen más nombre en nuestra España. En fin, señor y amigo mío -proseguí-,', 'yo determino que el señor don Quijote se quede sepultado en sus archivos en', 'la Mancha, hasta que el cielo depare quien le adorne de tantas cosas como', 'le faltan; porque yo me hallo incapaz de remediarlas, por mi insuficiencia', 'y pocas letras, y porque naturalmente soy poltrón y perezoso de andarme', 'buscando autores que digan lo que yo me sé decir sin ellos. De aquí nace la', 'suspensión y elevamiento, amigo, en que me hallastes; bastante causa para', 'ponerme en ella la que de mí habéis oído.', '', 'Oyendo lo cual mi amigo, dándose una palmada en la frente y disparando en', 'una carga de risa, me dijo:', '', '-Por Dios, hermano, que agora me acabo de desengañar de un engaño en que he', 'estado todo el mucho tiempo que ha que os conozco, en el cual siempre os he', 'tenido por discreto y prudente en todas vuestras aciones. Pero agora veo', 'que estáis tan lejos de serlo como lo está el cielo de la tierra. ¿Cómo que', 'es posible que cosas de tan poco momento y tan fáciles de remediar puedan', 'tener fuerzas de suspender y absortar un ingenio tan maduro como el', 'vuestro, y tan hecho a romper y atropellar por otras dificultades mayores?', 'A la fe, esto no nace de falta de habilidad, sino de sobra de pereza y', 'penuria de discurso. ¿Queréis ver si es verdad lo que digo? Pues estadme', 'atento y veréis cómo, en un abrir y cerrar de ojos, confundo todas vuestras', 'dificultades y remedio todas las faltas que decís que os suspenden y', 'acobardan para dejar de sacar a la luz del mundo la historia de vuestro', 'famoso don Quijote, luz y espejo de toda la caballería andante.', '', '-Decid -le repliqué yo, oyendo lo que me decía-: ¿de qué modo pensáis', 'llenar el vacío de mi temor y reducir a claridad el caos de mi confusión?', '', 'A lo cual él dijo:', '', '-Lo primero en que reparáis de los sonetos, epigramas o elogios que os', 'faltan para el principio, y que sean de personajes graves y de título, se', 'puede remediar en que vos mesmo toméis algún trabajo en hacerlos, y después', 'los podéis bautizar y poner el nombre que quisiéredes, ahijándolos al', 'Preste Juan de las Indias o al Emperador de Trapisonda, de quien yo sé que', 'hay noticia que fueron famosos poetas; y cuando no lo hayan sido y hubiere', 'algunos pedantes y bachilleres que por detrás os muerdan y murmuren desta', 'verdad, no se os dé dos maravedís; porque, ya que os averigüen la mentira,', 'no os han de cortar la mano con que lo escribistes.', '', '»En lo de citar en las márgenes los libros y autores de donde sacáredes las', 'sentencias y dichos que pusiéredes en vuestra historia, no hay más sino', 'hacer, de manera que venga a pelo, algunas sentencias o latines que vos', 'sepáis de memoria, o, a lo menos, que os cuesten poco trabajo el buscalle;', 'como será poner, tratando de libertad y cautiverio:', '', '   Non bene pro toto libertas venditur auro.', '', 'Y luego, en el margen, citar a Horacio, o a quien lo dijo. Si tratáredes', 'del poder de la muerte, acudir luego con:', '', '   Pallida mors aequo pulsat pede pauperum tabernas,', '   Regumque turres.', '', 'Si de la amistad y amor que Dios manda que se tenga al enemigo, entraros', 'luego al punto por la Escritura Divina, que lo podéis hacer con tantico de', 'curiosidad, y decir las palabras, por lo menos, del mismo Dios: Ego autem', 'dico vobis: diligite inimicos vestros. Si tratáredes de malos pensamientos,', 'acudid con el Evangelio: De corde exeunt cogitationes malae. Si de la', 'instabilidad de los amigos, ahí está Catón, que os dará su dístico:', '', '   Donec eris felix, multos numerabis amicos,', '   tempora si fuerint nubila, solus eris.', '', 'Y con estos latinicos y otros tales os tendrán siquiera por gramático, que', 'el serlo no es de poca honra y provecho el día de hoy.', '', '»En lo que toca el poner anotaciones al fin del libro, seguramente lo', 'podéis hacer desta manera: si nombráis algún gigante en vuestro libro,', 'hacelde que sea el gigante Golías, y con sólo esto, que os costará casi', 'nada, tenéis una grande anotación, pues podéis poner: El gigante Golías, o', 'Goliat, fue un filisteo a quien el pastor David mató de una gran pedrada en', 'el valle de Terebinto, según se cuenta en el Libro de los Reyes, en el', 'capítulo que vos halláredes que se escribe. Tras esto, para mostraros', 'hombre erudito en letras humanas y cosmógrafo, haced de modo como en', 'vuestra historia se nombre el río Tajo, y veréisos luego con otra famosa', 'anotación, poniendo: El río Tajo fue así dicho por un rey de las Españas;', 'tiene su nacimiento en tal lugar y muere en el mar océano, besando los', 'muros de la famosa ciudad de Lisboa; y es opinión que tiene las arenas de', 'oro, etc. Si tratáredes de ladrones, yo os diré la historia de Caco, que la', 'sé de coro; si de mujeres rameras, ahí está el obispo de Mondoñedo, que os', 'prestará a Lamia, Laida y Flora, cuya anotación os dará gran crédito; si de', 'crueles, Ovidio os entregará a Medea; si de encantadores y hechiceras,', 'Homero tiene a Calipso, y Virgilio a Circe; si de capitanes valerosos, el', 'mesmo Julio César os prestará a sí mismo en sus Comentarios, y Plutarco os', 'dará mil Alejandros. Si tratáredes de amores, con dos onzas que sepáis de', 'la lengua toscana, toparéis con León Hebreo, que os hincha las medidas. Y', 'si no queréis andaros por tierras extrañas, en vuestra casa tenéis a', 'Fonseca, Del amor de Dios, donde se cifra todo lo que vos y el más', 'ingenioso acertare a desear en tal materia. En resolución, no hay más sino', 'que vos procuréis nombrar estos nombres, o tocar estas historias en la', 'vuestra, que aquí he dicho, y dejadme a mí el cargo de poner las', 'anotaciones y acotaciones; que yo os voto a tal de llenaros las márgenes y', 'de gastar cuatro pliegos en el fin del libro.', '', '»Vengamos ahora a la citación de los autores que los otros libros tienen,', 'que en el vuestro os faltan. El remedio que esto tiene es muy fácil, porque', 'no habéis de hacer otra cosa que buscar un libro que los acote todos, desde', 'la A hasta la Z, como vos decís. Pues ese mismo abecedario pondréis vos en', 'vuestro libro; que, puesto que a la clara se vea la mentira, por la poca', 'necesidad que vos teníades de aprovecharos dellos, no importa nada; y quizá', 'alguno habrá tan simple, que crea que de todos os habéis aprovechado en la', 'simple y sencilla historia vuestra; y, cuando no sirva de otra cosa, por lo', 'menos servirá aquel largo catálogo de autores a dar de improviso autoridad', 'al libro. Y más, que no habrá quien se ponga a averiguar si los seguistes o', 'no los seguistes, no yéndole nada en ello. Cuanto más que, si bien caigo en', 'la cuenta, este vuestro libro no tiene necesidad de ninguna cosa de', 'aquellas que vos decís que le falta, porque todo él es una invectiva contra', 'los libros de caballerías, de quien nunca se acordó Aristóteles, ni dijo', 'nada San Basilio, ni alcanzó Cicerón; ni caen debajo de la cuenta de sus', 'fabulosos disparates las puntualidades de la verdad, ni las observaciones', 'de la astrología; ni le son de importancia las medidas geométricas, ni la', 'confutación de los argumentos de quien se sirve la retórica; ni tiene para', 'qué predicar a ninguno, mezclando lo humano con lo divino, que es un género', 'de mezcla de quien no se ha de vestir ningún cristiano entendimiento. Sólo', 'tiene que aprovecharse de la imitación en lo que fuere escribiendo; que,', 'cuanto ella fuere más perfecta, tanto mejor será lo que se escribiere. Y,', 'pues esta vuestra escritura no mira a más que a deshacer la autoridad y', 'cabida que en el mundo y en el vulgo tienen los libros de caballerías, no', 'hay para qué andéis mendigando sentencias de filósofos, consejos de la', 'Divina Escritura, fábulas de poetas, oraciones de retóricos, milagros de', 'santos, sino procurar que a la llana, con palabras significantes, honestas', 'y bien colocadas, salga vuestra oración y período sonoro y festivo;', 'pintando, en todo lo que alcanzáredes y fuere posible, vuestra intención,', 'dando a entender vuestros conceptos sin intricarlos y escurecerlos.', 'Procurad también que, leyendo vuestra historia, el melancólico se mueva a', 'risa, el risueño la acreciente, el simple no se enfade, el discreto se', 'admire de la invención, el grave no la desprecie, ni el prudente deje de', 'alabarla. En efecto, llevad la mira puesta a derribar la máquina mal', 'fundada destos caballerescos libros, aborrecidos de tantos y alabados de', 'muchos más; que si esto alcanzásedes, no habríades alcanzado poco.', '', 'Con silencio grande estuve escuchando lo que mi amigo me decía, y de tal', 'manera se imprimieron en mí sus razones que, sin ponerlas en disputa, las', 'aprobé por buenas y de ellas mismas quise hacer este prólogo; en el cual', 'verás, lector suave, la discreción de mi amigo, la buena ventura mía en', 'hallar en tiempo tan necesitado tal consejero, y el alivio tuyo en hallar', 'tan sincera y tan sin revueltas la historia del famoso don Quijote de la', 'Mancha, de quien hay opinión, por todos los habitadores del distrito del', 'campo de Montiel, que fue el más casto enamorado y el más valiente', 'caballero que de muchos años a esta parte se vio en aquellos contornos. Yo', 'no quiero encarecerte el servicio que te hago en darte a conocer tan noble', 'y tan honrado caballero, pero quiero que me agradezcas el conocimiento que', 'tendrás del famoso Sancho Panza, su escudero, en quien, a mi parecer, te', 'doy cifradas todas las gracias escuderiles que en la caterva de los libros', 'vanos de caballerías están esparcidas.', '', 'Y con esto, Dios te dé salud, y a mí no olvide. Vale.', '', 'AL LIBRO DE DON QUIJOTE DE LA MANCHA', '', '   Urganda la desconocida', '   Si de llegarte a los bue-,', '   libro, fueres con letu-,', '   no te dirá el boquirru-', '   que no pones bien los de-.', '   Mas si el pan no se te cue-', '   por ir a manos de idio-,', '   verás de manos a bo-,', '   aun no dar una en el cla-,', '   si bien se comen las ma-', '   por mostrar que son curio-.', '   Y, pues la expiriencia ense-', '   que el que a buen árbol se arri-', '   buena sombra le cobi-,', '   en Béjar tu buena estre-', '   un árbol real te ofre-', '   que da príncipes por fru-,', '   en el cual floreció un du-', '   que es nuevo Alejandro Ma-:', '   llega a su sombra, que a osa-', '   favorece la fortu-.', '   De un noble hidalgo manche-', '   contarás las aventu-,', '   a quien ociosas letu-,', '   trastornaron la cabe-:', '   damas, armas, caballe-,', '   le provocaron de mo-,', '   que, cual Orlando furio-,', '   templado a lo enamora-,', '   alcanzó a fuerza de bra-', '   a Dulcinea del Tobo-.', '   No indiscretos hieroglí-', '   estampes en el escu-,', '   que, cuando es todo figu-,', '   con ruines puntos se envi-.', '   Si en la dirección te humi-,', '', '   no dirá, mofante, algu-:', \"   ''¡Qué don Álvaro de Lu-,\", '   qué Anibal el de Carta-,', '   qué rey Francisco en Espa-', \"   se queja de la Fortu-!''\", '   Pues al cielo no le plu-', '   que salieses tan ladi-', '   como el negro Juan Lati-,', '   hablar latines rehú-.', '   No me despuntes de agu-,', '   ni me alegues con filó-,', '   porque, torciendo la bo-,', '   dirá el que entiende la le-,', '   no un palmo de las ore-:', \"   ''¿Para qué conmigo flo-?''\", '   No te metas en dibu-,', '   ni en saber vidas aje-,', '   que, en lo que no va ni vie-,', '', '   pasar de largo es cordu-.', '   Que suelen en caperu-', '   darles a los que grace-;', '   mas tú quémate las ce-', '   sólo en cobrar buena fa-;', '   que el que imprime neceda-', '   dalas a censo perpe-.', '   Advierte que es desati-,', '   siendo de vidrio el teja-,', '   tomar piedras en las ma-', '   para tirar al veci-.', '   Deja que el hombre de jui-,', '   en las obras que compo-,', '   se vaya con pies de plo-;', '   que el que saca a luz pape-', '   para entretener donce-', '   escribe a tontas y a lo-.', '', 'AMADÍS DE GAULA A DON QUIJOTE DE LA MANCHA', '', 'Soneto', '', '   Tú, que imitaste la llorosa vida', '   que tuve, ausente y desdeñado sobre', '   el gran ribazo de la Peña Pobre,', '   de alegre a penitencia reducida;', '   tú, a quien los ojos dieron la bebida', '   de abundante licor, aunque salobre,', '   y alzándote la plata, estaño y cobre,', '   te dio la tierra en tierra la comida,', '   vive seguro de que eternamente,', '   en tanto, al menos, que en la cuarta esfera,', '   sus caballos aguije el rubio Apolo,', '   tendrás claro renombre de valiente;', '   tu patria será en todas la primera;', '   tu sabio autor, al mundo único y solo.', '', 'DON BELIANÍS DE GRECIA A DON QUIJOTE DE LA MANCHA', '', 'Soneto', '', '   Rompí, corté, abollé, y dije y hice', '   más que en el orbe caballero andante;', '   fui diestro, fui valiente, fui arrogante;', '   mil agravios vengué, cien mil deshice.', '   Hazañas di a la Fama que eternice;', '   fui comedido y regalado amante;', '   fue enano para mí todo gigante,', '   y al duelo en cualquier punto satisfice.', '   Tuve a mis pies postrada la Fortuna,', '   y trajo del copete mi cordura', '   a la calva Ocasión al estricote.', '   Más, aunque sobre el cuerno de la luna', '   siempre se vio encumbrada mi ventura,', '   tus proezas envidio, ¡oh gran Quijote!', '', 'LA SEÑORA ORIANA A DULCINEA DEL TOBOSO', '', 'Soneto', '', '   ¡Oh, quién tuviera, hermosa Dulcinea,', '   por más comodidad y más reposo,', '   a Miraflores puesto en el Toboso,', '   y trocara sus Londres con tu aldea!', '   ¡Oh, quién de tus deseos y librea', '   alma y cuerpo adornara, y del famoso', '   caballero que hiciste venturoso', '   mirara alguna desigual pelea!', '   ¡Oh, quién tan castamente se escapara', '   del señor Amadís como tú hiciste', '   del comedido hidalgo don Quijote!', '   Que así envidiada fuera, y no envidiara,', '   y fuera alegre el tiempo que fue triste,', '   y gozara los gustos sin escote.', '', 'GANDALÍN, ESCUDERO DE AMADÍS DE GAULA, A SANCHO PANZA, ESCUDERO DE DON QUIJOTE', '', 'Soneto', '', '   Salve, varón famoso, a quien Fortuna,', '   cuando en el trato escuderil te puso,', '   tan blanda y cuerdamente lo dispuso,', '   que lo pasaste sin desgracia alguna.', '   Ya la azada o la hoz poco repugna', '   al andante ejercicio; ya está en uso', '   la llaneza escudera, con que acuso', '   al soberbio que intenta hollar la luna.', '   Envidio a tu jumento y a tu nombre,', '   y a tus alforjas igualmente invidio,', '   que mostraron tu cuerda providencia.', '   Salve otra vez, ¡oh Sancho!, tan buen hombre,', '   que a solo tú nuestro español Ovidio', '   con buzcorona te hace reverencia.', '', 'DEL DONOSO, POETA ENTREVERADO, A SANCHO PANZA Y ROCINANTE', '', '   Soy Sancho Panza, escude-', '   del manchego don Quijo-.', '   Puse pies en polvoro-,', '   por vivir a lo discre-;', '   que el tácito Villadie-', '   toda su razón de esta-', '   cifró en una retira-,', '   según siente Celesti-,', '   libro, en mi opinión, divi-', '   si encubriera más lo huma-.', '   A Rocinante', '   Soy Rocinante, el famo-', '   bisnieto del gran Babie-.', '   Por pecados de flaque-,', '   fui a poder de un don Quijo-.', '   Parejas corrí a lo flo-;', '   mas, por uña de caba-,', '   no se me escapó ceba-;', '   que esto saqué a Lazari-', '   cuando, para hurtar el vi-', '   al ciego, le di la pa-.', '', 'ORLANDO FURIOSO A DON QUIJOTE DE LA MANCHA', '', 'Soneto', '', '   Si no eres par, tampoco le has tenido:', '   que par pudieras ser entre mil pares;', '   ni puede haberle donde tú te hallares,', '   invito vencedor, jamás vencido.', '   Orlando soy, Quijote, que, perdido', '   por Angélica, vi remotos mares,', '   ofreciendo a la Fama en sus altares', '   aquel valor que respetó el olvido.', '   No puedo ser tu igual; que este decoro', '   se debe a tus proezas y a tu fama,', '   puesto que, como yo, perdiste el seso.', '   Mas serlo has mío, si al soberbio moro', '   y cita fiero domas, que hoy nos llama', '   iguales en amor con mal suceso.', '', 'EL CABALLERO DEL FEBO A DON QUIJOTE DE LA MANCHA', '', 'Soneto', '', '   A vuestra espada no igualó la mía,', '   Febo español, curioso cortesano,', '   ni a la alta gloria de valor mi mano,', '   que rayo fue do nace y muere el día.', '   Imperios desprecié; la monarquía', '   que me ofreció el Oriente rojo en vano', '   dejé, por ver el rostro soberano', '   de Claridiana, aurora hermosa mía.', '   Améla por milagro único y raro,', '   y, ausente en su desgracia, el propio infierno', '   temió mi brazo, que domó su rabia.', '   Mas vos, godo Quijote, ilustre y claro,', '   por Dulcinea sois al mundo eterno,', '   y ella, por vos, famosa, honesta y sabia.', '', 'DE SOLISDÁN A DON QUIJOTE DE LA MANCHA', '', 'Soneto', '', '   Maguer, señor Quijote, que sandeces', '   vos tengan el cerbelo derrumbado,', '   nunca seréis de alguno reprochado', '   por home de obras viles y soeces.', '   Serán vuesas fazañas los joeces,', '   pues tuertos desfaciendo habéis andado,', '   siendo vegadas mil apaleado', '   por follones cautivos y raheces.', '   Y si la vuesa linda Dulcinea', '   desaguisado contra vos comete,', '   ni a vuesas cuitas muestra buen talante,', '   en tal desmán, vueso conorte sea', '   que Sancho Panza fue mal alcagüete,', '   necio él, dura ella, y vos no amante.', '', 'DIÁLOGO ENTRE BABIECA Y ROCINANTE', '', 'Soneto', '', '   B. ¿Cómo estáis, Rocinante, tan delgado?', '   R. Porque nunca se come, y se trabaja.', '   B. Pues, ¿qué es de la cebada y de la paja?', '   R. No me deja mi amo ni un bocado.', '   B. Andá, señor, que estáis muy mal criado,', '   pues vuestra lengua de asno al amo ultraja.', '   R. Asno se es de la cuna a la mortaja.', '   ¿Queréislo ver? Miraldo enamorado.', '   B. ¿Es necedad amar? R. No es gran prudencia.', '   B. Metafísico estáis. R. Es que no como.', '   B. Quejaos del escudero. R. No es bastante.', '   ¿Cómo me he de quejar en mi dolencia,', '   si el amo y escudero o mayordomo', '   son tan rocines como Rocinante?', '', 'Primera parte del ingenioso hidalgo don Quijote de la Mancha', '', '', '', '', '', 'Capítulo primero. Que trata de la condición y ejercicio del famoso hidalgo', 'don Quijote de la Mancha', '', '', 'En un lugar de la Mancha, de cuyo nombre no quiero acordarme, no ha mucho', 'tiempo que vivía un hidalgo de los de lanza en astillero, adarga antigua,', 'rocín flaco y galgo corredor. Una olla de algo más vaca que carnero,', 'salpicón las más noches, duelos y quebrantos los sábados, lantejas los', 'viernes, algún palomino de añadidura los domingos, consumían las tres', 'partes de su hacienda. El resto della concluían sayo de velarte, calzas de', 'velludo para las fiestas, con sus pantuflos de lo mesmo, y los días de', 'entresemana se honraba con su vellorí de lo más fino. Tenía en su casa una', 'ama que pasaba de los cuarenta, y una sobrina que no llegaba a los veinte,', 'y un mozo de campo y plaza, que así ensillaba el rocín como tomaba la', 'podadera. Frisaba la edad de nuestro hidalgo con los cincuenta años; era de', 'complexión recia, seco de carnes, enjuto de rostro, gran madrugador y amigo', 'de la caza. Quieren decir que tenía el sobrenombre de Quijada, o Quesada,', 'que en esto hay alguna diferencia en los autores que deste caso escriben;', 'aunque, por conjeturas verosímiles, se deja entender que se llamaba', 'Quejana. Pero esto importa poco a nuestro cuento; basta que en la narración', 'dél no se salga un punto de la verdad.', '', 'Es, pues, de saber que este sobredicho hidalgo, los ratos que estaba', 'ocioso, que eran los más del año, se daba a leer libros de caballerías, con', 'tanta afición y gusto, que olvidó casi de todo punto el ejercicio de la', 'caza, y aun la administración de su hacienda. Y llegó a tanto su curiosidad', 'y desatino en esto, que vendió muchas hanegas de tierra de sembradura para', 'comprar libros de caballerías en que leer, y así, llevó a su casa todos', 'cuantos pudo haber dellos; y de todos, ningunos le parecían tan bien como', 'los que compuso el famoso Feliciano de Silva, porque la claridad de su', 'prosa y aquellas entricadas razones suyas le parecían de perlas, y más', 'cuando llegaba a leer aquellos requiebros y cartas de desafíos, donde en', 'muchas partes hallaba escrito: La razón de la sinrazón que a mi razón se', 'hace, de tal manera mi razón enflaquece, que con razón me quejo de la', 'vuestra fermosura. Y también cuando leía: ...los altos cielos que de', 'vuestra divinidad divinamente con las estrellas os fortifican, y os hacen', 'merecedora del merecimiento que merece la vuestra grandeza.', '', 'Con estas razones perdía el pobre caballero el juicio, y desvelábase por', 'entenderlas y desentrañarles el sentido, que no se lo sacara ni las', 'entendiera el mesmo Aristóteles, si resucitara para sólo ello. No estaba', 'muy bien con las heridas que don Belianís daba y recebía, porque se', 'imaginaba que, por grandes maestros que le hubiesen curado, no dejaría de', 'tener el rostro y todo el cuerpo lleno de cicatrices y señales. Pero, con', 'todo, alababa en su autor aquel acabar su libro con la promesa de aquella', 'inacabable aventura, y muchas veces le vino deseo de tomar la pluma y dalle', 'fin al pie de la letra, como allí se promete; y sin duda alguna lo hiciera,', 'y aun saliera con ello, si otros mayores y continuos pensamientos no se lo', 'estorbaran. Tuvo muchas veces competencia con el cura de su lugar -que era', 'hombre docto, graduado en Sigüenza-, sobre cuál había sido mejor caballero:', 'Palmerín de Ingalaterra o Amadís de Gaula; mas maese Nicolás, barbero del', 'mesmo pueblo, decía que ninguno llegaba al Caballero del Febo, y que si', 'alguno se le podía comparar, era don Galaor, hermano de Amadís de Gaula,', 'porque tenía muy acomodada condición para todo; que no era caballero', 'melindroso, ni tan llorón como su hermano, y que en lo de la valentía no le', 'iba en zaga.', '', 'En resolución, él se enfrascó tanto en su letura, que se le pasaban las', 'noches leyendo de claro en claro, y los días de turbio en turbio; y así,', 'del poco dormir y del mucho leer, se le secó el celebro, de manera que vino', 'a perder el juicio. Llenósele la fantasía de todo aquello que leía en los', 'libros, así de encantamentos como de pendencias, batallas, desafíos,', 'heridas, requiebros, amores, tormentas y disparates imposibles; y', 'asentósele de tal modo en la imaginación que era verdad toda aquella', 'máquina de aquellas sonadas soñadas invenciones que leía, que para él no', 'había otra historia más cierta en el mundo. Decía él que el Cid Ruy Díaz', 'había sido muy buen caballero, pero que no tenía que ver con el Caballero', 'de la Ardiente Espada, que de sólo un revés había partido por medio dos', 'fieros y descomunales gigantes. Mejor estaba con Bernardo del Carpio,', 'porque en Roncesvalles había muerto a Roldán el encantado, valiéndose de la', 'industria de Hércules, cuando ahogó a Anteo, el hijo de la Tierra, entre', 'los brazos. Decía mucho bien del gigante Morgante, porque, con ser de', 'aquella generación gigantea, que todos son soberbios y descomedidos, él', 'solo era afable y bien criado. Pero, sobre todos, estaba bien con Reinaldos', 'de Montalbán, y más cuando le veía salir de su castillo y robar cuantos', 'topaba, y cuando en allende robó aquel ídolo de Mahoma que era todo de oro,', 'según dice su historia. Diera él, por dar una mano de coces al traidor de', 'Galalón, al ama que tenía, y aun a su sobrina de añadidura.', '', 'En efeto, rematado ya su juicio, vino a dar en el más estraño pensamiento', 'que jamás dio loco en el mundo; y fue que le pareció convenible y', 'necesario, así para el aumento de su honra como para el servicio de su', 'república, hacerse caballero andante, y irse por todo el mundo con sus', 'armas y caballo a buscar las aventuras y a ejercitarse en todo aquello que', 'él había leído que los caballeros andantes se ejercitaban, deshaciendo todo', 'género de agravio, y poniéndose en ocasiones y peligros donde, acabándolos,', 'cobrase eterno nombre y fama. Imaginábase el pobre ya coronado por el valor', 'de su brazo, por lo menos, del imperio de Trapisonda; y así, con estos tan', 'agradables pensamientos, llevado del estraño gusto que en ellos sentía, se', 'dio priesa a poner en efeto lo que deseaba.', '', 'Y lo primero que hizo fue limpiar unas armas que habían sido de sus', 'bisabuelos, que, tomadas de orín y llenas de moho, luengos siglos había que', 'estaban puestas y olvidadas en un rincón. Limpiólas y aderezólas lo mejor', 'que pudo, pero vio que tenían una gran falta, y era que no tenían celada de', 'encaje, sino morrión simple; mas a esto suplió su industria, porque de', 'cartones hizo un modo de media celada, que, encajada con el morrión, hacían', 'una apariencia de celada entera. Es verdad que para probar si era fuerte y', 'podía estar al riesgo de una cuchillada, sacó su espada y le dio dos', 'golpes, y con el primero y en un punto deshizo lo que había hecho en una', 'semana; y no dejó de parecerle mal la facilidad con que la había hecho', 'pedazos, y, por asegurarse deste peligro, la tornó a hacer de nuevo,', 'poniéndole unas barras de hierro por de dentro, de tal manera que él quedó', 'satisfecho de su fortaleza; y, sin querer hacer nueva experiencia della, la', 'diputó y tuvo por celada finísima de encaje.', '', 'Fue luego a ver su rocín, y, aunque tenía más cuartos que un real y más', 'tachas que el caballo de Gonela, que tantum pellis et ossa fuit, le pareció', 'que ni el Bucéfalo de Alejandro ni Babieca el del Cid con él se igualaban.', 'Cuatro días se le pasaron en imaginar qué nombre le pondría; porque, según', 'se decía él a sí mesmo, no era razón que caballo de caballero tan famoso, y', 'tan bueno él por sí, estuviese sin nombre conocido; y ansí, procuraba', 'acomodársele de manera que declarase quién había sido, antes que fuese de', 'caballero andante, y lo que era entonces; pues estaba muy puesto en razón', 'que, mudando su señor estado, mudase él también el nombre, y le cobrase', 'famoso y de estruendo, como convenía a la nueva orden y al nuevo ejercicio', 'que ya profesaba. Y así, después de muchos nombres que formó, borró y', 'quitó, añadió, deshizo y tornó a hacer en su memoria e imaginación, al fin', 'le vino a llamar Rocinante: nombre, a su parecer, alto, sonoro y', 'significativo de lo que había sido cuando fue rocín, antes de lo que ahora', 'era, que era antes y primero de todos los rocines del mundo.', '', 'Puesto nombre, y tan a su gusto, a su caballo, quiso ponérsele a sí mismo,', 'y en este pensamiento duró otros ocho días, y al cabo se vino a llamar don', 'Quijote; de donde -como queda dicho- tomaron ocasión los autores desta tan', 'verdadera historia que, sin duda, se debía de llamar Quijada, y no Quesada,', 'como otros quisieron decir. Pero, acordándose que el valeroso Amadís no', 'sólo se había contentado con llamarse Amadís a secas, sino que añadió el', 'nombre de su reino y patria, por Hepila famosa, y se llamó Amadís de Gaula,', 'así quiso, como buen caballero, añadir al suyo el nombre de la suya y', 'llamarse don Quijote de la Mancha, con que, a su parecer, declaraba muy al', 'vivo su linaje y patria, y la honraba con tomar el sobrenombre della.', '', 'Limpias, pues, sus armas, hecho del morrión celada, puesto nombre a su', 'rocín y confirmándose a sí mismo, se dio a entender que no le faltaba otra', 'cosa sino buscar una dama de quien enamorarse; porque el caballero andante', 'sin amores era árbol sin hojas y sin fruto y cuerpo sin alma. Decíase él', 'a sí:', '', '-Si yo, por malos de mis pecados, o por mi buena suerte, me encuentro por', 'ahí con algún gigante, como de ordinario les acontece a los caballeros', 'andantes, y le derribo de un encuentro, o le parto por mitad del cuerpo, o,', 'finalmente, le venzo y le rindo, ¿no será bien tener a quien enviarle', 'presentado y que entre y se hinque de rodillas ante mi dulce señora, y diga', \"con voz humilde y rendido: ''Yo, señora, soy el gigante Caraculiambro,\", 'señor de la ínsula Malindrania, a quien venció en singular batalla el', 'jamás como se debe alabado caballero don Quijote de la Mancha, el cual me', 'mandó que me presentase ante vuestra merced, para que la vuestra grandeza', \"disponga de mí a su talante''?\", '', '¡Oh, cómo se holgó nuestro buen caballero cuando hubo hecho este discurso,', 'y más cuando halló a quien dar nombre de su dama! Y fue, a lo que se cree,', 'que en un lugar cerca del suyo había una moza labradora de muy buen', 'parecer, de quien él un tiempo anduvo enamorado, aunque, según se entiende,', 'ella jamás lo supo, ni le dio cata dello. Llamábase Aldonza Lorenzo, y a', 'ésta le pareció ser bien darle título de señora de sus pensamientos; y,', 'buscándole nombre que no desdijese mucho del suyo, y que tirase y se', 'encaminase al de princesa y gran señora, vino a llamarla Dulcinea del', 'Toboso, porque era natural del Toboso; nombre, a su parecer, músico y', 'peregrino y significativo, como todos los demás que a él y a sus cosas', 'había puesto.', '', '', '', '', '', 'Capítulo II. Que trata de la primera salida que de su tierra hizo el', 'ingenioso don Quijote', '', '', 'Hechas, pues, estas prevenciones, no quiso aguardar más tiempo a poner en', 'efeto su pensamiento, apretándole a ello la falta que él pensaba que hacía', 'en el mundo su tardanza, según eran los agravios que pensaba deshacer,', 'tuertos que enderezar, sinrazones que emendar, y abusos que mejorar y', 'deudas que satisfacer. Y así, sin dar parte a persona alguna de su', 'intención, y sin que nadie le viese, una mañana, antes del día, que era uno', 'de los calurosos del mes de julio, se armó de todas sus armas, subió sobre', 'Rocinante, puesta su mal compuesta celada, embrazó su adarga, tomó su', 'lanza, y, por la puerta falsa de un corral, salió al campo con grandísimo', 'contento y alborozo de ver con cuánta facilidad había dado principio a su', 'buen deseo. Mas, apenas se vio en el campo, cuando le asaltó un pensamiento', 'terrible, y tal, que por poco le hiciera dejar la comenzada empresa; y fue', 'que le vino a la memoria que no era armado caballero, y que, conforme a ley', 'de caballería, ni podía ni debía tomar armas con ningún caballero; y,', 'puesto que lo fuera, había de llevar armas blancas, como novel caballero,', 'sin empresa en el escudo, hasta que por su esfuerzo la ganase. Estos', 'pensamientos le hicieron titubear en su propósito; mas, pudiendo más su', 'locura que otra razón alguna, propuso de hacerse armar caballero del', 'primero que topase, a imitación de otros muchos que así lo hicieron, según', 'él había leído en los libros que tal le tenían. En lo de las armas blancas,', 'pensaba limpiarlas de manera, en teniendo lugar, que lo fuesen más que un', 'armiño; y con esto se quietó y prosiguió su camino, sin llevar otro que', 'aquel que su caballo quería, creyendo que en aquello consistía la fuerza de', 'las aventuras.', '', 'Yendo, pues, caminando nuestro flamante aventurero, iba hablando consigo', 'mesmo y diciendo:', '', '-¿Quién duda sino que en los venideros tiempos, cuando salga a luz la', 'verdadera historia de mis famosos hechos, que el sabio que los escribiere', 'no ponga, cuando llegue a contar esta mi primera salidad tan de mañana,', 'desta manera?: «Apenas había el rubicundo Apolo tendido por la faz de la', 'ancha y espaciosa tierra las doradas hebras de sus hermosos cabellos, y', 'apenas los pequeños y pintados pajarillos con sus arpadas lenguas habían', 'saludado con dulce y meliflua armonía la venida de la rosada aurora, que,', 'dejando la blanda cama del celoso marido, por las puertas y balcones del', 'manchego horizonte a los mortales se mostraba, cuando el famoso caballero', 'don Quijote de la Mancha, dejando las ociosas plumas, subió sobre su famoso', 'caballo Rocinante, y comenzó a caminar por el antiguo y conocido campo de', 'Montiel».', '', 'Y era la verdad que por él caminaba. Y añadió diciendo:', '', '-Dichosa edad, y siglo dichoso aquel adonde saldrán a luz las famosas', 'hazañas mías, dignas de entallarse en bronces, esculpirse en mármoles y', 'pintarse en tablas para memoria en lo futuro. ¡Oh tú, sabio encantador,', 'quienquiera que seas, a quien ha de tocar el ser coronista desta peregrina', 'historia, ruégote que no te olvides de mi buen Rocinante, compañero eterno', 'mío en todos mis caminos y carreras!', '', 'Luego volvía diciendo, como si verdaderamente fuera enamorado:', '', '-¡Oh princesa Dulcinea, señora deste cautivo corazón!, mucho agravio me', 'habedes fecho en despedirme y reprocharme con el riguroso afincamiento de', 'mandarme no parecer ante la vuestra fermosura. Plégaos, señora, de', 'membraros deste vuestro sujeto corazón, que tantas cuitas por vuestro amor', 'padece.', '', 'Con éstos iba ensartando otros disparates, todos al modo de los que sus', 'libros le habían enseñado, imitando en cuanto podía su lenguaje. Con esto,', 'caminaba tan despacio, y el sol entraba tan apriesa y con tanto ardor, que', 'fuera bastante a derretirle los sesos, si algunos tuviera.', '', 'Casi todo aquel día caminó sin acontecerle cosa que de contar fuese, de lo', 'cual se desesperaba, porque quisiera topar luego luego con quien hacer', 'experiencia del valor de su fuerte brazo. Autores hay que dicen que la', 'primera aventura que le avino fue la del Puerto Lápice; otros dicen que la', 'de los molinos de viento; pero, lo que yo he podido averiguar en este caso,', 'y lo que he hallado escrito en los Anales de la Mancha, es que él anduvo', 'todo aquel día, y, al anochecer, su rocín y él se hallaron cansados y', 'muertos de hambre; y que, mirando a todas partes por ver si descubriría', 'algún castillo o alguna majada de pastores donde recogerse y adonde pudiese', 'remediar su mucha hambre y necesidad, vio, no lejos del camino por donde', 'iba, una venta, que fue como si viera una estrella que, no a los portales,', 'sino a los alcázares de su redención le encaminaba. Diose priesa a caminar,', 'y llegó a ella a tiempo que anochecía.', '', 'Estaban acaso a la puerta dos mujeres mozas, destas que llaman del partido,', 'las cuales iban a Sevilla con unos arrieros que en la venta aquella noche', 'acertaron a hacer jornada; y, como a nuestro aventurero todo cuanto', 'pensaba, veía o imaginaba le parecía ser hecho y pasar al modo de lo que', 'había leído, luego que vio la venta, se le representó que era un castillo', 'con sus cuatro torres y chapiteles de luciente plata, sin faltarle su', 'puente levadiza y honda cava, con todos aquellos adherentes que semejantes', 'castillos se pintan. Fuese llegando a la venta, que a él le parecía', 'castillo, y a poco trecho della detuvo las riendas a Rocinante, esperando', 'que algún enano se pusiese entre las almenas a dar señal con alguna', 'trompeta de que llegaba caballero al castillo. Pero, como vio que se', 'tardaban y que Rocinante se daba priesa por llegar a la caballeriza, se', 'llegó a la puerta de la venta, y vio a las dos destraídas mozas que allí', 'estaban, que a él le parecieron dos hermosas doncellas o dos graciosas', 'damas que delante de la puerta del castillo se estaban solazando. En esto,', 'sucedió acaso que un porquero que andaba recogiendo de unos rastrojos una', 'manada de puercos -que, sin perdón, así se llaman- tocó un cuerno, a cuya', 'señal ellos se recogen, y al instante se le representó a don Quijote lo que', 'deseaba, que era que algún enano hacía señal de su venida; y así, con', 'estraño contento, llegó a la venta y a las damas, las cuales, como vieron', 'venir un hombre de aquella suerte, armado y con lanza y adarga, llenas de', 'miedo, se iban a entrar en la venta; pero don Quijote, coligiendo por su', 'huida su miedo, alzándose la visera de papelón y descubriendo su seco y', 'polvoroso rostro, con gentil talante y voz reposada, les dijo:', '', '-No fuyan las vuestras mercedes ni teman desaguisado alguno; ca a la orden', 'de caballería que profeso non toca ni atañe facerle a ninguno, cuanto más a', 'tan altas doncellas como vuestras presencias demuestran.', '', 'Mirábanle las mozas, y andaban con los ojos buscándole el rostro, que la', 'mala visera le encubría; mas, como se oyeron llamar doncellas, cosa tan', 'fuera de su profesión, no pudieron tener la risa, y fue de manera que don', 'Quijote vino a correrse y a decirles:', '', '-Bien parece la mesura en las fermosas, y es mucha sandez además la risa', 'que de leve causa procede; pero no vos lo digo porque os acuitedes ni', 'mostredes mal talante; que el mío non es de ál que de serviros.', '', 'El lenguaje, no entendido de las señoras, y el mal talle de nuestro', 'caballero acrecentaba en ellas la risa y en él el enojo; y pasara muy', 'adelante si a aquel punto no saliera el ventero, hombre que, por ser muy', 'gordo, era muy pacífico, el cual, viendo aquella figura contrahecha, armada', 'de armas tan desiguales como eran la brida, lanza, adarga y coselete, no', 'estuvo en nada en acompañar a las doncellas en las muestras de su contento.', 'Mas, en efeto, temiendo la máquina de tantos pertrechos, determinó de', 'hablarle comedidamente; y así, le dijo:', '', '-Si vuestra merced, señor caballero, busca posada, amén del lecho (porque', 'en esta venta no hay ninguno), todo lo demás se hallará en ella en mucha', 'abundancia.', '', 'Viendo don Quijote la humildad del alcaide de la fortaleza, que tal le', 'pareció a él el ventero y la venta, respondió:', '', '   -Para mí, señor castellano, cualquiera cosa basta, porque', '   mis arreos son las armas,', '   mi descanso el pelear, etc.', '', 'Pensó el huésped que el haberle llamado castellano había sido por haberle', 'parecido de los sanos de Castilla, aunque él era andaluz, y de los de la', 'playa de Sanlúcar, no menos ladrón que Caco, ni menos maleante que', 'estudiantado paje; y así, le respondió:', '', '-Según eso, las camas de vuestra merced serán duras peñas, y su dormir,', 'siempre velar; y siendo así, bien se puede apear, con seguridad de hallar', 'en esta choza ocasión y ocasiones para no dormir en todo un año, cuanto más', 'en una noche.', '', 'Y, diciendo esto, fue a tener el estribo a don Quijote, el cual se apeó con', 'mucha dificultad y trabajo, como aquel que en todo aquel día no se había', 'desayunado.', '', 'Dijo luego al huésped que le tuviese mucho cuidado de su caballo, porque', 'era la mejor pieza que comía pan en el mundo. Miróle el ventero, y no le', 'pareció tan bueno como don Quijote decía, ni aun la mitad; y, acomodándole', 'en la caballeriza, volvió a ver lo que su huésped mandaba, al cual estaban', 'desarmando las doncellas, que ya se habían reconciliado con él; las cuales,', 'aunque le habían quitado el peto y el espaldar, jamás supieron ni pudieron', 'desencajarle la gola, ni quitalle la contrahecha celada, que traía atada', 'con unas cintas verdes, y era menester cortarlas, por no poderse quitar los', 'ñudos; mas él no lo quiso consentir en ninguna manera, y así, se quedó toda', 'aquella noche con la celada puesta, que era la más graciosa y estraña', 'figura que se pudiera pensar; y, al desarmarle, como él se imaginaba que', 'aquellas traídas y llevadas que le desarmaban eran algunas principales', 'señoras y damas de aquel castillo, les dijo con mucho donaire:', '', '   -Nunca fuera caballero', '   de damas tan bien servido', '   como fuera don Quijote', '   cuando de su aldea vino:', '   doncellas curaban dél;', '   princesas, del su rocino,', '', 'o Rocinante, que éste es el nombre, señoras mías, de mi caballo, y don', 'Quijote de la Mancha el mío; que, puesto que no quisiera descubrirme fasta', 'que las fazañas fechas en vuestro servicio y pro me descubrieran, la fuerza', 'de acomodar al propósito presente este romance viejo de Lanzarote ha sido', 'causa que sepáis mi nombre antes de toda sazón; pero, tiempo vendrá en que', 'las vuestras señorías me manden y yo obedezca, y el valor de mi brazo', 'descubra el deseo que tengo de serviros.', '', 'Las mozas, que no estaban hechas a oír semejantes retóricas, no respondían', 'palabra; sólo le preguntaron si quería comer alguna cosa.', '', '-Cualquiera yantaría yo -respondió don Quijote-, porque, a lo que entiendo,', 'me haría mucho al caso.', '', 'A dicha, acertó a ser viernes aquel día, y no había en toda la venta sino', 'unas raciones de un pescado que en Castilla llaman abadejo, y en Andalucía', 'bacallao, y en otras partes curadillo, y en otras truchuela. Preguntáronle', 'si por ventura comería su merced truchuela, que no había otro pescado que', 'dalle a comer.', '', '-Como haya muchas truchuelas -respondió don Quijote-, podrán servir de una', 'trucha, porque eso se me da que me den ocho reales en sencillos que en una', 'pieza de a ocho. Cuanto más, que podría ser que fuesen estas truchuelas', 'como la ternera, que es mejor que la vaca, y el cabrito que el cabrón.', 'Pero, sea lo que fuere, venga luego, que el trabajo y peso de las armas no', 'se puede llevar sin el gobierno de las tripas.', '', 'Pusiéronle la mesa a la puerta de la venta, por el fresco, y trújole el', 'huésped una porción del mal remojado y peor cocido bacallao, y un pan tan', 'negro y mugriento como sus armas; pero era materia de grande risa verle', 'comer, porque, como tenía puesta la celada y alzada la visera, no podía', 'poner nada en la boca con sus manos si otro no se lo daba y ponía; y ansí,', 'una de aquellas señoras servía deste menester. Mas, al darle de beber, no', 'fue posible, ni lo fuera si el ventero no horadara una caña, y puesto el un', 'cabo en la boca, por el otro le iba echando el vino; y todo esto lo recebía', 'en paciencia, a trueco de no romper las cintas de la celada.', '', 'Estando en esto, llegó acaso a la venta un castrador de puercos; y, así', 'como llegó, sonó su silbato de cañas cuatro o cinco veces, con lo cual', 'acabó de confirmar don Quijote que estaba en algún famoso castillo, y que', 'le servían con música, y que el abadejo eran truchas; el pan, candeal; y', 'las rameras, damas; y el ventero, castellano del castillo, y con esto daba', 'por bien empleada su determinación y salida. Mas lo que más le fatigaba era', 'el no verse armado caballero, por parecerle que no se podría poner', 'legítimamente en aventura alguna sin recebir la orden de caballería.', '', '', '', '', '', 'Capítulo III. Donde se cuenta la graciosa manera que tuvo don Quijote en']\n"
     ]
    },
    {
     "name": "stderr",
     "output_type": "stream",
     "text": [
      "                                                                                \r"
     ]
    }
   ],
   "source": [
    "import os\n",
    "os.environ[\"DRIVE_DATA\"] = \"./data/\"\n",
    "\n",
    "quijoteRDD = sc.textFile(os.environ[\"DRIVE_DATA\"] + \"quijote.txt\")\n",
    "\n",
    "print(quijoteRDD.take(1000))"
   ]
  },
  {
   "cell_type": "markdown",
   "metadata": {
    "id": "JOiqOaBUjNee"
   },
   "source": [
    "## Partitions\n",
    "\n",
    "Spark splits each RDD into multiple partitions, which may be computed on different nodes of the cluster\n",
    "\n",
    "-   The default number of partitions is function of the size of the cluster or the number of file blocks (for example, HDFS blocks)\n",
    "\n",
    "-   A different number of partitions can be defined when the RDD is created\n",
    "\n",
    "-  They can also be modified once created  (`repartition` or `coalesce`)\n",
    "\n",
    "-  The method `glom` shows how the partitions were created"
   ]
  },
  {
   "cell_type": "code",
   "execution_count": 15,
   "metadata": {
    "id": "3-rwTuOnjl2A"
   },
   "outputs": [
    {
     "name": "stdout",
     "output_type": "stream",
     "text": [
      "[1, 2, 3, 4]\n",
      "[[1, 2], [3, 4]]\n",
      "2\n"
     ]
    }
   ],
   "source": [
    "rdd = sc.parallelize([1,2,3,4], 2)\n",
    "print(rdd.collect())\n",
    "print(rdd.glom().collect())\n",
    "print(rdd.getNumPartitions())"
   ]
  },
  {
   "cell_type": "markdown",
   "metadata": {
    "id": "3XcddAzKj2il"
   },
   "source": [
    "## RDDs and DataFrames\n",
    "\n",
    "A DataFrame has an RDD underneath, that can be accessed in a simple way"
   ]
  },
  {
   "cell_type": "code",
   "execution_count": 12,
   "metadata": {
    "id": "GFeEiX37kDu2"
   },
   "outputs": [
    {
     "name": "stderr",
     "output_type": "stream",
     "text": [
      "                                                                                \r"
     ]
    },
    {
     "data": {
      "text/plain": [
       "[Row(DEST_COUNTRY_NAME='United States', ORIGIN_COUNTRY_NAME='Romania', count=15),\n",
       " Row(DEST_COUNTRY_NAME='United States', ORIGIN_COUNTRY_NAME='Croatia', count=1),\n",
       " Row(DEST_COUNTRY_NAME='United States', ORIGIN_COUNTRY_NAME='Ireland', count=344),\n",
       " Row(DEST_COUNTRY_NAME='Egypt', ORIGIN_COUNTRY_NAME='United States', count=15),\n",
       " Row(DEST_COUNTRY_NAME='United States', ORIGIN_COUNTRY_NAME='India', count=62),\n",
       " Row(DEST_COUNTRY_NAME='United States', ORIGIN_COUNTRY_NAME='Singapore', count=1),\n",
       " Row(DEST_COUNTRY_NAME='United States', ORIGIN_COUNTRY_NAME='Grenada', count=62),\n",
       " Row(DEST_COUNTRY_NAME='Costa Rica', ORIGIN_COUNTRY_NAME='United States', count=588),\n",
       " Row(DEST_COUNTRY_NAME='Senegal', ORIGIN_COUNTRY_NAME='United States', count=40),\n",
       " Row(DEST_COUNTRY_NAME='Moldova', ORIGIN_COUNTRY_NAME='United States', count=1)]"
      ]
     },
     "execution_count": 12,
     "metadata": {},
     "output_type": "execute_result"
    }
   ],
   "source": [
    "dfFlightData2015 = (spark\n",
    "    .read\n",
    "    .option(\"inferSchema\", \"true\")\n",
    "    .option(\"header\", \"true\")\n",
    "    .csv(os.environ[\"DRIVE_DATA\"] + \"2015-summary.csv\"))\n",
    "\n",
    "rddFlightData2015 = dfFlightData2015.rdd\n",
    "\n",
    "rddFlightData2015.take(10)"
   ]
  },
  {
   "cell_type": "markdown",
   "metadata": {
    "id": "A844PtpGnteE"
   },
   "source": [
    "We can create a DataFrame from an RDD"
   ]
  },
  {
   "cell_type": "code",
   "execution_count": 16,
   "metadata": {
    "id": "YG5G9L1rnkU9"
   },
   "outputs": [
    {
     "name": "stdout",
     "output_type": "stream",
     "text": [
      "+--------------------+-------------------+-----+\n",
      "|   DEST_COUNTRY_NAME|ORIGIN_COUNTRY_NAME|count|\n",
      "+--------------------+-------------------+-----+\n",
      "|       United States|            Romania|   15|\n",
      "|       United States|            Croatia|    1|\n",
      "|       United States|            Ireland|  344|\n",
      "|               Egypt|      United States|   15|\n",
      "|       United States|              India|   62|\n",
      "|       United States|          Singapore|    1|\n",
      "|       United States|            Grenada|   62|\n",
      "|          Costa Rica|      United States|  588|\n",
      "|             Senegal|      United States|   40|\n",
      "|             Moldova|      United States|    1|\n",
      "|       United States|       Sint Maarten|  325|\n",
      "|       United States|   Marshall Islands|   39|\n",
      "|              Guyana|      United States|   64|\n",
      "|               Malta|      United States|    1|\n",
      "|            Anguilla|      United States|   41|\n",
      "|             Bolivia|      United States|   30|\n",
      "|       United States|           Paraguay|    6|\n",
      "|             Algeria|      United States|    4|\n",
      "|Turks and Caicos ...|      United States|  230|\n",
      "|       United States|          Gibraltar|    1|\n",
      "+--------------------+-------------------+-----+\n",
      "only showing top 20 rows\n",
      "\n"
     ]
    }
   ],
   "source": [
    "dfNew = spark.createDataFrame(rddFlightData2015, dfFlightData2015.schema)\n",
    "dfNew.show()"
   ]
  },
  {
   "cell_type": "markdown",
   "metadata": {
    "id": "sykqj4CJo7CF"
   },
   "source": [
    "## Transformations and Actions"
   ]
  },
  {
   "cell_type": "markdown",
   "metadata": {
    "id": "CKFWSW2ukoVT"
   },
   "source": [
    "### Transformations\n",
    "\n",
    "Operations on RDDs that return a new RDD\n",
    "\n",
    "-   Computed in a *lazy* way.\n",
    "\n",
    "-   They typically execute a function (anonymous or not) on each of the original RDD elements."
   ]
  },
  {
   "cell_type": "code",
   "execution_count": 17,
   "metadata": {
    "id": "z3FcbFS0pRlH"
   },
   "outputs": [
    {
     "name": "stderr",
     "output_type": "stream",
     "text": [
      "[Stage 16:>                                                         (0 + 4) / 4]\r"
     ]
    },
    {
     "name": "stdout",
     "output_type": "stream",
     "text": [
      "['-Encomiéndalo tú a Dios, Sancho -respondió don Quijote-, que Él dará lo que', '-No digo yo, Sancho -replicó don Quijote-, que sea forzoso a los caballeros', '-Ya te entiendo, Sancho -le respondió don Quijote-; que bien se me trasluce', 'llegaban ijadeando; y dijo don Quijote a Sancho:', 'Quijote-. Mas yo te juro, Sancho Panza, a fe de caballero andante, que', '-Sábete, amigo Sancho -respondió don Quijote-, que la vida de los', '-¿Tan malas obras te hago, Sancho -respondió don Quijote-, que me querrías', '-No temas eso, Sancho -dijo don Quijote-, que mejor lo hará el cielo', '-En eso harás lo que debes, Sancho -dijo don Quijote-, porque, para entrar', 'movían. Pasmóse Sancho en viéndolas, y don Quijote no las tuvo todas']\n"
     ]
    },
    {
     "name": "stderr",
     "output_type": "stream",
     "text": [
      "                                                                                \r"
     ]
    }
   ],
   "source": [
    "quijs = quijoteRDD.filter(lambda l: \"Quijote\" in l)\n",
    "sanchs = quijoteRDD.filter(lambda l: \"Sancho\" in l)\n",
    "quijssancs = quijs.intersection(sanchs)\n",
    "print(quijssancs.take(10))"
   ]
  },
  {
   "cell_type": "markdown",
   "metadata": {
    "id": "ou0P7NxAplRd"
   },
   "source": [
    "### Actions\n",
    "\n",
    "Obtain output data from RDDs\n",
    "\n",
    "-   Return values to the driver or to the storage system\n",
    "\n",
    "-   Force the pending transformations to be applied"
   ]
  },
  {
   "cell_type": "code",
   "execution_count": 18,
   "metadata": {
    "id": "ZfnqsVlqpsPw"
   },
   "outputs": [
    {
     "name": "stdout",
     "output_type": "stream",
     "text": [
      "Lines with Quijote and Sancho 350\n",
      "-Plega a Dios, Sancho -replicó don Quijote-, que yo te vea mudo antes que\n",
      "si no fue que en ella acabó Sancho su tarea, de que quedó don Quijote\n",
      "don Quijote y Sancho, y este fin tuvo la aventura del encantado barco.\n",
      "suyo y gusto de don Quijote, había de ser castillo. Porfiaba Sancho que era\n",
      "Contó don Quijote por menudo todo el suceso del gobierno de Sancho, con que\n",
      "una carta de don Quijote para el gobernador. Mandó Sancho al secretario que\n",
      "-Todo eso pudiera ser, Sancho -replicó don Quijote-, pero no es así, porque\n",
      "Quedó pasmado don Quijote, absorto Sancho, suspenso el primo, atónito el\n",
      "-Ahora yo te digo, Sancho -dijo don Quijote-, que eres un mentecato; y\n",
      "-¿Es posible -le dijo don Quijote- que todavía, ¡oh Sancho!, pienses que\n"
     ]
    }
   ],
   "source": [
    "nqs = quijssancs.count()\n",
    "print(\"Lines with Quijote and Sancho {0}\".format(nqs))\n",
    "for l in quijssancs.takeSample(False,10):\n",
    "    print(l)"
   ]
  },
  {
   "cell_type": "markdown",
   "metadata": {
    "id": "Mfy4p9DPqBZC"
   },
   "source": [
    "## Common Transformations and Actions"
   ]
  },
  {
   "cell_type": "markdown",
   "metadata": {
    "id": "EC8przcxqEtS"
   },
   "source": [
    "###Element-wise transformations\n",
    "\n",
    "\n",
    "Generate a new RDD from a given one by applying a function to each of the elements of the original RDD"
   ]
  },
  {
   "cell_type": "markdown",
   "metadata": {
    "id": "mi3s7Dupq-9k"
   },
   "source": [
    "-   `filter(func)` filters elements from an RDD"
   ]
  },
  {
   "cell_type": "code",
   "execution_count": 19,
   "metadata": {
    "id": "wT8G89jErWYU"
   },
   "outputs": [
    {
     "name": "stdout",
     "output_type": "stream",
     "text": [
      "Lines with Quijote and Sancho 350\n",
      "-Tú dices bien, Sancho -dijo don Quijote-, pero has de advertir que no\n",
      "A las nuevas desta venida de don Quijote, acudió la mujer de Sancho Panza,\n",
      "Responder quería don Quijote a Sancho Panza, pero estorbóselo una carreta\n",
      "Finalmente, Sancho se quedó dormido al pie de un alcornoque, y don Quijote\n",
      "Capítulo XLIII. De los consejos segundos que dio don Quijote a Sancho Panza\n",
      "En resolución, Sancho acomodó a don Quijote sobre el asno y puso de reata a\n",
      "-Mira, Sancho -respondió don Quijote-: si el consejo que me das de que me\n",
      "-Sábete, amigo Sancho -respondió don Quijote-, que la vida de los\n",
      "-Prosigue, Sancho amigo, y no desmayes -le dijo don Quijote-, que yo doblo\n",
      "alameda, llegaron don Quijote y Sancho al río Ebro, y el verle fue de gran\n"
     ]
    }
   ],
   "source": [
    "#As seen before\n",
    "quijsRDD = quijoteRDD.filter(lambda l: \"Quijote\" in l)\n",
    "sanchsRDD = quijoteRDD.filter(lambda l: \"Sancho\" in l)\n",
    "quijssancsRDD = quijsRDD.intersection(sanchsRDD)\n",
    "quijssancsRDD.cache()\n",
    "print(\"Lines with Quijote and Sancho {0}\".format(quijssancsRDD.count()))\n",
    "for l in quijssancsRDD.takeSample(False,10):\n",
    "    print(l)"
   ]
  },
  {
   "cell_type": "code",
   "execution_count": 21,
   "metadata": {
    "id": "J01jDtPEIWer"
   },
   "outputs": [
    {
     "name": "stderr",
     "output_type": "stream",
     "text": [
      "test_positive (__main__.TestNotebook) ... "
     ]
    },
    {
     "name": "stdout",
     "output_type": "stream",
     "text": [
      "[-5, -4, -3, -2, -1, 0, 1, 2, 3, 4]\n"
     ]
    },
    {
     "name": "stderr",
     "output_type": "stream",
     "text": [
      "/usr/lib/python3.9/socket.py:775: ResourceWarning: unclosed <socket.socket fd=69, family=AddressFamily.AF_INET, type=SocketKind.SOCK_STREAM, proto=6, laddr=('127.0.0.1', 51774), raddr=('127.0.0.1', 35023)>\n",
      "  self._sock = None\n",
      "ResourceWarning: Enable tracemalloc to get the object allocation traceback\n",
      "ok\n",
      "\n",
      "----------------------------------------------------------------------\n",
      "Ran 1 test in 0.229s\n",
      "\n",
      "OK\n"
     ]
    },
    {
     "data": {
      "text/plain": [
       "<unittest.main.TestProgram at 0x7fc7780efca0>"
      ]
     },
     "execution_count": 21,
     "metadata": {},
     "output_type": "execute_result"
    }
   ],
   "source": [
    "import unittest\n",
    "# Extract the positive values from a range of numbers\n",
    "from __future__ import print_function\n",
    "#from test_helpers import Test\n",
    "rdd = sc.parallelize(range(-5,5))          # Range [-5, 5)\n",
    "print(rdd.collect())\n",
    "filtered_rdd = rdd.filter(lambda x: x >= 0)   # Returns only the positive values\n",
    "\n",
    "\n",
    "class TestNotebook(unittest.TestCase):\n",
    "\n",
    "    def test_positive(self):\n",
    "        self.assertEqual(filtered_rdd.collect(), [0, 1, 2, 3, 4])\n",
    "\n",
    "\n",
    "unittest.main(argv=[''], verbosity=2, exit=False)"
   ]
  },
  {
   "cell_type": "markdown",
   "metadata": {
    "id": "L-oTHAipIilD"
   },
   "source": [
    "-   `map(func)` applies a function to each element in an RDD, with the result of the function being the new value of each element in the resulting RDD"
   ]
  },
  {
   "cell_type": "code",
   "execution_count": 22,
   "metadata": {
    "id": "qDYn4yH1Immz"
   },
   "outputs": [
    {
     "name": "stderr",
     "output_type": "stream",
     "text": [
      "test_squared (__main__.TestNotebook) ... /usr/lib/python3.9/socket.py:775: ResourceWarning: unclosed <socket.socket fd=69, family=AddressFamily.AF_INET, type=SocketKind.SOCK_STREAM, proto=6, laddr=('127.0.0.1', 40398), raddr=('127.0.0.1', 38171)>\n",
      "  self._sock = None\n",
      "ResourceWarning: Enable tracemalloc to get the object allocation traceback\n",
      "ok\n",
      "\n",
      "----------------------------------------------------------------------\n",
      "Ran 1 test in 0.234s\n",
      "\n",
      "OK\n"
     ]
    },
    {
     "data": {
      "text/plain": [
       "<unittest.main.TestProgram at 0x7fc77810d880>"
      ]
     },
     "execution_count": 22,
     "metadata": {},
     "output_type": "execute_result"
    }
   ],
   "source": [
    "# Adds 1 to each element in the RDD\n",
    "# For each element, it obtains a tuple (x, x**2)\n",
    "def add1(x):\n",
    "    return(x+1)\n",
    "\n",
    "squared_rdd = (filtered_rdd\n",
    "               .map(add1)                 # Adds 1 to each element in the RDD\n",
    "               .map(lambda x: (x, x*x)))  # For each element, it obtains a tuple (x, x**2)\n",
    "\n",
    "\n",
    "class TestNotebook(unittest.TestCase):\n",
    "\n",
    "    def test_squared(self):\n",
    "        self.assertEqual(squared_rdd.collect(), [(1, 1), (2, 4), (3, 9), (4, 16), (5, 25)])\n",
    "\n",
    "\n",
    "unittest.main(argv=[''], verbosity=2, exit=False)"
   ]
  },
  {
   "cell_type": "markdown",
   "metadata": {
    "id": "G1L8UOO4IwLU"
   },
   "source": [
    "-   `flatMap(func)` similar to `map`, but “flattening” the output"
   ]
  },
  {
   "cell_type": "code",
   "execution_count": 23,
   "metadata": {
    "id": "mfH8BzCpIuxw"
   },
   "outputs": [
    {
     "name": "stderr",
     "output_type": "stream",
     "text": [
      "test_squaredflat (__main__.TestNotebook) ... /usr/lib/python3.9/socket.py:775: ResourceWarning: unclosed <socket.socket fd=69, family=AddressFamily.AF_INET, type=SocketKind.SOCK_STREAM, proto=6, laddr=('127.0.0.1', 33454), raddr=('127.0.0.1', 42503)>\n",
      "  self._sock = None\n",
      "ResourceWarning: Enable tracemalloc to get the object allocation traceback\n",
      "ok\n",
      "\n",
      "----------------------------------------------------------------------\n",
      "Ran 1 test in 0.211s\n",
      "\n",
      "OK\n"
     ]
    },
    {
     "data": {
      "text/plain": [
       "<unittest.main.TestProgram at 0x7fc77817ef10>"
      ]
     },
     "execution_count": 23,
     "metadata": {},
     "output_type": "execute_result"
    }
   ],
   "source": [
    "squaredflat_rdd = (filtered_rdd\n",
    "                   .map(add1)\n",
    "                   .flatMap(lambda x: (x, x*x)))  # returns output as a list\n",
    "                   \n",
    "class TestNotebook(unittest.TestCase):\n",
    "\n",
    "    def test_squaredflat(self):\n",
    "        self.assertEqual(squaredflat_rdd.collect(), [1, 1, 2, 4, 3, 9, 4, 16, 5, 25])\n",
    "\n",
    "\n",
    "unittest.main(argv=[''], verbosity=2, exit=False)\n",
    "  "
   ]
  },
  {
   "cell_type": "markdown",
   "metadata": {
    "id": "juHuDhOmI8X5"
   },
   "source": [
    "-   `sample(withReplacement, fraction, seed=None)` returns a sample of the RDD\n",
    "    - `withReplacement` - if True, each element can show up several times in the sample\n",
    "    - `fraction` - expected sample size as a fraction of the RDD size\n",
    "        -  **without replacement**: probability of selecting an element, its value must be [0, 1]\n",
    "        -  **with replacement**: expected number of times that an element will be picked up, its value must be >= 0\n",
    "    - `seed` - seed for the random number generator\n"
   ]
  },
  {
   "cell_type": "code",
   "execution_count": 25,
   "metadata": {
    "id": "CvF12YTMJANM"
   },
   "outputs": [
    {
     "name": "stdout",
     "output_type": "stream",
     "text": [
      "s1=[1, 2, 3, 16, 5]\n",
      "s2=[1, 2, 2, 2, 4, 3, 9, 9, 9, 9, 9, 16, 5, 5, 5, 25, 25]\n",
      "s3=[1, 1, 2, 4, 3, 9, 4, 16]\n"
     ]
    }
   ],
   "source": [
    "srdd1 = squaredflat_rdd.sample(False, 0.5) # 50% => (10/2)=5  to understand better go to BDF3\n",
    "srdd2 = squaredflat_rdd.sample(True, 2) # \n",
    "srdd3 = squaredflat_rdd.sample(False, 0.8, 14)\n",
    "print('s1={0}\\ns2={1}\\ns3={2}'.format(srdd1.collect(), srdd2.collect(), srdd3.collect()))"
   ]
  },
  {
   "cell_type": "markdown",
   "metadata": {
    "id": "CBSl9tYbJFmK"
   },
   "source": [
    "-   `distinct()` returns a new RDD without duplicates\n",
    "    - The output order is not defined"
   ]
  },
  {
   "cell_type": "code",
   "execution_count": 27,
   "metadata": {
    "id": "l-H6HYvZJVYb"
   },
   "outputs": [
    {
     "name": "stdout",
     "output_type": "stream",
     "text": [
      "[4, 16, 1, 9, 5, 25, 2, 3]\n"
     ]
    }
   ],
   "source": [
    "distinct_rdd = squaredflat_rdd.distinct()\n",
    "print(distinct_rdd.collect())"
   ]
  },
  {
   "cell_type": "markdown",
   "metadata": {
    "id": "hwfWMnqPJYdM"
   },
   "source": [
    "`groupBy(func)` returns a RDD with its data grouped in a key/value format, using a function to obtain the key"
   ]
  },
  {
   "cell_type": "code",
   "execution_count": 29,
   "metadata": {
    "id": "p2_KQTlLJcuz"
   },
   "outputs": [
    {
     "name": "stdout",
     "output_type": "stream",
     "text": [
      "[(0, <pyspark.resultiterable.ResultIterable object at 0x7fc77804ba60>), (1, <pyspark.resultiterable.ResultIterable object at 0x7fc77810d580>), (2, <pyspark.resultiterable.ResultIterable object at 0x7fc77810df10>)]\n",
      "[(0, [3, 9]), (1, [1, 4, 16, 25]), (2, [2, 5])]\n"
     ]
    }
   ],
   "source": [
    "grouped_rdd = distinct_rdd.groupBy(lambda x: x%3) #remainder of dividing by 3\n",
    "print(grouped_rdd.collect())\n",
    "print([(x,sorted(y)) for (x,y) in grouped_rdd.collect()])"
   ]
  },
  {
   "cell_type": "markdown",
   "metadata": {
    "id": "g_aqy32_J5qb"
   },
   "source": [
    "### Transformations on two RDDs\n",
    "\n",
    "Set operations on two RDDs\n"
   ]
  },
  {
   "cell_type": "markdown",
   "metadata": {
    "id": "uV0qWikBJ-M1"
   },
   "source": [
    "-   `rdda.union(rddb)` returns a RDD with all the elements from the input RDDs"
   ]
  },
  {
   "cell_type": "code",
   "execution_count": 30,
   "metadata": {
    "id": "Ii9CxKQnKAfG"
   },
   "outputs": [
    {
     "name": "stderr",
     "output_type": "stream",
     "text": [
      "test_rddu (__main__.TestNotebook) ... /usr/lib/python3.9/socket.py:775: ResourceWarning: unclosed <socket.socket fd=69, family=AddressFamily.AF_INET, type=SocketKind.SOCK_STREAM, proto=6, laddr=('127.0.0.1', 42716), raddr=('127.0.0.1', 39267)>\n",
      "  self._sock = None\n",
      "ResourceWarning: Enable tracemalloc to get the object allocation traceback\n",
      "ok\n",
      "\n",
      "----------------------------------------------------------------------\n",
      "Ran 1 test in 0.171s\n",
      "\n",
      "OK\n"
     ]
    },
    {
     "data": {
      "text/plain": [
       "<unittest.main.TestProgram at 0x7fc778060940>"
      ]
     },
     "execution_count": 30,
     "metadata": {},
     "output_type": "execute_result"
    }
   ],
   "source": [
    "rdda = sc.parallelize(['a', 'b', 'c'])\n",
    "rddb = sc.parallelize(['c', 'd', 'e'])\n",
    "rddu = rdda.union(rddb)\n",
    "\n",
    "class TestNotebook(unittest.TestCase):\n",
    "\n",
    "    def test_rddu(self):\n",
    "        self.assertEqual(rddu.collect(),['a', 'b', 'c', 'c', 'd', 'e'])\n",
    "\n",
    "\n",
    "unittest.main(argv=[''], verbosity=2, exit=False)"
   ]
  },
  {
   "cell_type": "markdown",
   "metadata": {
    "id": "VlgU-Ke9KDbR"
   },
   "source": [
    "- `rdda.intersection(rddb)` returns a new RDD with the elements in common in both RDDs"
   ]
  },
  {
   "cell_type": "code",
   "execution_count": 31,
   "metadata": {
    "id": "_TyzvnyHKF3E"
   },
   "outputs": [
    {
     "name": "stderr",
     "output_type": "stream",
     "text": [
      "/usr/lib/python3.9/socket.py:775: ResourceWarning: unclosed <socket.socket fd=69, family=AddressFamily.AF_INET, type=SocketKind.SOCK_STREAM, proto=6, laddr=('127.0.0.1', 39408), raddr=('127.0.0.1', 43371)>\n",
      "  self._sock = None\n",
      "ResourceWarning: Enable tracemalloc to get the object allocation traceback\n",
      "ok\n",
      "\n",
      "----------------------------------------------------------------------\n",
      "Ran 1 test in 1.711s\n",
      "\n",
      "OK\n"
     ]
    },
    {
     "data": {
      "text/plain": [
       "<unittest.main.TestProgram at 0x7fc778066a30>"
      ]
     },
     "execution_count": 31,
     "metadata": {},
     "output_type": "execute_result"
    }
   ],
   "source": [
    "rddi = rdda.intersection(rddb)\n",
    "\n",
    "class TestNotebook(unittest.TestCase):\n",
    "\n",
    "    def test_rddi(self):\n",
    "        self.assertEqual(rddi.collect(),['c'])\n",
    "\n",
    "\n",
    "unittest.main(argv=[''], verbosity=2, exit=False)"
   ]
  },
  {
   "cell_type": "markdown",
   "metadata": {
    "id": "C2ISYjhOKNQn"
   },
   "source": [
    "-   `rdda.subtract(rddb)` returns a new RDD with the elements from the second RDD substracted to those from the first RDD"
   ]
  },
  {
   "cell_type": "code",
   "execution_count": 36,
   "metadata": {
    "id": "ZvI0JeqkKQBR"
   },
   "outputs": [
    {
     "name": "stderr",
     "output_type": "stream",
     "text": [
      "test_rdds (__main__.TestNotebook) ... "
     ]
    },
    {
     "name": "stdout",
     "output_type": "stream",
     "text": [
      "['a', 'b']\n"
     ]
    },
    {
     "name": "stderr",
     "output_type": "stream",
     "text": [
      "/usr/lib/python3.9/socket.py:775: ResourceWarning: unclosed <socket.socket fd=69, family=AddressFamily.AF_INET, type=SocketKind.SOCK_STREAM, proto=6, laddr=('127.0.0.1', 56002), raddr=('127.0.0.1', 40779)>\n",
      "  self._sock = None\n",
      "ResourceWarning: Enable tracemalloc to get the object allocation traceback\n",
      "ok\n",
      "\n",
      "----------------------------------------------------------------------\n",
      "Ran 1 test in 0.202s\n",
      "\n",
      "OK\n"
     ]
    },
    {
     "data": {
      "text/plain": [
       "<unittest.main.TestProgram at 0x7fc7780519d0>"
      ]
     },
     "execution_count": 36,
     "metadata": {},
     "output_type": "execute_result"
    }
   ],
   "source": [
    "rdds = rdda.subtract(rddb)\n",
    "print(rdds.collect())\n",
    "class TestNotebook(unittest.TestCase):\n",
    "\n",
    "    def test_rdds(self):\n",
    "        self.assertEqual(rdds.collect(), ['a', 'b'])\n",
    "\n",
    "\n",
    "unittest.main(argv=[''], verbosity=2, exit=False)"
   ]
  },
  {
   "cell_type": "markdown",
   "metadata": {
    "id": "DHOo_LyUKTAP"
   },
   "source": [
    "- `rdda.cartesian(rddb)` cartesian product of both RDDs (heavy operation)"
   ]
  },
  {
   "cell_type": "code",
   "execution_count": 41,
   "metadata": {
    "id": "hrMKdf03KW9-"
   },
   "outputs": [
    {
     "name": "stderr",
     "output_type": "stream",
     "text": [
      "test_rddc (__main__.TestNotebook) ... /usr/lib/python3.9/socket.py:775: ResourceWarning: unclosed <socket.socket fd=69, family=AddressFamily.AF_INET, type=SocketKind.SOCK_STREAM, proto=6, laddr=('127.0.0.1', 53096), raddr=('127.0.0.1', 44485)>\n",
      "  self._sock = None\n",
      "ResourceWarning: Enable tracemalloc to get the object allocation traceback\n",
      "ok\n",
      "\n",
      "----------------------------------------------------------------------\n",
      "Ran 1 test in 0.140s\n",
      "\n",
      "OK\n"
     ]
    },
    {
     "data": {
      "text/plain": [
       "<unittest.main.TestProgram at 0x7fc7781fcf10>"
      ]
     },
     "execution_count": 41,
     "metadata": {},
     "output_type": "execute_result"
    }
   ],
   "source": [
    "rddc = rdda.cartesian(rddb)\n",
    "\n",
    "class TestNotebook(unittest.TestCase):\n",
    "\n",
    "    def test_rddc(self):\n",
    "        self.assertEqual(rddc.collect(),[('a','c'),('a','d'),('a','e'),('b','c'),('b','d'),('b','e'),('c', 'c'), ('c','d'), ('c','e')])\n",
    "\n",
    "unittest.main(argv=[''], verbosity=2, exit=False)"
   ]
  },
  {
   "cell_type": "markdown",
   "metadata": {
    "id": "3uzixrgv33i-"
   },
   "source": [
    "###Actions on simple RDDs\n",
    "\n",
    "\n",
    "Obtain (simple or complex) elements from a RDD\n"
   ]
  },
  {
   "cell_type": "markdown",
   "metadata": {
    "id": "WobYnSRy4Waq"
   },
   "source": [
    "#### Main aggregate actions: `reduce` and `fold`"
   ]
  },
  {
   "cell_type": "markdown",
   "metadata": {
    "id": "fHwsIdw64hu8"
   },
   "source": [
    "-   `reduce(op)` combines elements from a RDD in parallel, using an operator\n",
    "    - The reduction operator must be an associative-and-commutative binary operator \n",
    "    - The reduction is first computed at partition level and then the intermediate values are reduced"
   ]
  },
  {
   "cell_type": "code",
   "execution_count": 153,
   "metadata": {
    "id": "-U5Z3LCZ4hA8"
   },
   "outputs": [
    {
     "name": "stdout",
     "output_type": "stream",
     "text": [
      "[[1], [2], [3], [4], [5], [6], [7], [8, 9]]\n",
      "1*2*3*4*5*6*7*8*9 = 362880\n",
      "1+2+3+4+5+6+7+8+9 = 45\n",
      "1-2-3-4-5-6-7-8-9 = -25\n"
     ]
    }
   ],
   "source": [
    "rdd = sc.parallelize(range(1,10), 8)  # range [1, 10)\n",
    "print(rdd.glom().collect())\n",
    "\n",
    "# Reduction using a lambda function\n",
    "p = rdd.reduce(lambda x,y: x*y) # r = 1*2*3*4*5*6*7*8*9 = 362880\n",
    "print(\"1*2*3*4*5*6*7*8*9 = {0}\".format(p))\n",
    "\n",
    "# Reduction using a predefined operator\n",
    "from operator import add\n",
    "s = rdd.reduce(add) # s = 1+2+3+4+5+6+7+8+9 = 45\n",
    "print(\"1+2+3+4+5+6+7+8+9 = {0}\".format(s))\n",
    "\n",
    "# Test with a non-commutative operator\n",
    "p = rdd.reduce(lambda x,y: x-y) # r = 1-2-3-4-5-6-7-8-9 = -43\n",
    "print(\"1-2-3-4-5-6-7-8-9 = {0}\".format(p))\n",
    "\n",
    "# It does not work with empty RDDs\n",
    "#sc.parallelize([]).reduce(add)"
   ]
  },
  {
   "cell_type": "markdown",
   "metadata": {
    "id": "3fJ8RRbX4rYl"
   },
   "source": [
    "-   `fold(zero, op)` general version of `reduce`: \n",
    "    - An initial zero value must be provided to the operator\n",
    "    - The initial value must be the operator's identity value (i.e. 0 for addition; 1 for product, or an empty list for a list concatenation)\n",
    "        - It works with empty RDDs\n",
    "    - The `op` function must be a commutative monoid to ensure a consistent output\n",
    "        - Different behaviour compared to `fold` operations of languages such as Scala\n",
    "        - The operator is applied at partition level (using `zero` as initial value), and late between all partitions (using `zero` again)\n",
    "        - For non-commutative operators, the output might be different from the one obtained using a sequential `fold`"
   ]
  },
  {
   "cell_type": "code",
   "execution_count": null,
   "metadata": {
    "id": "3sPNN_Tj4ujN"
   },
   "outputs": [
    {
     "name": "stdout",
     "output_type": "stream",
     "text": [
      "Python 3.9.2\n",
      "[[1, 3], [2, 4, 2]]\n",
      "12\n",
      "[[1], [3, 2], [4, 2]]\n",
      "48\n",
      "('d', 3)\n"
     ]
    }
   ],
   "source": [
    "!python -V\n",
    "\n",
    "#addition\n",
    "rdd1 = sc.parallelize([1,3,2,4,2], 2)\n",
    "print(rdd1.glom().collect())\n",
    "f1 = rdd1.fold(0,lambda a,b:a+b )\n",
    "print(f1)\n",
    "\n",
    "\n",
    "#product\n",
    "rdd2 = sc.parallelize([1,3,2,4,2], 3)\n",
    "print(rdd2.glom().collect())\n",
    "f2 = rdd2.fold(1,lambda a,b:a*b )\n",
    "print(f2)\n",
    "\n",
    "#max\n",
    "from functools import partial\n",
    "from operator import itemgetter\n",
    "\n",
    "data = sc.parallelize([('a', 1), ('b', 2),('c', 0), ('d', 3)])\n",
    "zero = (None, float(\"-Inf\"))\n",
    "#print(zero)\n",
    "op = partial(max, key=itemgetter(1))\n",
    "#print(op)\n",
    "f3 = data.fold(zero,op)\n",
    "print(f3)"
   ]
  },
  {
   "cell_type": "markdown",
   "metadata": {
    "id": "k9t5XLca43dO"
   },
   "source": [
    "#### Other aggregate functions: `aggregate`"
   ]
  },
  {
   "cell_type": "markdown",
   "metadata": {
    "id": "khJ7RlMC49pE"
   },
   "source": [
    " - `aggregate(zero,seqOp,combOp)`: Returns a collection by aggregating the RDD elements using two functions:\n",
    "      1. `seqOp` -  partition-level aggregation: an accumulator is created by partition (initialised to `zero`); values from the partition are aggregated in the accumulator\n",
    "      2. `combOp` - Aggregation between partitions: all accumulators from each partition are aggregated\n",
    "      -  Both aggregations use an initial value `zero` (similar to the `fold` case).\n",
    " \n",
    "- General version of `reduce` and `fold`    \n",
    "- The first function (`seqOp`) can return a type, U, different to the T type of the RDD elements\n",
    "    - `seqOp` aggregates T-type elements and returns a U-type\n",
    "    - `combOp` aggregates U-type elements\n",
    "    - `zero` must be of U-type\n",
    " \n",
    "- Can return a type different from the input RDD elements."
   ]
  },
  {
   "cell_type": "code",
   "execution_count": 56,
   "metadata": {
    "id": "OtqMFe975iTf"
   },
   "outputs": [
    {
     "name": "stdout",
     "output_type": "stream",
     "text": [
      "(10, 4)\n"
     ]
    },
    {
     "data": {
      "text/plain": [
       "2.5"
      ]
     },
     "execution_count": 56,
     "metadata": {},
     "output_type": "execute_result"
    }
   ],
   "source": [
    "# Example: compute the average of an RDD\n",
    "#            (0, 0) <-- zeroValue\n",
    "#\n",
    "#    [1, 2]              [3, 4]\n",
    "#\n",
    "#    0 + 1 = 1           0 + 3 = 3  -> seqOp\n",
    "#    0 + 1 = 1           0 + 1 = 1\n",
    "#\n",
    "#    1 + 2 = 3           3 + 4 = 7\n",
    "#    1 + 1 = 2           1 + 1 = 2\n",
    "#        |                   |\n",
    "#        v                   v\n",
    "#     (3, 2)              (7, 2)\n",
    "#         \\                 /\n",
    "#          \\               /\n",
    "#           \\             /\n",
    "#            \\           /\n",
    "#             ------------\n",
    "#             |  combOp  |\n",
    "#             ------------\n",
    "#                  |\n",
    "#                  v\n",
    "#               (10, 4)\n",
    "  \n",
    "seqOp = (lambda local_result, list_element: (local_result[0] + list_element, local_result[1] + 1) )\n",
    "rddSeqOp = rdd.filter(seqOp)\n",
    "combOp = (lambda some_local_result, another_local_result: (some_local_result[0] + another_local_result[0], some_local_result[1] + another_local_result[1]) )\n",
    "sumCount = sc.parallelize([1, 2, 3, 4],2).aggregate((0, 0), seqOp, combOp)\n",
    "print(sumCount)\n",
    "sumCount[0] / float(sumCount[1])"
   ]
  },
  {
   "cell_type": "code",
   "execution_count": 26,
   "metadata": {
    "id": "RcRe74tg5nwR"
   },
   "outputs": [
    {
     "name": "stderr",
     "output_type": "stream",
     "text": [
      "test_a (__main__.TestNotebook) ... "
     ]
    },
    {
     "name": "stdout",
     "output_type": "stream",
     "text": [
      "([1, 4, 9, 16, 25, 36, 49, 64], 40320.0, 8)\n"
     ]
    },
    {
     "name": "stderr",
     "output_type": "stream",
     "text": [
      "ok\n",
      "\n",
      "----------------------------------------------------------------------\n",
      "Ran 1 test in 0.001s\n",
      "\n",
      "OK\n"
     ]
    },
    {
     "data": {
      "text/plain": [
       "<unittest.main.TestProgram at 0x7fdd8d55e430>"
      ]
     },
     "execution_count": 26,
     "metadata": {},
     "output_type": "execute_result"
    }
   ],
   "source": [
    "import unittest\n",
    "\n",
    "l = [1, 2, 3, 4, 5, 6, 7, 8]\n",
    "rdd = sc.parallelize(l)\n",
    "\n",
    "# acc is a three-element tuple (List, Double, Int)\n",
    "# The squared elements of RDD are concatenated in the first element of acc (list). \n",
    "# The second element accumulates the RDD elements after a multiplication\n",
    "# The third one stores the number of elements of the RDD\n",
    "seqOp  = (lambda acc, val: (acc[0]+[val*val], \n",
    "                            acc[1]*val, \n",
    "                            acc[2]+1))\n",
    "# For each partition, a new tuple of type acc is created\n",
    "# In this operation, the three elements of the tuples are combined\n",
    "combOp = (lambda acc1, acc2: (acc1[0]+acc2[0], \n",
    "                              acc1[1]*acc2[1], \n",
    "                              acc1[2]+acc2[2]))\n",
    "                              \n",
    "a = rdd.aggregate(([], 1., 0), seqOp, combOp) \n",
    "\n",
    "print(a)\n",
    "\n",
    "\n",
    "class TestNotebook(unittest.TestCase):\n",
    "\n",
    "    def test_a(self):\n",
    "\n",
    "        self.assertEqual(a[1],8.*7.*6.*5.*4.*3.*2.*1.)\n",
    "        self.assertEqual(a[2], len(l))\n",
    "        \n",
    "unittest.main(argv=[''], verbosity=2, exit=False)\n",
    "\n",
    "\n"
   ]
  },
  {
   "cell_type": "markdown",
   "metadata": {
    "id": "0R7X1Mqt5xXV"
   },
   "source": [
    "#### Actions to count elements on RDDs\n",
    "- `count()` returns an integer with the exact number of elements in the RDD\n",
    "- `countApprox(timeout, confidence=0.95)` approximate version of `count()`, it returns a result potentially incomplete in a maximal time, even if not all tasks have finished (Experimental).\n",
    "    - `timeout` is a long integer and gives the time in milliseconds\n",
    "    - `confidence` probability of obtaining the the actual value. If `confidence` is 0.90 it means that, after several executions, we expect that 90% of them return the right value. Output value in [0,1]\n",
    "- `countApproxDistinct(relativeSD=0.05)` returns an estimation of the number of different elements in the RDD (Experimental).\n",
    "    - `relativeSD` – relative accuracy (smaller values imply a lower error, but require more memory; they must be higher than 0.000017).\n"
   ]
  },
  {
   "cell_type": "code",
   "execution_count": 64,
   "metadata": {
    "id": "c2RtxZIv6F4U"
   },
   "outputs": [
    {
     "name": "stdout",
     "output_type": "stream",
     "text": [
      "Total number of elements: 10000\n"
     ]
    },
    {
     "name": "stderr",
     "output_type": "stream",
     "text": [
      "                                                                                \r"
     ]
    },
    {
     "name": "stdout",
     "output_type": "stream",
     "text": [
      "Number of different elements: 20\n",
      "Total number of elements (approx.): 10000\n",
      "Number of different elements (approx.): 18\n"
     ]
    }
   ],
   "source": [
    "rdd = sc.parallelize([i % 20 for i in range(10000)], 16)\n",
    "print(\"Total number of elements: {0}\".format(rdd.count()))\n",
    "print(\"Number of different elements: {0}\".format(rdd.distinct().count()))\n",
    "\n",
    "print(\"Total number of elements (approx.): {0}\".format(rdd.countApprox(1, 0.4)))\n",
    "print(\"Number of different elements (approx.): {0}\".format(rdd.countApproxDistinct(0.5)))"
   ]
  },
  {
   "cell_type": "markdown",
   "metadata": {
    "id": "peDFQ_z36KBW"
   },
   "source": [
    "-   `countByValue()` returns the number of appearances of each element in the RDD as a map (or dictionary) in a key/value fashion\n",
    "    - Keys are the RDD elements. Values are the number of occurrences of the associated key"
   ]
  },
  {
   "cell_type": "code",
   "execution_count": 65,
   "metadata": {
    "id": "KGIFUB7t6Ry0"
   },
   "outputs": [
    {
     "name": "stdout",
     "output_type": "stream",
     "text": [
      "<class 'collections.defaultdict'>\n",
      "dict_items([('a', 5), ('b', 2), ('r', 2), ('c', 1), ('d', 1)])\n"
     ]
    }
   ],
   "source": [
    "rdd = sc.parallelize(list(\"abracadabra\")).cache()\n",
    "mymap = rdd.countByValue()\n",
    "\n",
    "print(type(mymap))\n",
    "print(mymap.items())"
   ]
  },
  {
   "cell_type": "markdown",
   "metadata": {
    "id": "aM_x4BLA6War"
   },
   "source": [
    "#### Actions to obtain values\n",
    "- These methods must be used with care: if the expected result is very large the driver memory can be saturated"
   ]
  },
  {
   "cell_type": "markdown",
   "metadata": {
    "id": "Y3MQ5lPi6ZsV"
   },
   "source": [
    "-   `collect()` returns a list with all the RDD elements\n",
    "-   `show()` shows the elements as a table"
   ]
  },
  {
   "cell_type": "markdown",
   "metadata": {
    "id": "PDXLHPRk6fqk"
   },
   "source": [
    "-   `take(n)` returns the `n` first elements of the RDD\n",
    "-   `takeSample(withRep, n, [seed])` returns `n` random elements of the RDD\n",
    "    - `withRep`: if True, the same element can appear several times in the sample\n",
    "    - `seed`: seed for the random number generator"
   ]
  },
  {
   "cell_type": "code",
   "execution_count": 111,
   "metadata": {
    "id": "4DF5OD7c6SN_"
   },
   "outputs": [
    {
     "name": "stdout",
     "output_type": "stream",
     "text": [
      "[['a', 'b'], ['r', 'a', 'c', 'a'], ['d', 'a'], ['b', 'r', 'a']]\n",
      "['a', 'b', 'r', 'a', 'c', 'a', 'd', 'a', 'b', 'r', 'a']\n"
     ]
    }
   ],
   "source": [
    "print(rdd.glom().collect())\n",
    "mylist = rdd.collect()\n",
    "print(mylist)"
   ]
  },
  {
   "cell_type": "code",
   "execution_count": 113,
   "metadata": {
    "id": "cZeRxNci6lKA"
   },
   "outputs": [
    {
     "name": "stdout",
     "output_type": "stream",
     "text": [
      "['a', 'b', 'r', 'a']\n",
      "['b', 'c', 'b', 'r']\n"
     ]
    }
   ],
   "source": [
    "t = rdd.take(4)\n",
    "print(t)\n",
    "s = rdd.takeSample(False, 4)\n",
    "print(s)"
   ]
  },
  {
   "cell_type": "markdown",
   "metadata": {
    "id": "0VDC33Oo6rfq"
   },
   "source": [
    "-   `top(n)` returns a list with the first `n` elements of the RDD sorted in descending order\n",
    "-   `takeOrdered(n,[order])` returns a list with the first `n` elements of the RDD in ascending order (as opposite to `top`), or following the order indicated as a function in the optional parameter"
   ]
  },
  {
   "cell_type": "code",
   "execution_count": 119,
   "metadata": {
    "id": "b-MjWWQo6tc9"
   },
   "outputs": [
    {
     "name": "stdout",
     "output_type": "stream",
     "text": [
      "4 largest elements: [10, 9, 8, 7]\n",
      "4 smallest elements: [1, 2, 3, 4]\n",
      "4 largest elements: [10, 9, 8, 7]\n"
     ]
    }
   ],
   "source": [
    "rdd = sc.parallelize([8, 4, 2, 9, 3, 1, 10, 5, 6, 7]).cache()\n",
    "\n",
    "print(\"4 largest elements: {0}\".format(rdd.top(4)))\n",
    "\n",
    "print(\"4 smallest elements: {0}\".format(rdd.takeOrdered(4)))\n",
    "\n",
    "print(\"4 largest elements: {0}\".format(rdd.takeOrdered(4, lambda x: -x)))"
   ]
  },
  {
   "cell_type": "markdown",
   "metadata": {
    "id": "hyAADA2J_ncL"
   },
   "source": [
    "## RDDs of key/value pairs (aka *Pair RDDs*)\n",
    "\n",
    "-   Data types heavily used on Big Data (MapReduce)\n",
    "\n",
    "-   Spark provides special operation to handle them"
   ]
  },
  {
   "cell_type": "markdown",
   "metadata": {
    "id": "VVyfXBFZAWVV"
   },
   "source": [
    "### Creation of *Pair RDDs*\n",
    "Key/value RDDs can be created from a list of tuples, from another RDD or from a zip of two RDDs"
   ]
  },
  {
   "cell_type": "markdown",
   "metadata": {
    "id": "rfw7YLtkAc8z"
   },
   "source": [
    "-   From a list of tuples"
   ]
  },
  {
   "cell_type": "code",
   "execution_count": 118,
   "metadata": {
    "id": "PB0ZdRCIA5GU"
   },
   "outputs": [
    {
     "name": "stdout",
     "output_type": "stream",
     "text": [
      "[('a', 2), ('b', 5), ('a', 3)]\n",
      "[[], [('a', 0)], [('b', 1)], [('c', 2)]]\n",
      "[('a', 0), ('b', 1), ('c', 2)]\n"
     ]
    }
   ],
   "source": [
    "prdd = sc.parallelize([('a',2), ('b',5), ('a',3)])\n",
    "print(prdd.collect())\n",
    "\n",
    "prdd = sc.parallelize(zip(['a', 'b', 'c'], range(3)))\n",
    "print(prdd.glom().collect())\n",
    "print(prdd.collect())"
   ]
  },
  {
   "cell_type": "markdown",
   "metadata": {
    "id": "bSijjQ9MBvAz"
   },
   "source": [
    "-   From another RDD"
   ]
  },
  {
   "cell_type": "code",
   "execution_count": 57,
   "metadata": {
    "id": "pb-s7RgoBwX6"
   },
   "outputs": [
    {
     "name": "stdout",
     "output_type": "stream",
     "text": [
      "Pair (1st word, line): [('de', 'de vino tinto que encerraba en su vientre; y la cabeza cortada es la puta'), ('don', 'don Quijote llevaba, con intento de hallarse en las justas de Zaragoza.'), ('-¡Qué', '-¡Qué poco sabes, Sancho -respondió don Quijote-, de achaque de caballería!')]\n",
      "\n"
     ]
    }
   ],
   "source": [
    "# Example using a file\n",
    "# For each line we get a tuple, the first element being the first word of the line\n",
    "# and the second one the whole line\n",
    "linesrdd = sc.textFile(os.environ[\"DRIVE_DATA\"] + \"/quijote.txt\", use_unicode=True)\n",
    "prdd = linesrdd.map(lambda x: (x.split(\" \")[0], x))\n",
    "\n",
    "print('Pair (1st word, line): {0}\\n'.format(prdd.takeSample(False, 3)))\n"
   ]
  },
  {
   "cell_type": "code",
   "execution_count": 58,
   "metadata": {
    "id": "mSoBpRnCB7ij"
   },
   "outputs": [
    {
     "name": "stdout",
     "output_type": "stream",
     "text": [
      "[(4, 2), (9, 3), (16, 4)]\n"
     ]
    }
   ],
   "source": [
    "# Using keyBy(f): Creates tuples of the RDD elements using f to obtain the key.\n",
    "nrdd = sc.parallelize(range(2,5))\n",
    "prdd = nrdd.keyBy(lambda x: x*x)\n",
    "\n",
    "print(prdd.collect())"
   ]
  },
  {
   "cell_type": "code",
   "execution_count": 120,
   "metadata": {
    "id": "gEGXu3EFB9xj"
   },
   "outputs": [
    {
     "name": "stderr",
     "output_type": "stream",
     "text": [
      "                                                                                \r"
     ]
    },
    {
     "name": "stdout",
     "output_type": "stream",
     "text": [
      "[['a', 'b'], ['c', 'd'], ['e', 'f', 'g', 'h']]\n",
      "[('a', 0), ('b', 1), ('c', 2), ('d', 3), ('e', 4), ('f', 5), ('g', 6), ('h', 7)]\n"
     ]
    }
   ],
   "source": [
    "# zipWithIndex(): Zips the RDD with its elements' indexes.\n",
    "rdd = sc.parallelize(['a', 'b', 'c', 'd', 'e', 'f', 'g', 'h'], 3)\n",
    "\n",
    "print(rdd.glom().collect())\n",
    "\n",
    "\n",
    "prdd = rdd.zipWithIndex()\n",
    "\n",
    "print(prdd.collect())\n",
    "\n",
    "# This method starts a Spark job when the RDD has more than one partition"
   ]
  },
  {
   "cell_type": "code",
   "execution_count": 121,
   "metadata": {
    "id": "Mu5JfQX1CGRt"
   },
   "outputs": [
    {
     "name": "stdout",
     "output_type": "stream",
     "text": [
      "RDD partitions: [['a', 'b'], ['c', 'd'], ['e', 'f', 'g', 'h']]\n",
      "[('a', 0), ('b', 3), ('c', 1), ('d', 4), ('e', 2), ('f', 5), ('g', 8), ('h', 11)]\n"
     ]
    }
   ],
   "source": [
    "# zipWithUniqueId(): Zips the RDD with unique identifiers (long) for each element.\n",
    "# Elements in the k-th partition get the k, n+k, 2*n+k,... ids, being n = number of partitions\n",
    "# It does not start a Spark job\n",
    "rdd = sc.parallelize(['a', 'b', 'c', 'd', 'e', 'f', 'g', 'h'], 3)\n",
    "print(\"RDD partitions: {0}\".format(rdd.glom().collect()))\n",
    "prdd = rdd.zipWithUniqueId()\n",
    "\n",
    "print(prdd.collect())"
   ]
  },
  {
   "cell_type": "markdown",
   "metadata": {
    "id": "WQpK7Al4B4u_"
   },
   "source": [
    "- From a zip of two RDDs\n",
    "    - RDDs must have the same number of partitions and the same number of elements on each partition"
   ]
  },
  {
   "cell_type": "code",
   "execution_count": 122,
   "metadata": {
    "id": "AA5lHTHBR6bn"
   },
   "outputs": [
    {
     "name": "stdout",
     "output_type": "stream",
     "text": [
      "[(0, 1000), (1, 1001), (2, 1002), (3, 1003), (4, 1004)]\n"
     ]
    }
   ],
   "source": [
    "rdd1 = sc.parallelize(range(0, 5), 2)\n",
    "\n",
    "rdd2 = sc.parallelize(range(1000, 1005), 2)\n",
    "\n",
    "prdd = rdd1.zip(rdd2)\n",
    "\n",
    "print(prdd.collect())"
   ]
  },
  {
   "cell_type": "markdown",
   "metadata": {
    "id": "jUcY18f3CYcW"
   },
   "source": [
    "### Transformations on a single RDD containing key/value pairs\n",
    "On a single RDD key/value we can perform key-based aggregation transformations as well as transformations affecting keys or values"
   ]
  },
  {
   "cell_type": "markdown",
   "metadata": {
    "id": "o9CeV-c4CfnW"
   },
   "source": [
    "#### Aggregation transformations"
   ]
  },
  {
   "cell_type": "markdown",
   "metadata": {
    "id": "OkbKWP9CCs8J"
   },
   "source": [
    "-   `reduceByKey(func)`/`foldByKey(func)`\n",
    "    -  Return a RDD, grouping all values associated to the same key according to the `func` function\n",
    "    -  Similar to `reduce` and `fold` on simple RDDs"
   ]
  },
  {
   "cell_type": "code",
   "execution_count": 125,
   "metadata": {
    "id": "4QPGdWf6DYrl"
   },
   "outputs": [
    {
     "name": "stderr",
     "output_type": "stream",
     "text": [
      "[Stage 236:============================>                            (2 + 2) / 4]\r"
     ]
    },
    {
     "name": "stdout",
     "output_type": "stream",
     "text": [
      "[('b', 13), ('a', 10)]\n"
     ]
    },
    {
     "name": "stderr",
     "output_type": "stream",
     "text": [
      "                                                                                \r"
     ]
    }
   ],
   "source": [
    "from operator import add\n",
    "prdd   = sc.parallelize([('a', 2), ('b', 5), ('a', 8), ('b', 6), ('b', 2)]).cache()\n",
    "redrdd = prdd.reduceByKey(add)\n",
    "\n",
    "print(redrdd.collect())"
   ]
  },
  {
   "cell_type": "markdown",
   "metadata": {
    "id": "4BX9l_3aDbiJ"
   },
   "source": [
    "-   `groupByKey()` groups values associated to the same key\n",
    "    - Operation very costly on communications\n",
    "    - It is usually better to use a reduction operation\n"
   ]
  },
  {
   "cell_type": "code",
   "execution_count": 124,
   "metadata": {
    "id": "4RbKXqYyDiR2"
   },
   "outputs": [
    {
     "name": "stdout",
     "output_type": "stream",
     "text": [
      "[('b', <pyspark.resultiterable.ResultIterable object at 0x7fc7718fbdc0>), ('a', <pyspark.resultiterable.ResultIterable object at 0x7fc7718e8430>)]\n",
      "[('b', [5, 6, 2]), ('a', [2, 8])]\n"
     ]
    }
   ],
   "source": [
    "grouprdd = prdd.groupByKey()\n",
    "\n",
    "print(grouprdd.collect())\n",
    "print\n",
    "\n",
    "mylist = [(k, list(v)) for k, v in grouprdd.collect()]\n",
    "print(mylist)"
   ]
  },
  {
   "cell_type": "markdown",
   "metadata": {
    "id": "CXsEGHEsDpZn"
   },
   "source": [
    "- `combineByKey(createCombiner(func1), mergeValue(func2), mergeCombiners(func3))`\n",
    "    - General method for key-based aggregation, similar to `aggregate`\n",
    "    - It requires three functions:\n",
    "\n",
    "     1.  `createCombiner` when going through the elements of each partition, if we find a new key, a new cummulator is created and initialised with `func1`\n",
    "\n",
    "     2.  `mergeValue` merges values of each key in each partition using `func2`\n",
    "\n",
    "     3.  `mergeCombiners` merges the results from the different partitions using `func3`\n",
    "\n",
    "- The values of the output RDD can have a type different from the values of the input RDD."
   ]
  },
  {
   "cell_type": "code",
   "execution_count": 162,
   "metadata": {
    "id": "jV8DjwlBDuqJ"
   },
   "outputs": [
    {
     "name": "stdout",
     "output_type": "stream",
     "text": [
      "[('a', 2), ('b', 5), ('a', 8), ('b', 6), ('b', 2)]\n",
      "[('b', (13, 3)), ('a', (10, 2))]\n",
      "[('b', 4.333333333333333), ('a', 5.0)]\n"
     ]
    },
    {
     "name": "stderr",
     "output_type": "stream",
     "text": [
      "                                                                                \r"
     ]
    }
   ],
   "source": [
    "print(prdd.collect())\n",
    "\n",
    "m1 = prdd.map(lambda x: (x, 1))\n",
    "\n",
    "# For each key, it obtains a tuple with the addition and the number of values \n",
    "sumCount = prdd.combineByKey(\n",
    "                            (lambda x: (x, 1)),\n",
    "                            (lambda x, y: (x[0]+y, x[1]+1)),\n",
    "                            (lambda x, y: (x[0]+y[0], x[1]+y[1])))\n",
    "\n",
    "print(sumCount.collect())\n",
    "\n",
    "# With this RDD, we obtain the average value for each key\n",
    "m = sumCount.mapValues(lambda v: float(v[0])/v[1])\n",
    "print(m.collect())"
   ]
  },
  {
   "cell_type": "markdown",
   "metadata": {
    "id": "bwIinMjuGTir"
   },
   "source": [
    "#### Transformations on keys or values\n",
    "-   `keys()` returns a RDD with the keys\n",
    "-   `values()` returns a RDD with the values\n",
    "-   `sortByKey()` returns a RDD key/value with the keys sorted\n"
   ]
  },
  {
   "cell_type": "code",
   "execution_count": 41,
   "metadata": {
    "id": "_RprhvEhGXUy"
   },
   "outputs": [
    {
     "name": "stdout",
     "output_type": "stream",
     "text": [
      "RDD complete: [('a', 2), ('b', 5), ('a', 8), ('b', 6), ('b', 2)]\n",
      "RDD with the keys: ['a', 'b', 'a', 'b', 'b']\n",
      "RDD with the values: [2, 5, 8, 6, 2]\n",
      "RDD the sorted keys: [('a', 2), ('a', 8), ('b', 5), ('b', 6), ('b', 2)]\n"
     ]
    }
   ],
   "source": [
    "print(\"RDD complete: {0}\".format(prdd.collect()))\n",
    "print(\"RDD with the keys: {0}\".format(prdd.keys().collect()))\n",
    "print(\"RDD with the values: {0}\".format(prdd.values().collect()))\n",
    "print(\"RDD the sorted keys: {0}\".format(prdd.sortByKey().collect()))"
   ]
  },
  {
   "cell_type": "markdown",
   "metadata": {
    "id": "-DI8fVvJGjJZ"
   },
   "source": [
    "-   `mapValues(func)` returns a RDD applying a function on its values\n",
    "-   `flatMapValues(func)` returns a RDD applying a function on its values and \"flattening\" the output."
   ]
  },
  {
   "cell_type": "code",
   "execution_count": 172,
   "metadata": {
    "id": "XmnXE5pyGmK4"
   },
   "outputs": [
    {
     "name": "stderr",
     "output_type": "stream",
     "text": [
      "                                                                                \r"
     ]
    },
    {
     "name": "stdout",
     "output_type": "stream",
     "text": [
      "[('a', (2, 20)), ('b', (5, 50)), ('a', (8, 80)), ('b', (6, 60)), ('b', (2, 20))]\n"
     ]
    },
    {
     "name": "stderr",
     "output_type": "stream",
     "text": [
      "[Stage 378:>                                                        (0 + 4) / 4]\r"
     ]
    },
    {
     "name": "stdout",
     "output_type": "stream",
     "text": [
      "[('a', 2), ('a', 20), ('b', 5), ('b', 50), ('a', 8), ('a', 80), ('b', 6), ('b', 60), ('b', 2), ('b', 20)]\n"
     ]
    },
    {
     "name": "stderr",
     "output_type": "stream",
     "text": [
      "                                                                                \r"
     ]
    }
   ],
   "source": [
    "mapv = prdd.mapValues(lambda x: (x, 10*x))\n",
    "print(mapv.collect())\n",
    "\n",
    "fmapv = prdd.flatMapValues(lambda x: (x, 10*x))\n",
    "print(fmapv.collect())"
   ]
  },
  {
   "cell_type": "markdown",
   "metadata": {
    "id": "zzGVWWLYGreo"
   },
   "source": [
    "### Transformations on two RDDs containing key/value pairs\n",
    "Combine two RDDs of type key/value to obtain a third RDD."
   ]
  },
  {
   "cell_type": "markdown",
   "metadata": {
    "id": "lZiT6m0wGw1N"
   },
   "source": [
    "- `join`/`leftOuterJoin`/`rightOuterJoin`/`fullOuterJoin` perform inner/outer/full joins on the two RDDs"
   ]
  },
  {
   "cell_type": "code",
   "execution_count": 173,
   "metadata": {
    "id": "Zxz5sB5oG2TH"
   },
   "outputs": [
    {
     "name": "stdout",
     "output_type": "stream",
     "text": [
      "[('a', (2, 1)), ('a', (8, 1))]\n"
     ]
    }
   ],
   "source": [
    "rdd1 = sc.parallelize([(\"a\", 2), (\"b\", 5), (\"a\", 8)]).cache()\n",
    "rdd2 = sc.parallelize([(\"c\", 7), (\"a\", 1)]).cache()\n",
    "\n",
    "rdd3 = rdd1.join(rdd2)\n",
    "\n",
    "print(rdd3.collect())"
   ]
  },
  {
   "cell_type": "code",
   "execution_count": 174,
   "metadata": {
    "id": "8FOea7fAG44n"
   },
   "outputs": [
    {
     "name": "stdout",
     "output_type": "stream",
     "text": [
      "[('a', (2, 1)), ('a', (8, 1)), ('b', (5, None))]\n"
     ]
    }
   ],
   "source": [
    "rdd3 = rdd1.leftOuterJoin(rdd2)\n",
    "\n",
    "print(rdd3.collect())"
   ]
  },
  {
   "cell_type": "code",
   "execution_count": 175,
   "metadata": {
    "id": "imBLvb0PG8X3"
   },
   "outputs": [
    {
     "name": "stdout",
     "output_type": "stream",
     "text": [
      "[('a', (2, 1)), ('a', (8, 1)), ('c', (None, 7))]\n"
     ]
    }
   ],
   "source": [
    "rdd3 = rdd1.rightOuterJoin(rdd2)\n",
    "\n",
    "print(rdd3.collect())"
   ]
  },
  {
   "cell_type": "code",
   "execution_count": 176,
   "metadata": {
    "id": "gSnOVgqNG94b"
   },
   "outputs": [
    {
     "name": "stdout",
     "output_type": "stream",
     "text": [
      "[('a', (2, 1)), ('a', (8, 1)), ('b', (5, None)), ('c', (None, 7))]\n"
     ]
    }
   ],
   "source": [
    "rdd3 = rdd1.fullOuterJoin(rdd2)\n",
    "\n",
    "print(rdd3.collect())"
   ]
  },
  {
   "cell_type": "markdown",
   "metadata": {
    "id": "KbR8z_LTHCcd"
   },
   "source": [
    "-   `subtractByKey` deletes elements with a key present in another RDD"
   ]
  },
  {
   "cell_type": "code",
   "execution_count": 177,
   "metadata": {
    "id": "OuTlI8iEHHBQ"
   },
   "outputs": [
    {
     "name": "stdout",
     "output_type": "stream",
     "text": [
      "[('b', 5)]\n"
     ]
    }
   ],
   "source": [
    "rdd3 = rdd1.subtractByKey(rdd2)\n",
    "\n",
    "print(rdd3.collect())"
   ]
  },
  {
   "cell_type": "markdown",
   "metadata": {
    "id": "r_VWBLneHLyq"
   },
   "source": [
    "-   `cogroup` groups the elements that share the same key in both RDDs"
   ]
  },
  {
   "cell_type": "code",
   "execution_count": 187,
   "metadata": {
    "id": "hNMwjFgsHPmW"
   },
   "outputs": [
    {
     "name": "stderr",
     "output_type": "stream",
     "text": [
      "                                                                                \r"
     ]
    },
    {
     "name": "stdout",
     "output_type": "stream",
     "text": [
      "[('a', (<pyspark.resultiterable.ResultIterable object at 0x7fc771191310>, <pyspark.resultiterable.ResultIterable object at 0x7fc771151340>)), ('b', (<pyspark.resultiterable.ResultIterable object at 0x7fc771151bb0>, <pyspark.resultiterable.ResultIterable object at 0x7fc771151820>)), ('c', (<pyspark.resultiterable.ResultIterable object at 0x7fc7711552e0>, <pyspark.resultiterable.ResultIterable object at 0x7fc771155d00>))]\n",
      "[('a', [[2, 8], [1]]), ('b', [[5], []]), ('c', [[], [7]])]\n",
      "{'a': [[2, 8], [1]], 'b': [[5], []], 'c': [[], [7]]}\n",
      "{'a': [[2, 8], [1]], 'b': [[5], []], 'c': [[], [7]]}\n"
     ]
    }
   ],
   "source": [
    "rdd3 = rdd1.cogroup(rdd2)\n",
    "\n",
    "print(rdd3.collect())\n",
    "\n",
    "print(rdd3.map(lambda x: (x[0], [list(l) for l in x[1]])).collect())\n",
    "print(rdd3.map(lambda x: (x[0], [list(l) for l in x[1]])).collectAsMap())\n",
    "map = rdd3.mapValues(lambda v: [list(l) for l in v]).collectAsMap()\n",
    "\n",
    "print(map)"
   ]
  },
  {
   "cell_type": "markdown",
   "metadata": {
    "id": "osMFwM1PHZx7"
   },
   "source": [
    "### Actions on RDDs key/value\n",
    "On RDDs key/value we can apply the same actions as for simple RDDs, as well as some additional ones.\n"
   ]
  },
  {
   "cell_type": "markdown",
   "metadata": {
    "id": "H5SRPugkHdRj"
   },
   "source": [
    "-   `collectAsMap()` obtains a RDD as a map"
   ]
  },
  {
   "cell_type": "code",
   "execution_count": 191,
   "metadata": {
    "id": "8a6uJnHGHif_"
   },
   "outputs": [
    {
     "name": "stdout",
     "output_type": "stream",
     "text": [
      "[('a', 7), ('b', 5), ('a', 8)]\n",
      "{'a': 8, 'b': 5}\n"
     ]
    }
   ],
   "source": [
    "prdd = sc.parallelize([(\"a\", 7), (\"b\", 5), (\"a\", 8)]).cache()\n",
    "print(prdd.collect())\n",
    "rddMap = prdd.collectAsMap() # ??\n",
    "\n",
    "print(rddMap)"
   ]
  },
  {
   "cell_type": "markdown",
   "metadata": {
    "id": "IA7kaVM2HgjA"
   },
   "source": [
    "-   `countByKey()` returns a map with the number of occurrences of each key"
   ]
  },
  {
   "cell_type": "code",
   "execution_count": 192,
   "metadata": {
    "id": "xavrSmxKHmxh"
   },
   "outputs": [
    {
     "name": "stdout",
     "output_type": "stream",
     "text": [
      "defaultdict(<class 'int'>, {'a': 2, 'b': 1})\n"
     ]
    }
   ],
   "source": [
    "countMap = prdd.countByKey()\n",
    "\n",
    "print(countMap)"
   ]
  },
  {
   "cell_type": "markdown",
   "metadata": {
    "id": "jLA2qNycHp6N"
   },
   "source": [
    "-   `lookup(key)` returns a list with the values associated to a given key"
   ]
  },
  {
   "cell_type": "code",
   "execution_count": 193,
   "metadata": {
    "id": "_sFDk3YzHsTY"
   },
   "outputs": [
    {
     "name": "stdout",
     "output_type": "stream",
     "text": [
      "[7, 8]\n"
     ]
    }
   ],
   "source": [
    "listA = prdd.lookup('a')\n",
    "\n",
    "print(listA)"
   ]
  },
  {
   "cell_type": "markdown",
   "metadata": {
    "id": "Ts0Zsb4fKFdd"
   },
   "source": [
    "##Numeric RDDs \n",
    "\n",
    "\n",
    "Descriptive statistics operations provided by Spark\n",
    "\n",
    "  Method              |  Description                       \n",
    "  ------------------- | ---------------------------------- \n",
    "  stats()             | Statistics overview            \n",
    "  mean()              | Average of the elements\n",
    "  sum(), max(), min() | Total, maximum value and minimum value\n",
    "  variance()          | Variance of the elements\n",
    "  sampleVariance()    | Variance of the elements, computed for a sample\n",
    "  stdev()             | Standard deviation\n",
    "  sampleStdev()       | Sample standard deviation\n",
    "  histogram()         | Histogram"
   ]
  },
  {
   "cell_type": "code",
   "execution_count": 194,
   "metadata": {
    "id": "KSq_Xio1KPf7"
   },
   "outputs": [
    {
     "name": "stdout",
     "output_type": "stream",
     "text": [
      "Statistics overview:\n",
      " (count: 10000, mean: -0.0007921076517200124, stdev: 1.0031050229569765, max: 3.9086601337666425, min: -3.612770829751551)\n",
      "\n"
     ]
    }
   ],
   "source": [
    "import numpy as np\n",
    "\n",
    "# Consider an RDD of random data with normal distribution\n",
    "nrdd = sc.parallelize(np.random.normal(size=10000)).cache()\n",
    "\n",
    "# Statistics overview\n",
    "sts = nrdd.stats()\n",
    "\n",
    "print(\"Statistics overview:\\n {0}\\n\".format(sts))"
   ]
  },
  {
   "cell_type": "code",
   "execution_count": 195,
   "metadata": {
    "id": "TlYGN9ffKVJK"
   },
   "outputs": [
    {
     "name": "stdout",
     "output_type": "stream",
     "text": [
      "Number of outliers: 23\n"
     ]
    }
   ],
   "source": [
    "from math import fabs\n",
    "\n",
    "# Filter outliers\n",
    "stddev = sts.stdev()\n",
    "avg = sts.mean()\n",
    "\n",
    "frdd = nrdd.filter(lambda x: fabs(x - avg) < 3*stddev).cache()\n",
    "\n",
    "print(\"Number of outliers: {0}\".format(sts.count() - frdd.count()))"
   ]
  },
  {
   "cell_type": "code",
   "execution_count": 197,
   "metadata": {},
   "outputs": [
    {
     "name": "stdout",
     "output_type": "stream",
     "text": [
      "Collecting matplotlib\n",
      "  Downloading matplotlib-3.6.2-cp39-cp39-manylinux_2_17_x86_64.manylinux2014_x86_64.whl (11.8 MB)\n",
      "\u001b[2K     \u001b[90m━━━━━━━━━━━━━━━━━━━━━━━━━━━━━━━━━━━━━━━━\u001b[0m \u001b[32m11.8/11.8 MB\u001b[0m \u001b[31m3.7 MB/s\u001b[0m eta \u001b[36m0:00:00\u001b[0m00:01\u001b[0m00:01\u001b[0m\n",
      "\u001b[?25hCollecting fonttools>=4.22.0\n",
      "  Downloading fonttools-4.38.0-py3-none-any.whl (965 kB)\n",
      "\u001b[2K     \u001b[90m━━━━━━━━━━━━━━━━━━━━━━━━━━━━━━━━━━━━━━━\u001b[0m \u001b[32m965.4/965.4 kB\u001b[0m \u001b[31m5.0 MB/s\u001b[0m eta \u001b[36m0:00:00\u001b[0m00:01\u001b[0m00:01\u001b[0m\n",
      "\u001b[?25hRequirement already satisfied: pyparsing>=2.2.1 in /usr/local/lib/python3.9/dist-packages (from matplotlib) (3.0.9)\n",
      "Requirement already satisfied: numpy>=1.19 in /usr/local/lib/python3.9/dist-packages (from matplotlib) (1.23.5)\n",
      "Collecting pillow>=6.2.0\n",
      "  Downloading Pillow-9.3.0-cp39-cp39-manylinux_2_28_x86_64.whl (3.3 MB)\n",
      "\u001b[2K     \u001b[90m━━━━━━━━━━━━━━━━━━━━━━━━━━━━━━━━━━━━━━━━\u001b[0m \u001b[32m3.3/3.3 MB\u001b[0m \u001b[31m5.1 MB/s\u001b[0m eta \u001b[36m0:00:00\u001b[0m00:01\u001b[0m00:01\u001b[0m\n",
      "\u001b[?25hCollecting cycler>=0.10\n",
      "  Downloading cycler-0.11.0-py3-none-any.whl (6.4 kB)\n",
      "Requirement already satisfied: python-dateutil>=2.7 in /usr/local/lib/python3.9/dist-packages (from matplotlib) (2.8.2)\n",
      "Collecting contourpy>=1.0.1\n",
      "  Downloading contourpy-1.0.6-cp39-cp39-manylinux_2_17_x86_64.manylinux2014_x86_64.whl (296 kB)\n",
      "\u001b[2K     \u001b[90m━━━━━━━━━━━━━━━━━━━━━━━━━━━━━━━━━━━━━━━\u001b[0m \u001b[32m296.3/296.3 kB\u001b[0m \u001b[31m4.8 MB/s\u001b[0m eta \u001b[36m0:00:00\u001b[0ma \u001b[36m0:00:01\u001b[0m\n",
      "\u001b[?25hCollecting kiwisolver>=1.0.1\n",
      "  Downloading kiwisolver-1.4.4-cp39-cp39-manylinux_2_12_x86_64.manylinux2010_x86_64.whl (1.6 MB)\n",
      "\u001b[2K     \u001b[90m━━━━━━━━━━━━━━━━━━━━━━━━━━━━━━━━━━━━━━━━\u001b[0m \u001b[32m1.6/1.6 MB\u001b[0m \u001b[31m4.9 MB/s\u001b[0m eta \u001b[36m0:00:00\u001b[0m00:01\u001b[0m00:01\u001b[0m\n",
      "\u001b[?25hRequirement already satisfied: packaging>=20.0 in /usr/local/lib/python3.9/dist-packages (from matplotlib) (21.3)\n",
      "Requirement already satisfied: six>=1.5 in /usr/local/lib/python3.9/dist-packages (from python-dateutil>=2.7->matplotlib) (1.16.0)\n",
      "Installing collected packages: pillow, kiwisolver, fonttools, cycler, contourpy, matplotlib\n",
      "Successfully installed contourpy-1.0.6 cycler-0.11.0 fonttools-4.38.0 kiwisolver-1.4.4 matplotlib-3.6.2 pillow-9.3.0\n",
      "\u001b[33mWARNING: Running pip as the 'root' user can result in broken permissions and conflicting behaviour with the system package manager. It is recommended to use a virtual environment instead: https://pip.pypa.io/warnings/venv\u001b[0m\u001b[33m\n",
      "\u001b[0m"
     ]
    }
   ],
   "source": [
    "!pip install matplotlib"
   ]
  },
  {
   "cell_type": "code",
   "execution_count": 228,
   "metadata": {
    "id": "wJJc_21GKbKw"
   },
   "outputs": [
    {
     "name": "stdout",
     "output_type": "stream",
     "text": [
      "[-3.008866754481756, -2.4090661185455384, -1.8092654826093209, -1.2094648466731033, -0.6096642107368857, -0.009863574800668129, 0.5899370611355494, 1.189737697071767, 1.7895383330079846, 2.389338968944202, 2.9891396048804193]\n",
      "[-3.008866754481756, -2.4090661185455384, -1.8092654826093209, -1.2094648466731033, -0.6096642107368857, -0.009863574800668129, 0.5899370611355494, 1.189737697071767, 1.7895383330079846, 2.389338968944202]\n",
      "[76, 271, 791, 1567, 2219, 2275, 1609, 811, 288, 70]\n"
     ]
    },
    {
     "data": {
      "text/plain": [
       "Text(0.5, 1.0, 'Histogram')"
      ]
     },
     "execution_count": 228,
     "metadata": {},
     "output_type": "execute_result"
    },
    {
     "data": {
      "text/plain": [
       "<Figure size 640x480 with 0 Axes>"
      ]
     },
     "metadata": {},
     "output_type": "display_data"
    },
    {
     "data": {
      "image/png": "[encoded data removed]",
      "text/plain": [
       "<Figure size 640x480 with 1 Axes>"
      ]
     },
     "metadata": {},
     "output_type": "display_data"
    }
   ],
   "source": [
    "#import base64\n",
    "import matplotlib.pyplot as plt; plt.rcdefaults()\n",
    "import matplotlib.pyplot as plt\n",
    "import io\n",
    "\n",
    "def show(p):\n",
    "    img = io.StringIO()\n",
    "    p.savefig(img, format='svg')\n",
    "    img.seek(0)\n",
    "    print (\"%html <div style='width:600px'>\" + img.buf + \"</div>\")\n",
    "\n",
    "# Get a histogram with 10 groups\n",
    "x,y = frdd.histogram(10)\n",
    "\n",
    "# Clean the plot\n",
    "plt.gcf().clear()\n",
    "plt.figure()\n",
    "print(x)\n",
    "print(x[:-1]) # don't count the last col to have the same size with y\n",
    "print(y)\n",
    "plt.bar(x[:-1], y, width=0.6)\n",
    "plt.xlabel(u'Values')\n",
    "plt.ylabel(u'Number of occurrences')\n",
    "plt.title(u'Histogram')\n",
    "\n",
    "#show(plt)"
   ]
  },
  {
   "cell_type": "markdown",
   "metadata": {
    "id": "KhRQQgPWM9ZU"
   },
   "source": [
    "## Reading and writing RDDs from/to files"
   ]
  },
  {
   "cell_type": "markdown",
   "metadata": {
    "id": "2-krfCkdNDt2"
   },
   "source": [
    "### Supported filesystems\n",
    "-   Like Hadoop, Spark supports different filesystems: local, HDFS, Amazon S3\n",
    "\n",
    "    -   In general, it supports any data source that can be read with Hadoop\n",
    "\n",
    "-   It can access relational or noSQL databases\n",
    "\n",
    "    -   MySQL, Postgres, etc. using JDBC\n",
    "    -   Apache Hive, HBase, Cassandra or Elasticsearch\n",
    "\n",
    "### Supported file formats\n",
    "\n",
    "-   Spark can access different file types:\n",
    "\n",
    "    -   Plain text, CSV, sequence files, JSON, *protocol buffers* and *object files*\n",
    "        -   It supports compressed files"
   ]
  },
  {
   "cell_type": "markdown",
   "metadata": {
    "id": "UlI-91DzNekY"
   },
   "source": [
    "### Examples with text files\n",
    "\n",
    "In the `../yourDrive/books` directory there is a collection of compressed text files."
   ]
  },
  {
   "cell_type": "code",
   "execution_count": 229,
   "metadata": {
    "id": "CqI6MeqkNirc"
   },
   "outputs": [
    {
     "name": "stdout",
     "output_type": "stream",
     "text": [
      "pg14329.txt.gz\tpg17013.txt.gz\tpg2000.txt.gz\tpg25807.txt.gz\tpg7109.txt.gz\n",
      "pg1619.txt.gz\tpg17073.txt.gz\tpg24536.txt.gz\tpg32315.txt.gz\tpg8870.txt.gz\n",
      "pg16625.txt.gz\tpg18005.txt.gz\tpg25640.txt.gz\tpg5201.txt.gz\tpg9980.txt.gz\n"
     ]
    }
   ],
   "source": [
    "# Input files\n",
    "!ls \"$DRIVE_DATA\"/books"
   ]
  },
  {
   "cell_type": "markdown",
   "metadata": {
    "id": "rUbrWdpANn69"
   },
   "source": [
    "### Functions for reading and writing text files\n",
    "\n",
    "\n",
    "- `sc.textFile(file/directory_name)` It creates an RDD from the lines of one or several text files \n",
    "    - If a directory is specified, all files inside will be read, creating a partition per file\n",
    "    - Files can be compressed, also in different formats (gz, bz2,...)\n",
    "    - Wildcards can be specified in the file name\n",
    "- `sc.wholeTextFiles(file/directory_name)` Reads the file and returns a key/value RDD\n",
    "    - key: File absolute path\n",
    "    - value: The whole text of the file\n",
    "- `rdd.saveAsTextFile(output_directory)` Stores the RDD in text format in the specified directory\n",
    "    - Creates a file for each partition of rdd\n"
   ]
  },
  {
   "cell_type": "code",
   "execution_count": 230,
   "metadata": {
    "id": "qEC3rkJwOGl-"
   },
   "outputs": [
    {
     "name": "stdout",
     "output_type": "stream",
     "text": [
      "Number of partitions of the RDD lines = 15\n"
     ]
    }
   ],
   "source": [
    "# Reads all files in the directory \n",
    "# and creates an RDD with their lines\n",
    "lines = sc.textFile(os.environ[\"DRIVE_DATA\"] + \"books\")\n",
    "\n",
    "# Creates a partition per input file \n",
    "print(\"Number of partitions of the RDD lines = {0}\".format(\n",
    "       lines.getNumPartitions()))"
   ]
  },
  {
   "cell_type": "code",
   "execution_count": 233,
   "metadata": {},
   "outputs": [
    {
     "name": "stderr",
     "output_type": "stream",
     "text": [
      "                                                                                \r"
     ]
    },
    {
     "name": "stdout",
     "output_type": "stream",
     "text": [
      "['The Project Gutenberg EBook of Viajes de un Colombiano en Europa I.', 'by José María Samper', '']\n"
     ]
    }
   ],
   "source": [
    "print(lines.collect()[:3])"
   ]
  },
  {
   "cell_type": "code",
   "execution_count": 231,
   "metadata": {
    "id": "9q7IIuqxOrpI"
   },
   "outputs": [
    {
     "name": "stdout",
     "output_type": "stream",
     "text": [
      "Number of partitions of the RDD words = 15\n"
     ]
    }
   ],
   "source": [
    "# Gets the words using the split method (split uses a space as default delimiter)\n",
    "words = lines.flatMap(lambda x: x.split())\n",
    "print(\"Number of partitions of the RDD words = {0}\".format(\n",
    "       words.getNumPartitions()))"
   ]
  },
  {
   "cell_type": "code",
   "execution_count": 235,
   "metadata": {},
   "outputs": [
    {
     "name": "stderr",
     "output_type": "stream",
     "text": [
      "                                                                                \r"
     ]
    },
    {
     "name": "stdout",
     "output_type": "stream",
     "text": [
      "['The', 'Project', 'Gutenberg']\n"
     ]
    }
   ],
   "source": [
    "print(words.collect()[:3])"
   ]
  },
  {
   "cell_type": "code",
   "execution_count": 238,
   "metadata": {
    "id": "gjpgVQpXOss6"
   },
   "outputs": [
    {
     "name": "stdout",
     "output_type": "stream",
     "text": [
      "Number of partitions of the RDD words2 = 4\n"
     ]
    }
   ],
   "source": [
    "# Repartitioning the RDD in 4 partitions       \n",
    "words2 = words.coalesce(4)\n",
    "print(\"Number of partitions of the RDD words2 = {0}\".format(\n",
    "       words2.getNumPartitions()))"
   ]
  },
  {
   "cell_type": "code",
   "execution_count": 239,
   "metadata": {},
   "outputs": [
    {
     "name": "stderr",
     "output_type": "stream",
     "text": [
      "                                                                                \r"
     ]
    },
    {
     "name": "stdout",
     "output_type": "stream",
     "text": [
      "['The', 'Project', 'Gutenberg']\n"
     ]
    }
   ],
   "source": [
    "print(words2.collect()[:3])"
   ]
  },
  {
   "cell_type": "code",
   "execution_count": 240,
   "metadata": {
    "id": "YLGz4yHfPc1R"
   },
   "outputs": [
    {
     "name": "stderr",
     "output_type": "stream",
     "text": [
      "[Stage 486:==========================================>              (3 + 1) / 4]\r"
     ]
    },
    {
     "name": "stdout",
     "output_type": "stream",
     "text": [
      "['qué', 'misterio', 'negocios', 'mí!...', 'hermano,', 'este', 'si', 'a', 'replicar,', 'y']\n"
     ]
    },
    {
     "name": "stderr",
     "output_type": "stream",
     "text": [
      "                                                                                \r"
     ]
    }
   ],
   "source": [
    "# Takes a random sample from the words\n",
    "print(words2.takeSample(False, 10))"
   ]
  },
  {
   "cell_type": "code",
   "execution_count": 241,
   "metadata": {
    "id": "lrZjjtogPgtU"
   },
   "outputs": [
    {
     "name": "stderr",
     "output_type": "stream",
     "text": [
      "                                                                                \r"
     ]
    }
   ],
   "source": [
    "# Saves the RDD words as several output files \n",
    "# (a file per partition)\n",
    "words2.saveAsTextFile(\"file:///tmp/outputtxt\")"
   ]
  },
  {
   "cell_type": "code",
   "execution_count": 242,
   "metadata": {
    "id": "ZR7xk_6xPkh8"
   },
   "outputs": [
    {
     "name": "stdout",
     "output_type": "stream",
     "text": [
      "total 12796\n",
      "-rw-r--r-- 1 root root       0 Dec 25 01:17 _SUCCESS\n",
      "-rw-r--r-- 1 root root 2816302 Dec 25 01:17 part-00000\n",
      "-rw-r--r-- 1 root root 6835774 Dec 25 01:17 part-00001\n",
      "-rw-r--r-- 1 root root 2453489 Dec 25 01:17 part-00002\n",
      "-rw-r--r-- 1 root root  991467 Dec 25 01:17 part-00003\n",
      "The\n",
      "Project\n",
      "Gutenberg\n",
      "EBook\n",
      "of\n",
      "Los\n",
      "cuatro\n",
      "jinetes\n",
      "del\n",
      "apocalipsis,\n"
     ]
    }
   ],
   "source": [
    "# output files\n",
    "!ls -l /tmp/outputtxt\n",
    "!head /tmp/outputtxt/part-00002"
   ]
  },
  {
   "cell_type": "code",
   "execution_count": 244,
   "metadata": {
    "id": "3Pov4YA9PpKA"
   },
   "outputs": [
    {
     "name": "stdout",
     "output_type": "stream",
     "text": [
      "Number of partitions of the RDD prdd = 2\n",
      "\n"
     ]
    }
   ],
   "source": [
    "# Reads the files and returns a key/value RDD\n",
    "# key->file name, value->complete file\n",
    "prdd = sc.wholeTextFiles(os.environ[\"DRIVE_DATA\"] +\"books/p*.gz\")\n",
    "print(\"Number of partitions of the RDD prdd = {0}\\n\".format(\n",
    "       prdd.getNumPartitions()))"
   ]
  },
  {
   "cell_type": "code",
   "execution_count": 247,
   "metadata": {
    "id": "T7P6tJ1pQiJ2"
   },
   "outputs": [
    {
     "name": "stdout",
     "output_type": "stream",
     "text": [
      "('file:/intern_workspace/work/BDF/data/books/pg14329.txt.gz', 183777)\n",
      "The book pg14329.txt.gz has 183777 words\n",
      "('file:/intern_workspace/work/BDF/data/books/pg1619.txt.gz', 109878)\n",
      "The book pg1619.txt.gz  has 109878 words\n",
      "('file:/intern_workspace/work/BDF/data/books/pg16625.txt.gz', 170900)\n",
      "The book pg16625.txt.gz has 170900 words\n",
      "('file:/intern_workspace/work/BDF/data/books/pg17013.txt.gz', 396086)\n",
      "The book pg17013.txt.gz has 396086 words\n",
      "('file:/intern_workspace/work/BDF/data/books/pg17073.txt.gz', 309473)\n",
      "The book pg17073.txt.gz has 309473 words\n",
      "('file:/intern_workspace/work/BDF/data/books/pg18005.txt.gz', 86446)\n",
      "The book pg18005.txt.gz has  86446 words\n",
      "('file:/intern_workspace/work/BDF/data/books/pg2000.txt.gz', 384258)\n",
      "The book pg2000.txt.gz  has 384258 words\n",
      "('file:/intern_workspace/work/BDF/data/books/pg24536.txt.gz', 134016)\n",
      "The book pg24536.txt.gz has 134016 words\n",
      "('file:/intern_workspace/work/BDF/data/books/pg25640.txt.gz', 207338)\n",
      "The book pg25640.txt.gz has 207338 words\n",
      "('file:/intern_workspace/work/BDF/data/books/pg25807.txt.gz', 15014)\n",
      "The book pg25807.txt.gz has  15014 words\n",
      "('file:/intern_workspace/work/BDF/data/books/pg32315.txt.gz', 46142)\n",
      "The book pg32315.txt.gz has  46142 words\n",
      "('file:/intern_workspace/work/BDF/data/books/pg5201.txt.gz', 49441)\n",
      "The book pg5201.txt.gz  has  49441 words\n",
      "('file:/intern_workspace/work/BDF/data/books/pg7109.txt.gz', 35037)\n",
      "The book pg7109.txt.gz  has  35037 words\n",
      "('file:/intern_workspace/work/BDF/data/books/pg8870.txt.gz', 54348)\n",
      "The book pg8870.txt.gz  has  54348 words\n",
      "('file:/intern_workspace/work/BDF/data/books/pg9980.txt.gz', 34014)\n",
      "The book pg9980.txt.gz  has  34014 words\n"
     ]
    },
    {
     "name": "stderr",
     "output_type": "stream",
     "text": [
      "                                                                                \r"
     ]
    }
   ],
   "source": [
    "# Gets a key/value list\n",
    "# key->file name, value->number of words\n",
    "mylist = prdd.mapValues(lambda x: len(x.split())).collect()\n",
    "\n",
    "for book in mylist:\n",
    "    print(book)\n",
    "    print(\"The book {0:14s} has {1:6d} words\".format( # took the last in the path\n",
    "           book[0].split(\"/\")[-1], book[1]))"
   ]
  },
  {
   "cell_type": "markdown",
   "metadata": {
    "id": "32YS9pB0Qtbq"
   },
   "source": [
    "### Sequence files\n",
    "Flat files used in Hadoop consisting of binary key/value pairs\n",
    "\n",
    "-   Their elements implement the [`Writable`](https://hadoop.apache.org/docs/stable/api/org/apache/hadoop/io/Writable.html) interface"
   ]
  },
  {
   "cell_type": "code",
   "execution_count": 248,
   "metadata": {
    "id": "dTjyykBEQzRc"
   },
   "outputs": [
    {
     "name": "stderr",
     "output_type": "stream",
     "text": [
      "                                                                                \r"
     ]
    }
   ],
   "source": [
    "rdd = sc.parallelize([(\"a\",2), (\"b\",5), (\"a\",8)], 2)\n",
    "\n",
    "# We save the key/value RDD as a Sequence file\n",
    "rdd.saveAsSequenceFile(\"file:///tmp/sequenceoutdir2\")"
   ]
  },
  {
   "cell_type": "code",
   "execution_count": 249,
   "metadata": {},
   "outputs": [
    {
     "name": "stdout",
     "output_type": "stream",
     "text": [
      "Reading package lists... Done\n",
      "Building dependency tree... Done\n",
      "Reading state information... Done\n",
      "The following NEW packages will be installed:\n",
      "  wget\n",
      "0 upgraded, 1 newly installed, 0 to remove and 9 not upgraded.\n",
      "Need to get 964 kB of archives.\n",
      "After this operation, 3559 kB of additional disk space will be used.\n",
      "Get:1 http://deb.debian.org/debian bullseye/main amd64 wget amd64 1.21-1+deb11u1 [964 kB]\n",
      "Fetched 964 kB in 1s (1404 kB/s)\n",
      "debconf: delaying package configuration, since apt-utils is not installed\n",
      "Selecting previously unselected package wget.\n",
      "(Reading database ... 38049 files and directories currently installed.)\n",
      "Preparing to unpack .../wget_1.21-1+deb11u1_amd64.deb ...\n",
      "Unpacking wget (1.21-1+deb11u1) ...\n",
      "Setting up wget (1.21-1+deb11u1) ...\n"
     ]
    }
   ],
   "source": [
    "!apt-get install wget"
   ]
  },
  {
   "cell_type": "code",
   "execution_count": 250,
   "metadata": {
    "id": "apyhKT_eQ-lN"
   },
   "outputs": [
    {
     "name": "stdout",
     "output_type": "stream",
     "text": [
      "output directory\n",
      "total 8\n",
      "-rw-r--r-- 1 root root   0 Dec 25 01:27 _SUCCESS\n",
      "-rw-r--r-- 1 root root  99 Dec 25 01:27 part-00000\n",
      "-rw-r--r-- 1 root root 113 Dec 25 01:27 part-00001\n",
      "Read the file using Hadoop\n",
      "--2022-12-25 01:28:43--  https://archive.apache.org/dist/hadoop/core/hadoop-2.7.3/hadoop-2.7.3.tar.gz\n",
      "Resolving archive.apache.org (archive.apache.org)... 138.201.131.134, ::ffff:138.201.131.134, 2a01:4f8:172:2ec5::2\n",
      "Connecting to archive.apache.org (archive.apache.org)|138.201.131.134|:443... connected.\n",
      "HTTP request sent, awaiting response... 200 OK\n",
      "Length: 214092195 (204M) [application/x-gzip]\n",
      "Saving to: ‘hadoop-2.7.3.tar.gz’\n",
      "\n",
      "hadoop-2.7.3.tar.gz 100%[===================>] 204.17M  5.65MB/s    in 39s     \n",
      "\n",
      "2022-12-25 01:29:22 (5.22 MB/s) - ‘hadoop-2.7.3.tar.gz’ saved [214092195/214092195]\n",
      "\n"
     ]
    }
   ],
   "source": [
    "!echo 'output directory'\n",
    "!ls -l /tmp/sequenceoutdir2\n",
    "#!echo 'Attempt to read one of the files'\n",
    "#!cat /tmp/sequenceoutdir2/part-00000\n",
    "#!echo\n",
    "!echo  'Read the file using Hadoop'\n",
    "!wget https://archive.apache.org/dist/hadoop/core/hadoop-2.7.3/hadoop-2.7.3.tar.gz\n",
    "!tar xf hadoop-2.7.3.tar.gz\n",
    "!rm hadoop-2.7.3.tar.gz\n",
    "#!/content/hadoop-2.7.3/bin/hdfs dfs -text /tmp/sequenceoutdir2/part-00001"
   ]
  },
  {
   "cell_type": "code",
   "execution_count": 254,
   "metadata": {},
   "outputs": [
    {
     "name": "stdout",
     "output_type": "stream",
     "text": [
      "total 668\n",
      "drwxr-xr-x 37 root root   4096 Dec 20 12:47 blockmgr-781e8236-891a-40e9-8860-4af9ea4fe379\n",
      "drwxr-xr-x 51 root root   4096 Dec 22 20:22 blockmgr-875b763a-44d8-43a2-bb77-d5eeec711d8d\n",
      "drwxr-xr-x 66 root root   4096 Dec 24 11:59 blockmgr-accc0af4-85ab-4a3e-891e-253b682c6cb8\n",
      "drwxr-xr-x 16 root root   4096 Dec 23 22:07 blockmgr-bed853b8-02a7-4b68-867a-051cf8b545b2\n",
      "drwxr-xr-x  1 root root   4096 Dec 25 01:49 hsperfdata_root\n",
      "-rw-r--r--  1 root root 154886 Dec 20 12:29 liblz4-java-115590872661654676.so\n",
      "-rw-r--r--  1 root root      0 Dec 20 12:29 liblz4-java-115590872661654676.so.lck\n",
      "-rw-r--r--  1 root root 154886 Dec 23 22:18 liblz4-java-5969698977058094542.so\n",
      "-rw-r--r--  1 root root      0 Dec 23 22:18 liblz4-java-5969698977058094542.so.lck\n",
      "-rw-r--r--  1 root root 154886 Dec 23 22:07 liblz4-java-6299331037440029469.so\n",
      "-rw-r--r--  1 root root      0 Dec 23 22:07 liblz4-java-6299331037440029469.so.lck\n",
      "-rw-r--r--  1 root root 154886 Dec 20 17:40 liblz4-java-6808767507020424940.so\n",
      "-rw-r--r--  1 root root      0 Dec 20 17:40 liblz4-java-6808767507020424940.so.lck\n",
      "drwxr-xr-x  2 root root   4096 Dec 25 01:17 outputtxt\n",
      "drwxr-xr-x  2 root root   4096 Dec 25 01:27 sequenceoutdir2\n",
      "drwx------  4 root root   4096 Dec 23 22:07 spark-11711a78-8746-4d78-bfd9-9f62d475778a\n",
      "drwxr-xr-x  2 root root   4096 Dec 23 22:17 spark-1451bf39-685a-4c58-8f2b-f7e8112c52a5\n",
      "drwxr-xr-x  2 root root   4096 Dec 20 12:29 spark-23498752-c73f-487d-8cac-7b82c5c6481d\n",
      "drwx------  4 root root   4096 Dec 23 22:18 spark-60f2c7aa-c906-4275-9c11-1f2baac2d40f\n",
      "drwxr-xr-x  2 root root   4096 Dec 20 17:29 spark-844a2cce-68a9-48f3-9a2c-15aa7ecf4dc7\n",
      "drwx------  4 root root   4096 Dec 20 17:29 spark-91fa403a-8375-44fc-aa30-2bdb3d4d79e2\n",
      "drwxr-xr-x  2 root root   4096 Dec 23 22:07 spark-9342e2c1-285b-4dff-af90-ee484811aed5\n",
      "drwx------  4 root root   4096 Dec 20 12:29 spark-e2398df8-d3e7-4556-8767-ddc65bdd12a9\n"
     ]
    }
   ],
   "source": [
    "!ls -l /tmp/"
   ]
  },
  {
   "cell_type": "code",
   "execution_count": 253,
   "metadata": {},
   "outputs": [
    {
     "name": "stdout",
     "output_type": "stream",
     "text": [
      "b\t5\n",
      "a\t8\n"
     ]
    }
   ],
   "source": [
    "!hadoop-2.7.3/bin/hdfs dfs -text /tmp/sequenceoutdir2/part-00001"
   ]
  },
  {
   "cell_type": "code",
   "execution_count": 258,
   "metadata": {
    "id": "ndlvU2czRGxj"
   },
   "outputs": [
    {
     "name": "stdout",
     "output_type": "stream",
     "text": [
      "Content of the RDD [('a', 2), ('b', 5), ('a', 8)]\n"
     ]
    }
   ],
   "source": [
    "# We read the file in another RDD\n",
    "rdd2 = sc.sequenceFile(\"file:///tmp/sequenceoutdir2\", \n",
    "                       \"org.apache.hadoop.io.Text\", \n",
    "                       \"org.apache.hadoop.io.IntWritable\")\n",
    "                       \n",
    "print(\"Content of the RDD {0}\".format(rdd2.collect()))"
   ]
  },
  {
   "cell_type": "markdown",
   "metadata": {
    "id": "wjEP3YwEV-7W"
   },
   "source": [
    "### Hadoop input/output formats\n",
    "Spark can interact with any file format supported by Hadoop\n",
    "- It supports the \"old\" and \"new\" APIs\n",
    "- It supports accessing other storage types (not files), e.g. HBase or MongoDB, using `saveAsHadoopDataSet` and/or `saveAsNewAPIHadoopDataSet`\n"
   ]
  },
  {
   "cell_type": "code",
   "execution_count": 260,
   "metadata": {
    "id": "pltQUkchWBFx"
   },
   "outputs": [
    {
     "ename": "Py4JJavaError",
     "evalue": "An error occurred while calling z:org.apache.spark.api.python.PythonRDD.saveAsNewAPIHadoopFile.\n: org.apache.hadoop.mapred.FileAlreadyExistsException: Output directory file:/tmp/hadoopfileoutdir already exists\n\tat org.apache.hadoop.mapreduce.lib.output.FileOutputFormat.checkOutputSpecs(FileOutputFormat.java:164)\n\tat org.apache.spark.internal.io.HadoopMapReduceWriteConfigUtil.assertConf(SparkHadoopWriter.scala:403)\n\tat org.apache.spark.internal.io.SparkHadoopWriter$.write(SparkHadoopWriter.scala:71)\n\tat org.apache.spark.rdd.PairRDDFunctions.$anonfun$saveAsNewAPIHadoopDataset$1(PairRDDFunctions.scala:1078)\n\tat scala.runtime.java8.JFunction0$mcV$sp.apply(JFunction0$mcV$sp.java:23)\n\tat org.apache.spark.rdd.RDDOperationScope$.withScope(RDDOperationScope.scala:151)\n\tat org.apache.spark.rdd.RDDOperationScope$.withScope(RDDOperationScope.scala:112)\n\tat org.apache.spark.rdd.RDD.withScope(RDD.scala:406)\n\tat org.apache.spark.rdd.PairRDDFunctions.saveAsNewAPIHadoopDataset(PairRDDFunctions.scala:1076)\n\tat org.apache.spark.rdd.PairRDDFunctions.$anonfun$saveAsNewAPIHadoopFile$2(PairRDDFunctions.scala:995)\n\tat scala.runtime.java8.JFunction0$mcV$sp.apply(JFunction0$mcV$sp.java:23)\n\tat org.apache.spark.rdd.RDDOperationScope$.withScope(RDDOperationScope.scala:151)\n\tat org.apache.spark.rdd.RDDOperationScope$.withScope(RDDOperationScope.scala:112)\n\tat org.apache.spark.rdd.RDD.withScope(RDD.scala:406)\n\tat org.apache.spark.rdd.PairRDDFunctions.saveAsNewAPIHadoopFile(PairRDDFunctions.scala:986)\n\tat org.apache.spark.api.python.PythonRDD$.saveAsNewAPIHadoopFile(PythonRDD.scala:645)\n\tat org.apache.spark.api.python.PythonRDD.saveAsNewAPIHadoopFile(PythonRDD.scala)\n\tat sun.reflect.NativeMethodAccessorImpl.invoke0(Native Method)\n\tat sun.reflect.NativeMethodAccessorImpl.invoke(NativeMethodAccessorImpl.java:62)\n\tat sun.reflect.DelegatingMethodAccessorImpl.invoke(DelegatingMethodAccessorImpl.java:43)\n\tat java.lang.reflect.Method.invoke(Method.java:498)\n\tat py4j.reflection.MethodInvoker.invoke(MethodInvoker.java:244)\n\tat py4j.reflection.ReflectionEngine.invoke(ReflectionEngine.java:357)\n\tat py4j.Gateway.invoke(Gateway.java:282)\n\tat py4j.commands.AbstractCommand.invokeMethod(AbstractCommand.java:132)\n\tat py4j.commands.CallCommand.execute(CallCommand.java:79)\n\tat py4j.ClientServerConnection.waitForCommands(ClientServerConnection.java:182)\n\tat py4j.ClientServerConnection.run(ClientServerConnection.java:106)\n\tat java.lang.Thread.run(Thread.java:750)\n",
     "output_type": "error",
     "traceback": [
      "\u001b[0;31m---------------------------------------------------------------------------\u001b[0m",
      "\u001b[0;31mPy4JJavaError\u001b[0m                             Traceback (most recent call last)",
      "Cell \u001b[0;32mIn [260], line 2\u001b[0m\n\u001b[1;32m      1\u001b[0m \u001b[38;5;66;03m# We save the key/value RDD as a Hadoop text file (TextOutputFormat)\u001b[39;00m\n\u001b[0;32m----> 2\u001b[0m \u001b[43mrdd\u001b[49m\u001b[38;5;241;43m.\u001b[39;49m\u001b[43msaveAsNewAPIHadoopFile\u001b[49m\u001b[43m(\u001b[49m\u001b[38;5;124;43m\"\u001b[39;49m\u001b[38;5;124;43mfile:///tmp/hadoopfileoutdir\u001b[39;49m\u001b[38;5;124;43m\"\u001b[39;49m\u001b[43m,\u001b[49m\u001b[43m \u001b[49m\n\u001b[1;32m      3\u001b[0m \u001b[43m                            \u001b[49m\u001b[38;5;124;43m\"\u001b[39;49m\u001b[38;5;124;43morg.apache.hadoop.mapreduce.lib.output.TextOutputFormat\u001b[39;49m\u001b[38;5;124;43m\"\u001b[39;49m\u001b[43m,\u001b[49m\n\u001b[1;32m      4\u001b[0m \u001b[43m                            \u001b[49m\u001b[38;5;124;43m\"\u001b[39;49m\u001b[38;5;124;43morg.apache.hadoop.io.Text\u001b[39;49m\u001b[38;5;124;43m\"\u001b[39;49m\u001b[43m,\u001b[49m\n\u001b[1;32m      5\u001b[0m \u001b[43m                            \u001b[49m\u001b[38;5;124;43m\"\u001b[39;49m\u001b[38;5;124;43morg.apache.hadoop.io.IntWritable\u001b[39;49m\u001b[38;5;124;43m\"\u001b[39;49m\u001b[43m)\u001b[49m\n",
      "File \u001b[0;32m/usr/local/lib/python3.9/dist-packages/pyspark/rdd.py:1994\u001b[0m, in \u001b[0;36mRDD.saveAsNewAPIHadoopFile\u001b[0;34m(self, path, outputFormatClass, keyClass, valueClass, keyConverter, valueConverter, conf)\u001b[0m\n\u001b[1;32m   1991\u001b[0m pickledRDD \u001b[38;5;241m=\u001b[39m \u001b[38;5;28mself\u001b[39m\u001b[38;5;241m.\u001b[39m_pickled()\n\u001b[1;32m   1992\u001b[0m \u001b[38;5;28;01massert\u001b[39;00m \u001b[38;5;28mself\u001b[39m\u001b[38;5;241m.\u001b[39mctx\u001b[38;5;241m.\u001b[39m_jvm \u001b[38;5;129;01mis\u001b[39;00m \u001b[38;5;129;01mnot\u001b[39;00m \u001b[38;5;28;01mNone\u001b[39;00m\n\u001b[0;32m-> 1994\u001b[0m \u001b[38;5;28;43mself\u001b[39;49m\u001b[38;5;241;43m.\u001b[39;49m\u001b[43mctx\u001b[49m\u001b[38;5;241;43m.\u001b[39;49m\u001b[43m_jvm\u001b[49m\u001b[38;5;241;43m.\u001b[39;49m\u001b[43mPythonRDD\u001b[49m\u001b[38;5;241;43m.\u001b[39;49m\u001b[43msaveAsNewAPIHadoopFile\u001b[49m\u001b[43m(\u001b[49m\n\u001b[1;32m   1995\u001b[0m \u001b[43m    \u001b[49m\u001b[43mpickledRDD\u001b[49m\u001b[38;5;241;43m.\u001b[39;49m\u001b[43m_jrdd\u001b[49m\u001b[43m,\u001b[49m\n\u001b[1;32m   1996\u001b[0m \u001b[43m    \u001b[49m\u001b[38;5;28;43;01mTrue\u001b[39;49;00m\u001b[43m,\u001b[49m\n\u001b[1;32m   1997\u001b[0m \u001b[43m    \u001b[49m\u001b[43mpath\u001b[49m\u001b[43m,\u001b[49m\n\u001b[1;32m   1998\u001b[0m \u001b[43m    \u001b[49m\u001b[43moutputFormatClass\u001b[49m\u001b[43m,\u001b[49m\n\u001b[1;32m   1999\u001b[0m \u001b[43m    \u001b[49m\u001b[43mkeyClass\u001b[49m\u001b[43m,\u001b[49m\n\u001b[1;32m   2000\u001b[0m \u001b[43m    \u001b[49m\u001b[43mvalueClass\u001b[49m\u001b[43m,\u001b[49m\n\u001b[1;32m   2001\u001b[0m \u001b[43m    \u001b[49m\u001b[43mkeyConverter\u001b[49m\u001b[43m,\u001b[49m\n\u001b[1;32m   2002\u001b[0m \u001b[43m    \u001b[49m\u001b[43mvalueConverter\u001b[49m\u001b[43m,\u001b[49m\n\u001b[1;32m   2003\u001b[0m \u001b[43m    \u001b[49m\u001b[43mjconf\u001b[49m\u001b[43m,\u001b[49m\n\u001b[1;32m   2004\u001b[0m \u001b[43m\u001b[49m\u001b[43m)\u001b[49m\n",
      "File \u001b[0;32m/usr/local/lib/python3.9/dist-packages/py4j/java_gateway.py:1321\u001b[0m, in \u001b[0;36mJavaMember.__call__\u001b[0;34m(self, *args)\u001b[0m\n\u001b[1;32m   1315\u001b[0m command \u001b[38;5;241m=\u001b[39m proto\u001b[38;5;241m.\u001b[39mCALL_COMMAND_NAME \u001b[38;5;241m+\u001b[39m\\\n\u001b[1;32m   1316\u001b[0m     \u001b[38;5;28mself\u001b[39m\u001b[38;5;241m.\u001b[39mcommand_header \u001b[38;5;241m+\u001b[39m\\\n\u001b[1;32m   1317\u001b[0m     args_command \u001b[38;5;241m+\u001b[39m\\\n\u001b[1;32m   1318\u001b[0m     proto\u001b[38;5;241m.\u001b[39mEND_COMMAND_PART\n\u001b[1;32m   1320\u001b[0m answer \u001b[38;5;241m=\u001b[39m \u001b[38;5;28mself\u001b[39m\u001b[38;5;241m.\u001b[39mgateway_client\u001b[38;5;241m.\u001b[39msend_command(command)\n\u001b[0;32m-> 1321\u001b[0m return_value \u001b[38;5;241m=\u001b[39m \u001b[43mget_return_value\u001b[49m\u001b[43m(\u001b[49m\n\u001b[1;32m   1322\u001b[0m \u001b[43m    \u001b[49m\u001b[43manswer\u001b[49m\u001b[43m,\u001b[49m\u001b[43m \u001b[49m\u001b[38;5;28;43mself\u001b[39;49m\u001b[38;5;241;43m.\u001b[39;49m\u001b[43mgateway_client\u001b[49m\u001b[43m,\u001b[49m\u001b[43m \u001b[49m\u001b[38;5;28;43mself\u001b[39;49m\u001b[38;5;241;43m.\u001b[39;49m\u001b[43mtarget_id\u001b[49m\u001b[43m,\u001b[49m\u001b[43m \u001b[49m\u001b[38;5;28;43mself\u001b[39;49m\u001b[38;5;241;43m.\u001b[39;49m\u001b[43mname\u001b[49m\u001b[43m)\u001b[49m\n\u001b[1;32m   1324\u001b[0m \u001b[38;5;28;01mfor\u001b[39;00m temp_arg \u001b[38;5;129;01min\u001b[39;00m temp_args:\n\u001b[1;32m   1325\u001b[0m     temp_arg\u001b[38;5;241m.\u001b[39m_detach()\n",
      "File \u001b[0;32m/usr/local/lib/python3.9/dist-packages/pyspark/sql/utils.py:190\u001b[0m, in \u001b[0;36mcapture_sql_exception.<locals>.deco\u001b[0;34m(*a, **kw)\u001b[0m\n\u001b[1;32m    188\u001b[0m \u001b[38;5;28;01mdef\u001b[39;00m \u001b[38;5;21mdeco\u001b[39m(\u001b[38;5;241m*\u001b[39ma: Any, \u001b[38;5;241m*\u001b[39m\u001b[38;5;241m*\u001b[39mkw: Any) \u001b[38;5;241m-\u001b[39m\u001b[38;5;241m>\u001b[39m Any:\n\u001b[1;32m    189\u001b[0m     \u001b[38;5;28;01mtry\u001b[39;00m:\n\u001b[0;32m--> 190\u001b[0m         \u001b[38;5;28;01mreturn\u001b[39;00m \u001b[43mf\u001b[49m\u001b[43m(\u001b[49m\u001b[38;5;241;43m*\u001b[39;49m\u001b[43ma\u001b[49m\u001b[43m,\u001b[49m\u001b[43m \u001b[49m\u001b[38;5;241;43m*\u001b[39;49m\u001b[38;5;241;43m*\u001b[39;49m\u001b[43mkw\u001b[49m\u001b[43m)\u001b[49m\n\u001b[1;32m    191\u001b[0m     \u001b[38;5;28;01mexcept\u001b[39;00m Py4JJavaError \u001b[38;5;28;01mas\u001b[39;00m e:\n\u001b[1;32m    192\u001b[0m         converted \u001b[38;5;241m=\u001b[39m convert_exception(e\u001b[38;5;241m.\u001b[39mjava_exception)\n",
      "File \u001b[0;32m/usr/local/lib/python3.9/dist-packages/py4j/protocol.py:326\u001b[0m, in \u001b[0;36mget_return_value\u001b[0;34m(answer, gateway_client, target_id, name)\u001b[0m\n\u001b[1;32m    324\u001b[0m value \u001b[38;5;241m=\u001b[39m OUTPUT_CONVERTER[\u001b[38;5;28mtype\u001b[39m](answer[\u001b[38;5;241m2\u001b[39m:], gateway_client)\n\u001b[1;32m    325\u001b[0m \u001b[38;5;28;01mif\u001b[39;00m answer[\u001b[38;5;241m1\u001b[39m] \u001b[38;5;241m==\u001b[39m REFERENCE_TYPE:\n\u001b[0;32m--> 326\u001b[0m     \u001b[38;5;28;01mraise\u001b[39;00m Py4JJavaError(\n\u001b[1;32m    327\u001b[0m         \u001b[38;5;124m\"\u001b[39m\u001b[38;5;124mAn error occurred while calling \u001b[39m\u001b[38;5;132;01m{0}\u001b[39;00m\u001b[38;5;132;01m{1}\u001b[39;00m\u001b[38;5;132;01m{2}\u001b[39;00m\u001b[38;5;124m.\u001b[39m\u001b[38;5;130;01m\\n\u001b[39;00m\u001b[38;5;124m\"\u001b[39m\u001b[38;5;241m.\u001b[39m\n\u001b[1;32m    328\u001b[0m         \u001b[38;5;28mformat\u001b[39m(target_id, \u001b[38;5;124m\"\u001b[39m\u001b[38;5;124m.\u001b[39m\u001b[38;5;124m\"\u001b[39m, name), value)\n\u001b[1;32m    329\u001b[0m \u001b[38;5;28;01melse\u001b[39;00m:\n\u001b[1;32m    330\u001b[0m     \u001b[38;5;28;01mraise\u001b[39;00m Py4JError(\n\u001b[1;32m    331\u001b[0m         \u001b[38;5;124m\"\u001b[39m\u001b[38;5;124mAn error occurred while calling \u001b[39m\u001b[38;5;132;01m{0}\u001b[39;00m\u001b[38;5;132;01m{1}\u001b[39;00m\u001b[38;5;132;01m{2}\u001b[39;00m\u001b[38;5;124m. Trace:\u001b[39m\u001b[38;5;130;01m\\n\u001b[39;00m\u001b[38;5;132;01m{3}\u001b[39;00m\u001b[38;5;130;01m\\n\u001b[39;00m\u001b[38;5;124m\"\u001b[39m\u001b[38;5;241m.\u001b[39m\n\u001b[1;32m    332\u001b[0m         \u001b[38;5;28mformat\u001b[39m(target_id, \u001b[38;5;124m\"\u001b[39m\u001b[38;5;124m.\u001b[39m\u001b[38;5;124m\"\u001b[39m, name, value))\n",
      "\u001b[0;31mPy4JJavaError\u001b[0m: An error occurred while calling z:org.apache.spark.api.python.PythonRDD.saveAsNewAPIHadoopFile.\n: org.apache.hadoop.mapred.FileAlreadyExistsException: Output directory file:/tmp/hadoopfileoutdir already exists\n\tat org.apache.hadoop.mapreduce.lib.output.FileOutputFormat.checkOutputSpecs(FileOutputFormat.java:164)\n\tat org.apache.spark.internal.io.HadoopMapReduceWriteConfigUtil.assertConf(SparkHadoopWriter.scala:403)\n\tat org.apache.spark.internal.io.SparkHadoopWriter$.write(SparkHadoopWriter.scala:71)\n\tat org.apache.spark.rdd.PairRDDFunctions.$anonfun$saveAsNewAPIHadoopDataset$1(PairRDDFunctions.scala:1078)\n\tat scala.runtime.java8.JFunction0$mcV$sp.apply(JFunction0$mcV$sp.java:23)\n\tat org.apache.spark.rdd.RDDOperationScope$.withScope(RDDOperationScope.scala:151)\n\tat org.apache.spark.rdd.RDDOperationScope$.withScope(RDDOperationScope.scala:112)\n\tat org.apache.spark.rdd.RDD.withScope(RDD.scala:406)\n\tat org.apache.spark.rdd.PairRDDFunctions.saveAsNewAPIHadoopDataset(PairRDDFunctions.scala:1076)\n\tat org.apache.spark.rdd.PairRDDFunctions.$anonfun$saveAsNewAPIHadoopFile$2(PairRDDFunctions.scala:995)\n\tat scala.runtime.java8.JFunction0$mcV$sp.apply(JFunction0$mcV$sp.java:23)\n\tat org.apache.spark.rdd.RDDOperationScope$.withScope(RDDOperationScope.scala:151)\n\tat org.apache.spark.rdd.RDDOperationScope$.withScope(RDDOperationScope.scala:112)\n\tat org.apache.spark.rdd.RDD.withScope(RDD.scala:406)\n\tat org.apache.spark.rdd.PairRDDFunctions.saveAsNewAPIHadoopFile(PairRDDFunctions.scala:986)\n\tat org.apache.spark.api.python.PythonRDD$.saveAsNewAPIHadoopFile(PythonRDD.scala:645)\n\tat org.apache.spark.api.python.PythonRDD.saveAsNewAPIHadoopFile(PythonRDD.scala)\n\tat sun.reflect.NativeMethodAccessorImpl.invoke0(Native Method)\n\tat sun.reflect.NativeMethodAccessorImpl.invoke(NativeMethodAccessorImpl.java:62)\n\tat sun.reflect.DelegatingMethodAccessorImpl.invoke(DelegatingMethodAccessorImpl.java:43)\n\tat java.lang.reflect.Method.invoke(Method.java:498)\n\tat py4j.reflection.MethodInvoker.invoke(MethodInvoker.java:244)\n\tat py4j.reflection.ReflectionEngine.invoke(ReflectionEngine.java:357)\n\tat py4j.Gateway.invoke(Gateway.java:282)\n\tat py4j.commands.AbstractCommand.invokeMethod(AbstractCommand.java:132)\n\tat py4j.commands.CallCommand.execute(CallCommand.java:79)\n\tat py4j.ClientServerConnection.waitForCommands(ClientServerConnection.java:182)\n\tat py4j.ClientServerConnection.run(ClientServerConnection.java:106)\n\tat java.lang.Thread.run(Thread.java:750)\n"
     ]
    }
   ],
   "source": [
    "# We save the key/value RDD as a Hadoop text file (TextOutputFormat)\n",
    "rdd.saveAsNewAPIHadoopFile(\"file:///tmp/hadoopfileoutdir\", \n",
    "                            \"org.apache.hadoop.mapreduce.lib.output.TextOutputFormat\",\n",
    "                            \"org.apache.hadoop.io.Text\",\n",
    "                            \"org.apache.hadoop.io.IntWritable\")\n"
   ]
  },
  {
   "cell_type": "code",
   "execution_count": 261,
   "metadata": {
    "id": "CokGimr9WFDD"
   },
   "outputs": [
    {
     "name": "stdout",
     "output_type": "stream",
     "text": [
      "Output directory\n",
      "total 8\n",
      "-rw-r--r-- 1 root root 0 Dec 25 01:57 _SUCCESS\n",
      "-rw-r--r-- 1 root root 4 Dec 25 01:57 part-r-00000\n",
      "-rw-r--r-- 1 root root 8 Dec 25 01:57 part-r-00001\n",
      "b\t5\n",
      "a\t8\n"
     ]
    }
   ],
   "source": [
    "!echo 'Output directory'\n",
    "!ls -l /tmp/hadoopfileoutdir\n",
    "!cat /tmp/hadoopfileoutdir/part-r-00001"
   ]
  },
  {
   "cell_type": "code",
   "execution_count": 264,
   "metadata": {
    "id": "t7wpP5SZWK9y"
   },
   "outputs": [
    {
     "name": "stdout",
     "output_type": "stream",
     "text": [
      "Content of the RDD [('a', '2'), ('b', '5'), ('a', '8')]\n"
     ]
    }
   ],
   "source": [
    "# We read it as a Hadoop key/value file (KeyValueTextInputFormat)\n",
    "rdd3 = sc.newAPIHadoopFile(\"file:///tmp/hadoopfileoutdir\", \n",
    "                          \"org.apache.hadoop.mapreduce.lib.input.KeyValueTextInputFormat\",\n",
    "                          \"org.apache.hadoop.io.Text\",\n",
    "                          \"org.apache.hadoop.io.IntWritable\")\n",
    "                          \n",
    "print(\"Content of the RDD {0}\".format(rdd3.collect()))"
   ]
  },
  {
   "cell_type": "markdown",
   "metadata": {
    "id": "6O3IAwByxTpJ"
   },
   "source": [
    "\n",
    "\n",
    "---\n",
    "\n",
    "## Exercises"
   ]
  },
  {
   "cell_type": "markdown",
   "metadata": {
    "id": "mJ708zvl627q"
   },
   "source": [
    "### Exercise 5.1: Word count\n",
    "\n",
    "**Using RDDs**, count the number of lines in the `$DRIVE_DATA/quijote.txt` file. Then, count the number of words in the file. Finally, count the number of *different* words in the file.\n"
   ]
  },
  {
   "cell_type": "code",
   "execution_count": 1,
   "metadata": {
    "id": "Slr4nXhp_knl"
   },
   "outputs": [
    {
     "name": "stdout",
     "output_type": "stream",
     "text": [
      "./data/quijote.txt\n"
     ]
    },
    {
     "name": "stderr",
     "output_type": "stream",
     "text": [
      "Setting default log level to \"WARN\".\n",
      "To adjust logging level use sc.setLogLevel(newLevel). For SparkR, use setLogLevel(newLevel).\n"
     ]
    },
    {
     "name": "stdout",
     "output_type": "stream",
     "text": [
      "23/01/22 22:56:48 WARN NativeCodeLoader: Unable to load native-hadoop library for your platform... using builtin-java classes where applicable\n",
      "23/01/22 22:56:53 WARN Utils: Service 'SparkUI' could not bind on port 4040. Attempting port 4041.\n"
     ]
    }
   ],
   "source": [
    "import os\n",
    "os.environ[\"DRIVE_DATA\"] = \"./data/\"\n",
    "print(os.environ[\"DRIVE_DATA\"] + \"quijote.txt\")\n",
    "\n",
    "import pyspark\n",
    "\n",
    "spark = pyspark.sql.SparkSession.builder.appName('ex5').getOrCreate()\n",
    "sc = spark.sparkContext"
   ]
  },
  {
   "cell_type": "code",
   "execution_count": 2,
   "metadata": {},
   "outputs": [
    {
     "name": "stderr",
     "output_type": "stream",
     "text": [
      "                                                                                \r"
     ]
    },
    {
     "name": "stdout",
     "output_type": "stream",
     "text": [
      "number of lines : 37861\n"
     ]
    },
    {
     "data": {
      "text/plain": [
       "['libro, como hijo del entendimiento, fuera el más hermoso, el más gallardo y',\n",
       " 'más discreto que pudiera imaginarse. Pero no he podido yo contravenir al',\n",
       " 'orden de naturaleza; que en ella cada cosa engendra su semejante. Y así,',\n",
       " '¿qué podrá engendrar el estéril y mal cultivado ingenio mío, sino la',\n",
       " 'historia de un hijo seco, avellanado, antojadizo y lleno de pensamientos',\n",
       " 'varios y nunca imaginados de otro alguno, bien como quien se engendró en',\n",
       " 'una cárcel, donde toda incomodidad tiene su asiento y donde todo triste',\n",
       " 'ruido hace su habitación? El sosiego, el lugar apacible, la amenidad de los',\n",
       " 'campos, la serenidad de los cielos, el murmurar de las fuentes, la quietud',\n",
       " 'del espíritu son grande parte para que las musas más estériles se muestren']"
      ]
     },
     "execution_count": 2,
     "metadata": {},
     "output_type": "execute_result"
    }
   ],
   "source": [
    "quijoteRDD = sc.textFile(os.environ[\"DRIVE_DATA\"] + \"quijote.txt\").repartition(15)\n",
    "print(\"number of lines : {0}\".format(quijoteRDD.count()))\n",
    "quijoteRDD.take(10)"
   ]
  },
  {
   "cell_type": "code",
   "execution_count": 3,
   "metadata": {},
   "outputs": [
    {
     "name": "stdout",
     "output_type": "stream",
     "text": [
      "partition 0 :\n",
      "['libro, como hijo del entendimiento, fuera el más hermoso, el más gallardo y', 'más discreto que pudiera imaginarse. Pero no he podido yo contravenir al', 'orden de naturaleza; que en ella cada cosa engendra su semejante. Y así,']\n",
      "partition 1 :\n",
      "['The Project Gutenberg EBook of Don Quijote, by Miguel de Cervantes Saavedra', '', 'This eBook is for the use of anyone anywhere at no cost and with']\n",
      "partition 2 :\n",
      "['Author: Miguel de Cervantes Saavedra', '', 'Posting Date: April 27, 2010 [EBook #2000]']\n",
      "partition 3 :\n",
      "['', '', '']\n",
      "partition 4 :\n",
      "['', '', '']\n",
      "partition 5 :\n",
      "['', 'Yo, Juan Gallo de Andrada, escribano de Cámara del Rey nuestro señor, de', 'los que residen en su Consejo, certifico y doy fe que, habiendo visto por']\n",
      "partition 6 :\n",
      "['presente en Valladolid, a veinte días del mes de deciembre de mil y', 'seiscientos y cuatro años.', '']\n",
      "partition 7 :\n",
      "['de 1604 años.', '', 'El licenciado Francisco Murcia de la Llana.']\n",
      "partition 8 :\n",
      "['poder imprimir, y previlegio por el tiempo que fuésemos servidos, o como la', 'nuestra merced fuese; lo cual visto por los del nuestro Consejo, por cuanto', 'en el dicho libro se hicieron las diligencias que la premática últimamente']\n",
      "partition 9 :\n",
      "['cuenten desde el dicho día de la data desta nuestra cédula; so pena que la', 'persona o personas que, sin tener vuestro poder, lo imprimiere o vendiere,', 'o hiciere imprimir o vender, por el mesmo caso pierda la impresión que']\n",
      "partition 10 :\n",
      "['rubricado cada plana y firmado al fin dél de Juan Gallo de Andrada, nuestro', 'Escribano de Cámara, de los que en él residen, para saber si la dicha', 'impresión está conforme el original; o traigáis fe en pública forma de cómo']\n",
      "partition 11 :\n",
      "['para efeto de la dicha correción y tasa, hasta que antes y primero el dicho', 'libro esté corregido y tasado por los del nuestro Consejo; y, estando', 'hecho, y no de otra manera, pueda imprimir el dicho principio y primer']\n",
      "partition 12 :\n",
      "['YO, EL REY.', '', 'Por mandado del Rey nuestro señor:']\n",
      "partition 13 :\n",
      "['', 'En fe del buen acogimiento y honra que hace Vuestra Excelencia a toda', 'suerte de libros, como príncipe tan inclinado a favorecer las buenas artes,']\n",
      "partition 14 :\n",
      "['seguramente en el juicio de algunos que, continiéndose en los límites de su', 'ignorancia, suelen condenar con más rigor y menos justicia los trabajos', 'ajenos; que, poniendo los ojos la prudencia de Vuestra Excelencia en mi']\n"
     ]
    },
    {
     "name": "stderr",
     "output_type": "stream",
     "text": [
      "                                                                                \r"
     ]
    }
   ],
   "source": [
    "#quijoteRDDp = sc.parallelize(quijoteRDD.collect(), 15)\n",
    "i=0\n",
    "for p in quijoteRDD.glom().collect():\n",
    "    print(\"partition \"+ str(i) + \" :\")\n",
    "    print(p[:3])\n",
    "    i+=1"
   ]
  },
  {
   "cell_type": "code",
   "execution_count": 4,
   "metadata": {},
   "outputs": [
    {
     "name": "stderr",
     "output_type": "stream",
     "text": [
      "                                                                                \r"
     ]
    },
    {
     "data": {
      "text/plain": [
       "37861"
      ]
     },
     "execution_count": 4,
     "metadata": {},
     "output_type": "execute_result"
    }
   ],
   "source": [
    "quijoteRDD.count()"
   ]
  },
  {
   "cell_type": "code",
   "execution_count": 5,
   "metadata": {},
   "outputs": [
    {
     "name": "stderr",
     "output_type": "stream",
     "text": [
      "[Stage 9:===========================>                              (7 + 8) / 15]\r"
     ]
    },
    {
     "name": "stdout",
     "output_type": "stream",
     "text": [
      "number of lines : 384260\n"
     ]
    },
    {
     "name": "stderr",
     "output_type": "stream",
     "text": [
      "                                                                                \r"
     ]
    }
   ],
   "source": [
    "words = quijoteRDD.flatMap(lambda x: x.split())\n",
    "print(\"number of lines : {0}\".format(words.count()))"
   ]
  },
  {
   "cell_type": "code",
   "execution_count": 7,
   "metadata": {},
   "outputs": [
    {
     "data": {
      "text/plain": [
       "15"
      ]
     },
     "execution_count": 7,
     "metadata": {},
     "output_type": "execute_result"
    }
   ],
   "source": [
    "words.getNumPartitions()"
   ]
  },
  {
   "cell_type": "code",
   "execution_count": 9,
   "metadata": {},
   "outputs": [
    {
     "name": "stderr",
     "output_type": "stream",
     "text": [
      "[Stage 14:==================================>                      (9 + 6) / 15]\r"
     ]
    },
    {
     "name": "stdout",
     "output_type": "stream",
     "text": [
      "partition :  10\n"
     ]
    },
    {
     "name": "stderr",
     "output_type": "stream",
     "text": [
      "                                                                                \r"
     ]
    },
    {
     "data": {
      "text/plain": [
       "1"
      ]
     },
     "execution_count": 9,
     "metadata": {},
     "output_type": "execute_result"
    }
   ],
   "source": [
    "count=0\n",
    "i=0\n",
    "for p in words.distinct().glom().collect():\n",
    "    if 'mi' in p:\n",
    "        print(\"partition : \",i)\n",
    "        count+=1\n",
    "    i+=1\n",
    "\n",
    "count"
   ]
  },
  {
   "cell_type": "markdown",
   "metadata": {
    "id": "jjtVkYOKxTo7"
   },
   "source": [
    "### Exercise 5.2: Count people by age\n",
    "\n",
    "Using RDDs, create a barplot showing of number of people (y-axis) per age (x-axis) using the information in the $DRIVE_DATA/people.txt file\n",
    "\n"
   ]
  },
  {
   "cell_type": "code",
   "execution_count": 11,
   "metadata": {
    "id": "-JgE0XavBBLB"
   },
   "outputs": [],
   "source": [
    "peopleRDD = sc.textFile(os.environ[\"DRIVE_DATA\"] + \"people.txt\")"
   ]
  },
  {
   "cell_type": "code",
   "execution_count": 12,
   "metadata": {},
   "outputs": [
    {
     "name": "stdout",
     "output_type": "stream",
     "text": [
      "9\n",
      "['Celia', 'Juan', 'Manuela', 'Ana', 'Paco', 'Luis', 'Antonio', 'Angel', 'Yannick']\n",
      "['17', '53', '39', '17', '53', '40', '39', '40', '50']\n"
     ]
    }
   ],
   "source": [
    "#print(peopleRDD.take(10))\n",
    "print(peopleRDD.count())\n",
    "# mth1\n",
    "x,y = [row.split('\\t')[0] for row in peopleRDD.collect()], [row.split('\\t')[1] for row in peopleRDD.take(10)]\n",
    "#print(peopleRDD.map(lambda x: (x.split('\\t')[0],x.split('\\t')[1])).collect())\n",
    "# mth2 faster\n",
    "[x,y in peopleRDD.map(lambda x: (x.split('\\t')[0],x.split('\\t')[1])).collect()]\n",
    "\n",
    "print(x)\n",
    "print(y)"
   ]
  },
  {
   "cell_type": "code",
   "execution_count": 13,
   "metadata": {},
   "outputs": [
    {
     "data": {
      "image/png": "[encoded data removed]",
      "text/plain": [
       "<Figure size 1500x800 with 1 Axes>"
      ]
     },
     "metadata": {},
     "output_type": "display_data"
    }
   ],
   "source": [
    "import matplotlib.pyplot as plt\n",
    "\n",
    "plt.figure(figsize = (15, 8))\n",
    "plt.bar(x, y, color ='purple', width = 0.4)\n",
    "plt.ylabel(\"age\")\n",
    "plt.xlabel(\"people\")\n",
    "plt.title(\"bar plot\")\n",
    "plt.show()"
   ]
  },
  {
   "cell_type": "markdown",
   "metadata": {
    "id": "xddDZ2zCxTor"
   },
   "source": [
    "### Exercise 5.3: Obtain the number of received citations \n",
    "\n",
    "Using RDDs, write a PySpark program that obtains, from the cite75_99.txt file, the number of citations received by each patent. \n"
   ]
  },
  {
   "cell_type": "code",
   "execution_count": 13,
   "metadata": {},
   "outputs": [
    {
     "name": "stdout",
     "output_type": "stream",
     "text": [
      "Reading package lists... Done\n",
      "Building dependency tree... Done\n",
      "Reading state information... Done\n",
      "Suggested packages:\n",
      "  bzip2-doc\n",
      "The following NEW packages will be installed:\n",
      "  bzip2\n",
      "0 upgraded, 1 newly installed, 0 to remove and 0 not upgraded.\n",
      "Need to get 49.3 kB of archives.\n",
      "After this operation, 125 kB of additional disk space will be used.\n",
      "Get:1 http://deb.debian.org/debian bullseye/main amd64 bzip2 amd64 1.0.8-4 [49.3 kB]\n",
      "Fetched 49.3 kB in 1s (34.0 kB/s)\n",
      "debconf: delaying package configuration, since apt-utils is not installed\n",
      "Selecting previously unselected package bzip2.\n",
      "(Reading database ... 8860 files and directories currently installed.)\n",
      "Preparing to unpack .../bzip2_1.0.8-4_amd64.deb ...\n",
      "Unpacking bzip2 (1.0.8-4) ...\n",
      "Setting up bzip2 (1.0.8-4) ...\n"
     ]
    }
   ],
   "source": [
    "!apt-get install bzip2"
   ]
  },
  {
   "cell_type": "code",
   "execution_count": 3,
   "metadata": {},
   "outputs": [],
   "source": [
    "import os\n",
    "\n",
    "os.environ['DRIVE_DATA'] = './data' "
   ]
  },
  {
   "cell_type": "code",
   "execution_count": 14,
   "metadata": {},
   "outputs": [
    {
     "name": "stdout",
     "output_type": "stream",
     "text": [
      "./data/cite75_99.txt\n"
     ]
    }
   ],
   "source": [
    "!tar -cjvf $DRIVE_DATA/cite75_99.txt.tar.bz2 $DRIVE_DATA/cite75_99.txt"
   ]
  },
  {
   "cell_type": "code",
   "execution_count": 15,
   "metadata": {
    "id": "PmYIlZ0dCQ6x"
   },
   "outputs": [
    {
     "name": "stdout",
     "output_type": "stream",
     "text": [
      "2015-summary.csv       country_codes.txt       myscript.py\n",
      "apat63_99.txt\t       dfSE-partition.parquet  people.txt\n",
      "apat63_99.txt.tar.bz2  dfSE.json\t       quijote.txt\n",
      "books\t\t       dfSE.parquet\t       sw.json\n",
      "by-day\t\t       dfSE2.parquet\t       sw.txt\n",
      "cite75_99.txt\t       italianPosts.csv        syslog\n",
      "cite75_99.txt.tar.bz2  italianPosts.csv.bz2\n"
     ]
    }
   ],
   "source": [
    "!ls $DRIVE_DATA"
   ]
  },
  {
   "cell_type": "code",
   "execution_count": 2,
   "metadata": {},
   "outputs": [],
   "source": [
    "import os\n",
    "\n",
    "cite75_99_RDD = sc.textFile(os.environ[\"DRIVE_DATA\"] + \"cite75_99.txt\").repartition(15)"
   ]
  },
  {
   "cell_type": "code",
   "execution_count": 3,
   "metadata": {},
   "outputs": [
    {
     "name": "stderr",
     "output_type": "stream",
     "text": [
      "                                                                                \r"
     ]
    },
    {
     "data": {
      "text/plain": [
       "16522439"
      ]
     },
     "execution_count": 3,
     "metadata": {},
     "output_type": "execute_result"
    }
   ],
   "source": [
    "cite75_99_RDD.count()"
   ]
  },
  {
   "cell_type": "code",
   "execution_count": 4,
   "metadata": {},
   "outputs": [
    {
     "data": {
      "text/plain": [
       "['3858269,3528693', '3858270,1274165', '3858270,1377626']"
      ]
     },
     "execution_count": 4,
     "metadata": {},
     "output_type": "execute_result"
    }
   ],
   "source": [
    "cite75_99_RDD.take(3)"
   ]
  },
  {
   "cell_type": "code",
   "execution_count": 6,
   "metadata": {},
   "outputs": [],
   "source": [
    "cite_splited = cite75_99_RDD.map(lambda line: line.split(\",\")).map(lambda x: (x[1], x[0])) # split and reverse"
   ]
  },
  {
   "cell_type": "code",
   "execution_count": 7,
   "metadata": {},
   "outputs": [
    {
     "data": {
      "text/plain": [
       "[('3528693', '3858269'), ('1274165', '3858270'), ('1377626', '3858270')]"
      ]
     },
     "execution_count": 7,
     "metadata": {},
     "output_type": "execute_result"
    }
   ],
   "source": [
    "cite_splited.take(3)"
   ]
  },
  {
   "cell_type": "code",
   "execution_count": 8,
   "metadata": {},
   "outputs": [],
   "source": [
    "grouped_cite_tuples = cite_splited.groupBy(lambda x: x[0])"
   ]
  },
  {
   "cell_type": "code",
   "execution_count": 9,
   "metadata": {},
   "outputs": [],
   "source": [
    "cite_tuples_grouped = grouped_cite_tuples.mapValues(len)"
   ]
  },
  {
   "cell_type": "code",
   "execution_count": 10,
   "metadata": {},
   "outputs": [
    {
     "name": "stderr",
     "output_type": "stream",
     "text": [
      "                                                                                \r"
     ]
    },
    {
     "data": {
      "text/plain": [
       "[('2589703', 3), ('3489525', 23), ('3040672', 3)]"
      ]
     },
     "execution_count": 10,
     "metadata": {},
     "output_type": "execute_result"
    }
   ],
   "source": [
    "cite_tuples_grouped.take(3)"
   ]
  }
 ],
 "metadata": {
  "colab": {
   "collapsed_sections": [],
   "include_colab_link": true,
   "provenance": []
  },
  "kernelspec": {
   "display_name": "Python 3 (ipykernel)",
   "language": "python",
   "name": "python3"
  },
  "language_info": {
   "codemirror_mode": {
    "name": "ipython",
    "version": 3
   },
   "file_extension": ".py",
   "mimetype": "text/x-python",
   "name": "python",
   "nbconvert_exporter": "python",
   "pygments_lexer": "ipython3",
   "version": "3.10.9"
  },
  "vscode": {
   "interpreter": {
    "hash": "a787e6406bf092eb2049d701bc47c841b416364b10a99b955d113b582ea128e0"
   }
  }
 },
 "nbformat": 4,
 "nbformat_minor": 4
}
